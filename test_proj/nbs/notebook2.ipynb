{
    "cells": [
        {
            "cell_type": "markdown",
            "metadata": {},
            "source": [
                "# Notebook 2"
            ]
        },
        {
            "cell_type": "code",
            "execution_count": null,
            "metadata": {},
            "outputs": [],
            "source": [
                "#|default_exp notebook2"
            ]
        },
        {
            "cell_type": "code",
            "execution_count": null,
            "metadata": {},
            "outputs": [],
            "source": [
                "#|hide\n",
                "from nbdev.showdoc import *"
            ]
        },
        {
            "cell_type": "code",
            "execution_count": null,
            "metadata": {},
            "outputs": [
                {
                    "name": "stdout",
                    "output_type": "stream",
                    "text": [
                        "/Users/lukastk/dev-proj/nblite/test_proj/nbs/notebook2.ipynb\n",
                        "/Users/lukastk/dev-proj/nblite/test_proj/nbs/notebook1.ipynb\n",
                        "/Users/lukastk/dev-proj/nblite/test_proj/nbs/func_notebook.ipynb\n",
                        "/Users/lukastk/dev-proj/nblite/test_proj/nbs/_notebook6.ipynb\n",
                        "/Users/lukastk/dev-proj/nblite/test_proj/nbs/index.ipynb\n",
                        "/Users/lukastk/dev-proj/nblite/test_proj/nbs/submodule/notebook3.ipynb\n",
                        "/Users/lukastk/dev-proj/nblite/test_proj/nbs/folder/notebook4.ipynb\n",
                        "/Users/lukastk/dev-proj/nblite/test_proj/nbs/folder/subfolder/notebook7.ipynb\n",
                        "/Users/lukastk/dev-proj/nblite/test_proj/nbs/_scratch/notebook5.ipynb\n"
                    ]
                }
            ],
            "source": [
                "#|export\n",
                "from my_module.notebook1 import foo"
            ]
        },
        {
            "cell_type": "code",
            "execution_count": null,
            "metadata": {},
            "outputs": [],
            "source": [
                "#| export\n",
                "def bar():\n",
                "    foo()\n",
                "    print(\"world\")"
            ]
        }
    ],
    "metadata": {
        "language_info": {
            "codemirror_mode": {
                "name": "ipython",
                "version": 3
            },
            "file_extension": ".py",
            "mimetype": "text/x-python",
            "name": "python",
            "nbconvert_exporter": "python",
            "pygments_lexer": "ipython3",
            "version": "3.9.6"
        },
        "nblite_source_hash": "fb43887d71977c437f12a600b50b3ad3e6307e56702f81fd2fa836f48f494267"
    },
    "nbformat": 4,
    "nbformat_minor": 4
}