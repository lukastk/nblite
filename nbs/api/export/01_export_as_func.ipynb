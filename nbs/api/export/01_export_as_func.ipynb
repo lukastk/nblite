{
    "cells": [
        {
            "cell_type": "markdown",
            "metadata": {},
            "source": [
                "# export.export_as_func"
            ]
        },
        {
            "cell_type": "code",
            "execution_count": null,
            "metadata": {},
            "outputs": [],
            "source": [
                "#|default_exp export.export_as_func"
            ]
        },
        {
            "cell_type": "code",
            "execution_count": null,
            "metadata": {},
            "outputs": [],
            "source": [
                "#|hide\n",
                "import nblite; from nbdev.showdoc import show_doc; nblite.nbl_export()"
            ]
        },
        {
            "cell_type": "code",
            "execution_count": null,
            "metadata": {},
            "outputs": [],
            "source": [
                "#|export\n",
                "import re\n",
                "import tempfile\n",
                "import nbformat\n",
                "from pathlib import Path\n",
                "\n",
                "from nblite.export import convert_nb, get_nb_directives, lookup_directive, export_to_lib, get_nb_module_export_path"
            ]
        },
        {
            "cell_type": "code",
            "execution_count": null,
            "metadata": {},
            "outputs": [],
            "source": [
                "import nblite.export.export_as_func as this_module\n",
                "from nblite.export.export_as_func import extract_directive_string, get_nb_func_signature, get_nb_as_py_file, get_nb_func_header_content"
            ]
        },
        {
            "cell_type": "code",
            "execution_count": null,
            "metadata": {},
            "outputs": [
                {
                    "data": {
                        "text/markdown": [
                            "---\n",
                            "\n",
                            "### extract_directive_string\n",
                            "\n",
                            ">      extract_directive_string (code_str)\n",
                            "\n",
                            "*The pattern looks for a directive `#|set_func_signature` and returns the string that follows it.*"
                        ],
                        "text/plain": [
                            "---\n",
                            "\n",
                            "### extract_directive_string\n",
                            "\n",
                            ">      extract_directive_string (code_str)\n",
                            "\n",
                            "*The pattern looks for a directive `#|set_func_signature` and returns the string that follows it.*"
                        ]
                    },
                    "execution_count": null,
                    "metadata": {},
                    "output_type": "execute_result"
                }
            ],
            "source": [
                "#|hide\n",
                "show_doc(extract_directive_string)"
            ]
        },
        {
            "cell_type": "code",
            "execution_count": null,
            "metadata": {},
            "outputs": [],
            "source": [
                "#|exporti\n",
                "def extract_directive_string(code_str):\n",
                "    \"\"\"\n",
                "    The pattern looks for a directive `#|set_func_signature` and returns the string that follows it.\n",
                "    \"\"\"\n",
                "    # Pattern explanation:\n",
                "    # 1. Look for #|set_func_signature\n",
                "    # 2. Followed by any whitespace and newlines\n",
                "    # 3. Then match either:\n",
                "    #    - Triple quotes (\"\"\" or ''') with content and closing triple quotes\n",
                "    #    - Single quotes (' or \") with content and matching closing quote\n",
                "    pattern = r'#\\|set_func_signature\\s*\\n\\s*(?:\"\"\"(.*?)\"\"\"|\\'\\'\\'(.*?)\\'\\'\\'|\"([^\"]*?)\"|\\'([^\\']*?)\\')'\n",
                "    \n",
                "    # re.DOTALL makes . match newlines too\n",
                "    match = re.search(pattern, code_str, re.DOTALL)\n",
                "    \n",
                "    if not match:\n",
                "        return None\n",
                "        \n",
                "    # Return the first non-None group (the one that matched)\n",
                "    return next((group.strip() for group in match.groups() if group is not None), None)"
            ]
        },
        {
            "cell_type": "code",
            "execution_count": null,
            "metadata": {},
            "outputs": [
                {
                    "name": "stdout",
                    "output_type": "stream",
                    "text": [
                        "Test case 1:\n",
                        "Result: def nb_func():\n",
                        "\n",
                        "Test case 2:\n",
                        "Result: def another_func():\n",
                        "\n",
                        "Test case 3:\n",
                        "Result: def single_line_func()\n",
                        "\n",
                        "Test case 4:\n",
                        "Result: def another_single_line_func(x, y)\n",
                        "\n"
                    ]
                }
            ],
            "source": [
                "# Test cases\n",
                "test_cases = [\n",
                "    # Triple double quotes, multiline\n",
                "    '''\n",
                "    #|export_as_func true\n",
                "    #|set_func_signature\n",
                "    \"\"\"\n",
                "    def nb_func():\n",
                "    \"\"\"\n",
                "    ''',\n",
                "    \n",
                "    # Triple single quotes, multiline\n",
                "    \"\"\"\n",
                "    #|export_as_func true\n",
                "    #|set_func_signature\n",
                "    '''\n",
                "    def another_func():\n",
                "    '''\n",
                "    \"\"\",\n",
                "    \n",
                "    # Single double quotes, single line\n",
                "    '''\n",
                "    #|export_as_func true\n",
                "    #|set_func_signature\n",
                "    \"def single_line_func()\"\n",
                "    ''',\n",
                "    \n",
                "    # Single quotes, single line\n",
                "    '''\n",
                "    #|export_as_func true\n",
                "    #|set_func_signature\n",
                "    'def another_single_line_func(x, y)'\n",
                "    '''\n",
                "]\n",
                "\n",
                "for i, test in enumerate(test_cases, 1):\n",
                "    print(f\"Test case {i}:\")\n",
                "    print(f\"Result: {extract_directive_string(test)}\\n\")"
            ]
        },
        {
            "cell_type": "code",
            "execution_count": null,
            "metadata": {},
            "outputs": [
                {
                    "data": {
                        "text/markdown": [
                            "---\n",
                            "\n",
                            "### get_nb_func_signature\n",
                            "\n",
                            ">      get_nb_func_signature (nb_path:str)\n",
                            "\n",
                            "*Extracts the function signature from a notebook,\n",
                            "by looking for the directive `#|set_func_signature` in the notebook.*"
                        ],
                        "text/plain": [
                            "---\n",
                            "\n",
                            "### get_nb_func_signature\n",
                            "\n",
                            ">      get_nb_func_signature (nb_path:str)\n",
                            "\n",
                            "*Extracts the function signature from a notebook,\n",
                            "by looking for the directive `#|set_func_signature` in the notebook.*"
                        ]
                    },
                    "execution_count": null,
                    "metadata": {},
                    "output_type": "execute_result"
                }
            ],
            "source": [
                "#|hide\n",
                "show_doc(get_nb_func_signature)"
            ]
        },
        {
            "cell_type": "code",
            "execution_count": null,
            "metadata": {},
            "outputs": [],
            "source": [
                "#|exporti\n",
                "def get_nb_func_signature(nb_path: str):\n",
                "    \"\"\"\n",
                "    Extracts the function signature from a notebook,\n",
                "    by looking for the directive `#|set_func_signature` in the notebook.\n",
                "    \"\"\"\n",
                "    func_sig = None\n",
                "    \n",
                "    with tempfile.NamedTemporaryFile(suffix='.ipynb', delete=True) as tmp_nb:\n",
                "        convert_nb(nb_path, tmp_nb.name)\n",
                "        nb_path = tmp_nb.name\n",
                "    \n",
                "        with open(nb_path, 'r') as f:\n",
                "            nb = nbformat.read(f, as_version=4)\n",
                "        \n",
                "\n",
                "        for cell in nb['cells']:\n",
                "            if cell['cell_type'] == 'code':\n",
                "                code = cell['source']\n",
                "            else: continue\n",
                "            \n",
                "            for code_line in code.split('\\n'):\n",
                "                if not code_line.startswith('#|'): continue\n",
                "                _directive_str = code_line.split('#|', 1)[1]\n",
                "                directive = _directive_str.split()[0]\n",
                "                directive_args = _directive_str[len(directive):].strip()\n",
                "                if directive == 'set_func_signature':\n",
                "                    func_sig = extract_directive_string(code)\n",
                "        \n",
                "    return func_sig"
            ]
        },
        {
            "cell_type": "code",
            "execution_count": null,
            "metadata": {},
            "outputs": [
                {
                    "name": "stdout",
                    "output_type": "stream",
                    "text": [
                        "@a_decorator\n",
                        "def nb_func():\n"
                    ]
                }
            ],
            "source": [
                "root_path = Path('../../../test_proj/')\n",
                "func_sig = get_nb_func_signature(root_path / 'nbs/func_notebook.ipynb')\n",
                "print(func_sig)"
            ]
        },
        {
            "cell_type": "code",
            "execution_count": null,
            "metadata": {},
            "outputs": [
                {
                    "data": {
                        "text/markdown": [
                            "---\n",
                            "\n",
                            "### get_nb_as_py_file\n",
                            "\n",
                            ">      get_nb_as_py_file (nb_path:str, lib_name:str, nb_format=None)"
                        ],
                        "text/plain": [
                            "---\n",
                            "\n",
                            "### get_nb_as_py_file\n",
                            "\n",
                            ">      get_nb_as_py_file (nb_path:str, lib_name:str, nb_format=None)"
                        ]
                    },
                    "execution_count": null,
                    "metadata": {},
                    "output_type": "execute_result"
                }
            ],
            "source": [
                "show_doc(get_nb_as_py_file)"
            ]
        },
        {
            "cell_type": "code",
            "execution_count": null,
            "metadata": {},
            "outputs": [],
            "source": [
                "#|exporti\n",
                "def get_nb_as_py_file(nb_path: str, lib_name: str, nb_format=None):\n",
                "    with tempfile.TemporaryDirectory() as tmp_dir:  # Create a temporary directory instead\n",
                "        temp_lib_path = Path(tmp_dir) / lib_name\n",
                "        temp_lib_path.mkdir(parents=True, exist_ok=True)\n",
                "        export_to_lib(nb_path, temp_lib_path, nb_format)\n",
                "        py_file_path = get_nb_module_export_path(nb_path, temp_lib_path)\n",
                "        py_file_content = Path(py_file_path).read_text()\n",
                "        return py_file_content\n",
                "    raise Exception('Failed to get the content of the notebook as a python file')"
            ]
        },
        {
            "cell_type": "code",
            "execution_count": null,
            "metadata": {},
            "outputs": [
                {
                    "name": "stdout",
                    "output_type": "stream",
                    "text": [
                        "# AUTOGENERATED! DO NOT EDIT! File to edit: ../../../../../../../../Users/lukastk/dev-proj/nblite/test_proj/nbs/func_notebook.ipynb.\n",
                        "\n",
                        "# %% auto 0\n",
                        "__all__ = []\n",
                        "\n",
                        "# %% ../../../../../../../../Users/lukastk/dev-proj/nblite/test_proj/nbs/func_notebook.ipynb 4\n",
                        "print(\"This will be in the body of the function.\")\n",
                        "\n"
                    ]
                }
            ],
            "source": [
                "py_content = get_nb_as_py_file(root_path / 'nbs' / 'func_notebook.ipynb', 'my_module')\n",
                "print(py_content)"
            ]
        },
        {
            "cell_type": "code",
            "execution_count": null,
            "metadata": {},
            "outputs": [
                {
                    "data": {
                        "text/markdown": [
                            "---\n",
                            "\n",
                            "### get_nb_func_header_content\n",
                            "\n",
                            ">      get_nb_func_header_content (nb_path:str, nb_format=None)\n",
                            "\n",
                            "*Get the content of the notebook as a python file*"
                        ],
                        "text/plain": [
                            "---\n",
                            "\n",
                            "### get_nb_func_header_content\n",
                            "\n",
                            ">      get_nb_func_header_content (nb_path:str, nb_format=None)\n",
                            "\n",
                            "*Get the content of the notebook as a python file*"
                        ]
                    },
                    "execution_count": null,
                    "metadata": {},
                    "output_type": "execute_result"
                }
            ],
            "source": [
                "show_doc(get_nb_func_header_content)"
            ]
        },
        {
            "cell_type": "code",
            "execution_count": null,
            "metadata": {},
            "outputs": [],
            "source": [
                "#|exporti\n",
                "def get_nb_func_header_content(nb_path: str, nb_format=None):\n",
                "    \"\"\"\n",
                "    Get the content of the notebook as a python file\n",
                "    \"\"\"\n",
                "    directives = get_nb_directives(nb_path, nb_format)\n",
                "    header_codes = [f\"# %%\\n{d['cell']['source_without_directives']}\" for d in directives if d['directive'] == 'func_header_export']\n",
                "    return \"\\n\\n\".join(header_codes)"
            ]
        },
        {
            "cell_type": "code",
            "execution_count": null,
            "metadata": {},
            "outputs": [
                {
                    "name": "stdout",
                    "output_type": "stream",
                    "text": [
                        "# %%\n",
                        "def a_decorator(func):\n",
                        "    def wrapper(*args, **kwargs):\n",
                        "        print(\"Function is being called\")\n",
                        "        result = func(*args, **kwargs)\n",
                        "        print(\"Function has been called\")\n",
                        "        return result\n",
                        "    return wrapper\n"
                    ]
                }
            ],
            "source": [
                "py_header_content = get_nb_func_header_content(root_path / 'nbs' / 'func_notebook.ipynb')\n",
                "print(py_header_content)"
            ]
        },
        {
            "cell_type": "code",
            "execution_count": null,
            "metadata": {},
            "outputs": [
                {
                    "data": {
                        "text/markdown": [
                            "---\n",
                            "\n",
                            "### export_to_lib_as_func\n",
                            "\n",
                            ">      export_to_lib_as_func (nb_path:str, lib_path:str, nb_format:str=None)"
                        ],
                        "text/plain": [
                            "---\n",
                            "\n",
                            "### export_to_lib_as_func\n",
                            "\n",
                            ">      export_to_lib_as_func (nb_path:str, lib_path:str, nb_format:str=None)"
                        ]
                    },
                    "execution_count": null,
                    "metadata": {},
                    "output_type": "execute_result"
                }
            ],
            "source": [
                "show_doc(this_module.export_to_lib_as_func)"
            ]
        },
        {
            "cell_type": "code",
            "execution_count": null,
            "metadata": {},
            "outputs": [],
            "source": [
                "#|export\n",
                "def export_to_lib_as_func(nb_path: str, lib_path: str, nb_format: str = None):\n",
                "    # Get the function signature from the notebook\n",
                "    \n",
                "    directives = get_nb_directives(nb_path, nb_format)\n",
                "    export_as_func_directive = lookup_directive(directives, 'set_func_signature')\n",
                "    cell_code = export_as_func_directive['cell']['source'] if export_as_func_directive is not None else ''\n",
                "    func_sig = extract_directive_string(cell_code)\n",
                "    func_sig = func_sig if func_sig is not None else 'def main():'\n",
                "    \n",
                "    # Get the content of the notebook as a python file\n",
                "    \n",
                "    lib_name = Path(lib_path).stem\n",
                "    py_file_content = get_nb_as_py_file(nb_path, lib_name, nb_format)\n",
                "    \n",
                "    # Get the function header content\n",
                "    header_content = get_nb_func_header_content(nb_path, nb_format)\n",
                "    \n",
                "    # Construct the function\n",
                "    \n",
                "    first_line = py_file_content.split('\\n')[0] # The first line contains the 'AUTOGENERATED!...' comment\n",
                "    # Get the content after the __all__ line\n",
                "    py_file_content = py_file_content.split('\\n# %% auto 0', 1)[1]\n",
                "    py_file_content = py_file_content.split('\\n', 2)[2].strip()\n",
                "    \n",
                "    func_body = \"\\n\".join([f\"    {l}\" for l in py_file_content.split('\\n')])\n",
                "    \n",
                "    py_func_file_content = f\"\"\"\n",
                "{first_line}\n",
                "\n",
                "{header_content}\n",
                "\n",
                "{func_sig}\n",
                "{func_body}\n",
                "    \"\"\".strip()\n",
                "\n",
                "    # Export to the library\n",
                "    py_file_path = get_nb_module_export_path(nb_path, lib_path)\n",
                "    Path(py_file_path).parent.mkdir(parents=True, exist_ok=True)\n",
                "    with open(py_file_path, 'w') as f:\n",
                "        f.write(py_func_file_content)"
            ]
        },
        {
            "cell_type": "code",
            "execution_count": null,
            "metadata": {},
            "outputs": [],
            "source": [
                "export_to_lib_as_func(root_path / 'nbs' / 'func_notebook.ipynb', root_path / 'my_module');"
            ]
        }
    ],
    "metadata": {},
    "nbformat": 4,
    "nbformat_minor": 2
}