{
    "cells": [
        {
            "cell_type": "markdown",
            "metadata": {},
            "source": [
                "# const"
            ]
        },
        {
            "cell_type": "code",
            "execution_count": null,
            "metadata": {},
            "outputs": [],
            "source": [
                "#|default_exp const"
            ]
        },
        {
            "cell_type": "code",
            "execution_count": null,
            "metadata": {},
            "outputs": [],
            "source": [
                "#|hide\n",
                "import nblite; from nblite import show_doc; nblite.nbl_export()"
            ]
        },
        {
            "cell_type": "code",
            "execution_count": null,
            "metadata": {},
            "outputs": [],
            "source": [
                "#|export\n",
                "from importlib import resources"
            ]
        },
        {
            "cell_type": "code",
            "execution_count": null,
            "metadata": {},
            "outputs": [],
            "source": [
                "#|export\n",
                "nblite_config_file_name = \"nblite.toml\"\n",
                "\n",
                "format_to_file_exts = {\n",
                "    'module' : 'py',\n",
                "    'ipynb' : 'ipynb',\n",
                "    'percent' : 'pct.py',\n",
                "    'light' : 'lgt.py',\n",
                "    'sphinx' : 'spx.py',\n",
                "    'myst' : 'myst.md',\n",
                "    'pandoc' : 'pandoc.md',\n",
                "}\n",
                "\n",
                "file_exts_to_format = {v: k for k, v in format_to_file_exts.items()}\n",
                "\n",
                "nb_formats = list(format_to_file_exts.keys()) + ['module']\n",
                "\n",
                "format_to_jupytext_format = {\n",
                "    'module' : 'py',\n",
                "    'ipynb' : 'ipynb',\n",
                "    'percent' : 'py:percent',\n",
                "    'light' : 'py:light',\n",
                "    'sphinx' : 'py:sphinx',\n",
                "    'myst' : 'md:myst',\n",
                "    'mpandoc' : 'md:pandoc',\n",
                "}\n",
                "\n",
                "code_loc_key_to_default_formats = {\n",
                "    'nbs': 'ipynb',\n",
                "    'pts': 'percent',\n",
                "    'test_nbs': 'ipynb',\n",
                "    'test_pts': 'percent',\n",
                "    'lib': 'module',\n",
                "    'test_lib': 'module',\n",
                "}\n",
                "\n",
                "DISABLE_NBLITE_EXPORT_ENV_VAR = \"DISABLE_NBLITE_EXPORT\""
            ]
        },
        {
            "cell_type": "code",
            "execution_count": null,
            "metadata": {},
            "outputs": [],
            "source": [
                "#|export\n",
                "nblite_assets_path = resources.files(\"nblite\").joinpath(\"assets\")"
            ]
        }
    ],
    "metadata": {},
    "nbformat": 4,
    "nbformat_minor": 2
}