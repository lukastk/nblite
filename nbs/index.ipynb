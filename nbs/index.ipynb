{
    "cells": [
        {
            "cell_type": "markdown",
            "metadata": {},
            "source": [
                "# nblite\n",
                "\n",
                "> "
            ]
        },
        {
            "cell_type": "markdown",
            "metadata": {},
            "source": [
                "`nblite` is a wrapper around [`nbdev`](https://github.com/AnswerDotAI/nbdev)"
            ]
        }
    ],
    "metadata": {},
    "nbformat": 4,
    "nbformat_minor": 4
}