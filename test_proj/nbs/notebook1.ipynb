{
    "cells": [
        {
            "cell_type": "markdown",
            "metadata": {},
            "source": [
                "# Notebook 1"
            ]
        },
        {
            "cell_type": "code",
            "execution_count": null,
            "metadata": {},
            "outputs": [],
            "source": [
                "#|default_exp notebook1"
            ]
        },
        {
            "cell_type": "code",
            "execution_count": null,
            "metadata": {},
            "outputs": [],
            "source": [
                "#|hide\n",
                "from nbdev.showdoc import *"
            ]
        },
        {
            "cell_type": "code",
            "execution_count": null,
            "metadata": {},
            "outputs": [],
            "source": [
                "#|export\n",
                "def foo():\n",
                "    print(\"Hello\")"
            ]
        },
        {
            "cell_type": "code",
            "execution_count": null,
            "metadata": {},
            "outputs": [],
            "source": [
                "a = 1"
            ]
        },
        {
            "cell_type": "code",
            "execution_count": null,
            "metadata": {},
            "outputs": [],
            "source": [
                "b = 2"
            ]
        },
        {
            "cell_type": "code",
            "execution_count": null,
            "metadata": {},
            "outputs": [],
            "source": [
                "#|eval: false\n",
                "# Will not be executed by `nbl fill`\n",
                "a + b"
            ]
        },
        {
            "cell_type": "code",
            "execution_count": null,
            "metadata": {},
            "outputs": [],
            "source": [
                "#|skip_evals\n",
                "# Anything below this cell will not be executed by `nbl fill`, until #|skip_evals_stop is encountered"
            ]
        },
        {
            "cell_type": "code",
            "execution_count": null,
            "metadata": {},
            "outputs": [],
            "source": [
                "1+1"
            ]
        },
        {
            "cell_type": "code",
            "execution_count": null,
            "metadata": {},
            "outputs": [],
            "source": [
                "#|skip_evals_stop"
            ]
        },
        {
            "cell_type": "code",
            "execution_count": null,
            "metadata": {},
            "outputs": [
                {
                    "data": {
                        "text/plain": [
                            "2"
                        ]
                    },
                    "execution_count": null,
                    "metadata": {},
                    "output_type": "execute_result"
                }
            ],
            "source": [
                "# This cell will be executed by `nbl fill`\n",
                "1+1"
            ]
        },
        {
            "cell_type": "markdown",
            "metadata": {},
            "source": [
                "Testing whether non-exported cells with imports and code execution are handled correctly"
            ]
        },
        {
            "cell_type": "code",
            "execution_count": null,
            "metadata": {},
            "outputs": [
                {
                    "name": "stdout",
                    "output_type": "stream",
                    "text": [
                        "/Users/lukastk/dev-proj/nblite/test_proj/nbs/notebook2.ipynb\n",
                        "/Users/lukastk/dev-proj/nblite/test_proj/nbs/notebook1.ipynb\n",
                        "/Users/lukastk/dev-proj/nblite/test_proj/nbs/func_notebook.ipynb\n",
                        "/Users/lukastk/dev-proj/nblite/test_proj/nbs/_notebook6.ipynb\n",
                        "/Users/lukastk/dev-proj/nblite/test_proj/nbs/index.ipynb\n",
                        "/Users/lukastk/dev-proj/nblite/test_proj/nbs/submodule/notebook3.ipynb\n",
                        "/Users/lukastk/dev-proj/nblite/test_proj/nbs/folder/notebook4.ipynb\n",
                        "/Users/lukastk/dev-proj/nblite/test_proj/nbs/folder/subfolder/notebook7.ipynb\n",
                        "/Users/lukastk/dev-proj/nblite/test_proj/nbs/_scratch/notebook5.ipynb\n"
                    ]
                }
            ],
            "source": [
                "from pathlib import Path\n",
                "print(\"\\n\".join([str(p) for p in Path.cwd().glob(\"**/*.ipynb\")]))"
            ]
        },
        {
            "cell_type": "markdown",
            "metadata": {},
            "source": [
                "Testing whether exported cells with imports and code execution are handled correctly"
            ]
        },
        {
            "cell_type": "code",
            "execution_count": null,
            "metadata": {},
            "outputs": [
                {
                    "name": "stdout",
                    "output_type": "stream",
                    "text": [
                        "/Users/lukastk/dev-proj/nblite/test_proj/nbs/notebook2.ipynb\n",
                        "/Users/lukastk/dev-proj/nblite/test_proj/nbs/notebook1.ipynb\n",
                        "/Users/lukastk/dev-proj/nblite/test_proj/nbs/func_notebook.ipynb\n",
                        "/Users/lukastk/dev-proj/nblite/test_proj/nbs/_notebook6.ipynb\n",
                        "/Users/lukastk/dev-proj/nblite/test_proj/nbs/index.ipynb\n",
                        "/Users/lukastk/dev-proj/nblite/test_proj/nbs/submodule/notebook3.ipynb\n",
                        "/Users/lukastk/dev-proj/nblite/test_proj/nbs/folder/notebook4.ipynb\n",
                        "/Users/lukastk/dev-proj/nblite/test_proj/nbs/folder/subfolder/notebook7.ipynb\n",
                        "/Users/lukastk/dev-proj/nblite/test_proj/nbs/_scratch/notebook5.ipynb\n"
                    ]
                }
            ],
            "source": [
                "#|export\n",
                "from pathlib import Path\n",
                "print(\"\\n\".join([str(p) for p in Path.cwd().glob(\"**/*.ipynb\")]))"
            ]
        }
    ],
    "metadata": {
        "language_info": {
            "name": "python"
        }
    },
    "nbformat": 4,
    "nbformat_minor": 4
}
