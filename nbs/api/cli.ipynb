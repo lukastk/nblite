{
 "cells": [
  {
   "cell_type": "markdown",
   "metadata": {},
   "source": [
    "# cli"
   ]
  },
  {
   "cell_type": "code",
   "execution_count": null,
   "metadata": {},
   "outputs": [],
   "source": [
    "#|default_exp cli"
   ]
  },
  {
   "cell_type": "code",
   "execution_count": null,
   "metadata": {},
   "outputs": [],
   "source": [
    "#|hide\n",
    "import nbdev; nbdev.nbdev_export()"
   ]
  },
  {
   "cell_type": "code",
   "execution_count": null,
   "metadata": {},
   "outputs": [],
   "source": [
    "#|hide\n",
    "from nbdev.showdoc import show_doc"
   ]
  },
  {
   "cell_type": "code",
   "execution_count": null,
   "metadata": {},
   "outputs": [],
   "source": [
    "#|export\n",
    "import typer\n",
    "from typer import Argument, Option\n",
    "from typing_extensions import Annotated\n",
    "from types import FunctionType\n",
    "from typing import Callable, Union, List\n",
    "import inspect\n",
    "import re\n",
    "from pathlib import Path\n",
    "import tempfile\n",
    "import importlib.resources as resources\n",
    "import sys\n",
    "\n",
    "from nblite.config import get_project_root_and_config\n",
    "from nblite.export import convert_nb\n",
    "from nblite.utils import get_unclean_nbs\n",
    "from nblite.git import get_unstaged_nb_twins"
   ]
  },
  {
   "cell_type": "code",
   "execution_count": null,
   "metadata": {},
   "outputs": [],
   "source": [
    "import nblite.cli"
   ]
  },
  {
   "cell_type": "markdown",
   "metadata": {},
   "source": [
    "# Helper functions"
   ]
  },
  {
   "cell_type": "code",
   "execution_count": null,
   "metadata": {},
   "outputs": [
    {
     "data": {
      "text/markdown": [
       "---\n",
       "\n",
       "### parse_docstring\n",
       "\n",
       ">      parse_docstring (docstring:str)\n",
       "\n",
       "*Parses a docstring to extract argument descriptions and return value description.\n",
       "\n",
       "Args:\n",
       "    docstring: The docstring to parse.\n",
       "\n",
       "Returns:\n",
       "    A tuple containing three elements: \n",
       "    1. The function summary as a string.\n",
       "    2. A dictionary of argument descriptions.\n",
       "    3. The return value description as a string.*"
      ],
      "text/plain": [
       "---\n",
       "\n",
       "### parse_docstring\n",
       "\n",
       ">      parse_docstring (docstring:str)\n",
       "\n",
       "*Parses a docstring to extract argument descriptions and return value description.\n",
       "\n",
       "Args:\n",
       "    docstring: The docstring to parse.\n",
       "\n",
       "Returns:\n",
       "    A tuple containing three elements: \n",
       "    1. The function summary as a string.\n",
       "    2. A dictionary of argument descriptions.\n",
       "    3. The return value description as a string.*"
      ]
     },
     "execution_count": null,
     "metadata": {},
     "output_type": "execute_result"
    }
   ],
   "source": [
    "show_doc(nblite.cli.parse_docstring)"
   ]
  },
  {
   "cell_type": "code",
   "execution_count": null,
   "metadata": {},
   "outputs": [],
   "source": [
    "#|exporti\n",
    "def parse_docstring(docstring: str) -> tuple:\n",
    "    \"\"\"Parses a docstring to extract argument descriptions and return value description.\n",
    "\n",
    "    Args:\n",
    "        docstring: The docstring to parse.\n",
    "\n",
    "    Returns:\n",
    "        A tuple containing three elements: \n",
    "        1. The function summary as a string.\n",
    "        2. A dictionary of argument descriptions.\n",
    "        3. The return value description as a string.\n",
    "    \"\"\"\n",
    "    _docstring = docstring.split('Args:', 1)\n",
    "    func_summary, _docstring = _docstring if len(_docstring) == 2 else (docstring, '')\n",
    "    arg_docstring, return_docstring = _docstring.split('Returns:', 1) if 'Returns:' in _docstring else (_docstring, '')\n",
    "    \n",
    "    # Use regex to find argument descriptions\n",
    "    pattern = r'(\\w+): (.+)'\n",
    "    matches = re.findall(pattern, arg_docstring)\n",
    "    args = {arg: desc.strip() for arg, desc in matches}\n",
    "    \n",
    "    return func_summary.strip(), args, return_docstring.strip()"
   ]
  },
  {
   "cell_type": "code",
   "execution_count": null,
   "metadata": {},
   "outputs": [
    {
     "name": "stdout",
     "output_type": "stream",
     "text": [
      "Parses a docstring to extract argument descriptions and return value description.\n",
      "{'docstring': 'The docstring to parse.'}\n",
      "A tuple containing three elements: \n",
      "        1. The function summary as a string.\n",
      "        2. A dictionary of argument descriptions.\n",
      "        3. The return value description as a string.\n"
     ]
    }
   ],
   "source": [
    "func_summary, arg_docs, return_doc = parse_docstring(parse_docstring.__doc__)\n",
    "print(func_summary)\n",
    "print(arg_docs)\n",
    "print(return_doc)"
   ]
  },
  {
   "cell_type": "code",
   "execution_count": null,
   "metadata": {},
   "outputs": [
    {
     "data": {
      "text/markdown": [
       "---\n",
       "\n",
       "### derive_cli_meta\n",
       "\n",
       ">      derive_cli_meta (source_func:function)\n",
       "\n",
       "*A decorator factory that transfers docstring and argument annotations from a source functio and turns\n",
       "them into a typer annotations for the target function.\n",
       "\n",
       "Args:\n",
       "    source_func: The function from which to derive the docstring and argument annotations.*"
      ],
      "text/plain": [
       "---\n",
       "\n",
       "### derive_cli_meta\n",
       "\n",
       ">      derive_cli_meta (source_func:function)\n",
       "\n",
       "*A decorator factory that transfers docstring and argument annotations from a source functio and turns\n",
       "them into a typer annotations for the target function.\n",
       "\n",
       "Args:\n",
       "    source_func: The function from which to derive the docstring and argument annotations.*"
      ]
     },
     "execution_count": null,
     "metadata": {},
     "output_type": "execute_result"
    }
   ],
   "source": [
    "show_doc(nblite.cli.derive_cli_meta)"
   ]
  },
  {
   "cell_type": "code",
   "execution_count": null,
   "metadata": {},
   "outputs": [],
   "source": [
    "#|export\n",
    "def derive_cli_meta(source_func: FunctionType) -> Callable:\n",
    "    \"\"\"\n",
    "    A decorator factory that transfers docstring and argument annotations from a source functio and turns\n",
    "    them into a typer annotations for the target function.\n",
    "\n",
    "    Args:\n",
    "        source_func: The function from which to derive the docstring and argument annotations.\n",
    "    \"\"\"\n",
    "    def decorator(target_func: FunctionType) -> FunctionType:\n",
    "        func_summary, arg_docs, return_doc = parse_docstring(source_func.__doc__)\n",
    "        target_func.__doc__ = func_summary\n",
    "        if return_doc.strip():\n",
    "            target_func.__doc__ += f\"\\n\\nReturns:\\n{return_doc}\"\n",
    "        target_func.__doc__ = inspect.cleandoc(\"\\n\".join([l.strip() for l in target_func.__doc__.split(\"\\n\") if l.strip()]))\n",
    "        typer_annotations = {\n",
    "            arg_key: Annotated[arg_type, Argument(help=arg_docs[arg_key] if arg_key in arg_docs else '')]\n",
    "            for arg_key, arg_type in source_func.__annotations__.items()\n",
    "        }\n",
    "        target_func.__annotations__.update(typer_annotations)\n",
    "        return target_func\n",
    "    return decorator"
   ]
  },
  {
   "cell_type": "markdown",
   "metadata": {},
   "source": [
    "# Define CLI"
   ]
  },
  {
   "cell_type": "code",
   "execution_count": null,
   "metadata": {},
   "outputs": [],
   "source": [
    "#|export\n",
    "app = typer.Typer(invoke_without_command=True)\n",
    "\n",
    "@app.callback()\n",
    "def entrypoint(ctx: typer.Context):\n",
    "    # If no subcommand is provided, show the help\n",
    "    if ctx.invoked_subcommand is None:\n",
    "        typer.echo(ctx.get_help())\n",
    "            \n",
    "def main():\n",
    "    app()"
   ]
  },
  {
   "cell_type": "code",
   "execution_count": null,
   "metadata": {},
   "outputs": [],
   "source": [
    "#|export\n",
    "from nblite.export import export, clean_ipynb, fill_ipynb"
   ]
  },
  {
   "cell_type": "markdown",
   "metadata": {},
   "source": [
    "## `nbl export`"
   ]
  },
  {
   "cell_type": "code",
   "execution_count": null,
   "metadata": {},
   "outputs": [],
   "source": [
    "#|export\n",
    "@app.command(name='export')\n",
    "@derive_cli_meta(export)\n",
    "def cli_export(root_folder=None, config_path= None, export_pipeline= None):\n",
    "    export(root_folder, config_path, export_pipeline)"
   ]
  },
  {
   "cell_type": "markdown",
   "metadata": {},
   "source": [
    "## `nbl init`"
   ]
  },
  {
   "cell_type": "code",
   "execution_count": null,
   "metadata": {},
   "outputs": [],
   "source": [
    "#|export\n",
    "@app.command(name='init')\n",
    "def cli_init(\n",
    "    module_name: Annotated[Union[str,None], Option(help=\"The name of the module to create\")] = None,\n",
    "    root_path: Annotated[Union[str,None], Option(help=\"The root path of the project\")] = None,\n",
    "    use_defaults: Annotated[bool, Option(help=\"Use default values for module name and root path\")] = False,\n",
    "):\n",
    "    \"\"\"\n",
    "    Initialize a new nblite project.\n",
    "    \"\"\"\n",
    "    if module_name is None:\n",
    "        default_module_name = Path('.').resolve().name\n",
    "        if not use_defaults:\n",
    "            module_name = typer.prompt(f\"Enter the name of the module to create\", default=default_module_name)\n",
    "        else:\n",
    "            module_name = default_module_name\n",
    "    \n",
    "    if root_path is None:\n",
    "        root_path = Path('.').resolve()\n",
    "    \n",
    "    nblite_toml_template = (resources.files(\"nblite\") / \"defaults\" / \"default_nblite.toml\").read_text()\n",
    "    nblite_toml_str = nblite_toml_template.format(module_name=module_name)\n",
    "    \n",
    "    toml_path = root_path / 'nblite.toml'\n",
    "    if toml_path.exists():\n",
    "        typer.echo(f\"Error: {toml_path} already exists\")\n",
    "        raise typer.Abort()\n",
    "    \n",
    "    with open(toml_path, 'w') as f:\n",
    "        f.write(nblite_toml_str)\n",
    "        \n",
    "    typer.echo(f\"Created {toml_path}.\")\n",
    "    typer.echo()\n",
    "    typer.echo(\"Run `nbl new {CODE_LOCATION}/{NB_NAME}.{NB_FILE_EXT}` to create a new notebook. E.g. `nbl new nbs/main.ipynb`.\")"
   ]
  },
  {
   "cell_type": "markdown",
   "metadata": {},
   "source": [
    "## `nbl new`"
   ]
  },
  {
   "cell_type": "code",
   "execution_count": null,
   "metadata": {},
   "outputs": [],
   "source": [
    "#|export\n",
    "@app.command(name='new')\n",
    "def cli_new(\n",
    "    nb_path: Annotated[str, Argument(help=\"The notebook to create.\")],\n",
    "    mod_name: Annotated[Union[str,None], Option(\"-n\", \"--name\", help=\"The name of the exported module. Defaults to the notebook path relative to the code location root.\")] = None,\n",
    "    nb_title: Annotated[Union[str,None], Option(\"-t\", \"--title\", help=\"The display title of the notebook. Defaults to the notebook path stem.\")] = None,\n",
    "    root_path: Annotated[Union[str,None], Option(\"-r\", \"--root\", help=\"The root path of the project. If not provided, the project root will be determined by searching for a nblite.toml file.\")] = None,\n",
    "):\n",
    "    \"Create a new notebook in a code location.\"\n",
    "    nb_path = Path(nb_path).resolve()\n",
    "    root_path, config = get_project_root_and_config(root_path)\n",
    "\n",
    "    if nb_title is None:\n",
    "        nb_title = nb_path.stem\n",
    "\n",
    "    nb_format = None\n",
    "    for loc in config.code_locations.values():\n",
    "        if nb_path.is_relative_to(root_path / loc.path):\n",
    "            nb_format = loc.format\n",
    "            if not nb_path.name.endswith(loc.file_ext):\n",
    "                nb_path = Path(nb_path.as_posix() + '.' + loc.file_ext)\n",
    "            if mod_name is None:\n",
    "                rel_path = str(nb_path.relative_to(root_path / loc.path).parent)\n",
    "                if rel_path == '.':\n",
    "                    mod_name = nb_path.stem\n",
    "                else:\n",
    "                    mod_name = rel_path.replace('/', '.') + '.' + nb_path.stem\n",
    "            break\n",
    "\n",
    "    if nb_format is None:\n",
    "        typer.echo(f\"Error: '{nb_path}' is not inside any code location.\")\n",
    "        raise typer.Abort()\n",
    "\n",
    "    if nb_path.exists():\n",
    "        typer.echo(f\"Error: '{nb_path}' already exists.\")\n",
    "        raise typer.Abort()\n",
    "\n",
    "    with tempfile.NamedTemporaryFile(suffix='.pct.py') as tmp_nb:\n",
    "        pct_content = (resources.files(\"nblite\") / \"defaults\" / \"default_nb.pct.py_\").read_text().format(nb_title=nb_title, mod_name=mod_name)\n",
    "        tmp_nb.write(pct_content.encode())\n",
    "        tmp_nb.flush()\n",
    "        nb_path.parent.mkdir(parents=True, exist_ok=True)\n",
    "        convert_nb(tmp_nb.name, nb_path, nb_format=\"percent\", dest_format=nb_format)\n",
    "        \n",
    "    typer.echo(f\"Created {nb_path}\")"
   ]
  },
  {
   "cell_type": "code",
   "execution_count": null,
   "metadata": {},
   "outputs": [
    {
     "name": "stdout",
     "output_type": "stream",
     "text": [
      "Created /Users/lukastk/dev-proj/nblite/test_proj/nbs/test.ipynb\n"
     ]
    }
   ],
   "source": [
    "cli_new(\n",
    "    '../../test_proj/nbs/test.ipynb',\n",
    "    root_path='../../test_proj'\n",
    ")"
   ]
  },
  {
   "cell_type": "code",
   "execution_count": null,
   "metadata": {},
   "outputs": [],
   "source": [
    "!rm ../../test_proj/nbs/test.ipynb"
   ]
  },
  {
   "cell_type": "markdown",
   "metadata": {},
   "source": [
    "## `nbl clean`"
   ]
  },
  {
   "cell_type": "code",
   "execution_count": null,
   "metadata": {},
   "outputs": [],
   "source": [
    "#|export\n",
    "@app.command(name='clean')\n",
    "def cli_clean(\n",
    "    nb_paths: Annotated[Union[List[str], None], Argument(help=\"Specify the jupyter notebooks to clean. If omitted, all ipynb files in the project's code locations will be cleaned.\")] = None,\n",
    "    remove_outputs: Annotated[bool, Option(help=\"Remove the outputs from the notebook.\")]=False,\n",
    "    remove_metadata: Annotated[bool, Option(help=\"Remove the metadata from the notebook.\")]=True,\n",
    "    root_path: Annotated[Union[str,None], Option(\"-r\", \"--root\", help=\"The root path of the project. If not provided, the project root will be determined by searching for a nblite.toml file.\")] = None,\n",
    "):\n",
    "    \"\"\"\n",
    "    Clean notebooks in an nblite project by removing outputs and metadata.\n",
    "    \n",
    "    If `nb_path` is not provided, all notebooks in the project will be cleaned.\n",
    "    \"\"\"\n",
    "    \n",
    "    if root_path is None and nb_paths is not None: root_path = Path(nb_paths[0]).parent\n",
    "    root_path, config = get_project_root_and_config(root_path)\n",
    "    \n",
    "    if nb_paths is None:\n",
    "        nb_paths = []\n",
    "        for loc in config.code_locations.values():\n",
    "            if loc.format != 'ipynb': continue\n",
    "            nb_paths.extend(list((root_path / loc.path).glob('**/*.ipynb')))\n",
    "\n",
    "    for nb_path in nb_paths:\n",
    "        clean_ipynb(nb_path, remove_outputs, remove_metadata)"
   ]
  },
  {
   "cell_type": "markdown",
   "metadata": {},
   "source": [
    "## `nbl fill`"
   ]
  },
  {
   "cell_type": "code",
   "execution_count": null,
   "metadata": {},
   "outputs": [],
   "source": [
    "#|export\n",
    "@app.command(name='fill')\n",
    "def cli_fill(\n",
    "    nb_paths: Annotated[Union[List[str], None], Argument(help=\"Specify the jupyter notebooks to fill. If omitted, all ipynb files in the project's code locations will be filled.\")] = None,\n",
    "    remove_prev_outputs: Annotated[bool, Option(\"-r\", \"--remove-prev-outputs\", help=\"Remove the pre-existing outputs from the notebooks.\")]=False,\n",
    "    remove_metadata: Annotated[bool, Option(\"-m\", \"--remove-metadata\", help=\"Remove the metadata from the notebooks.\")]=True,\n",
    "    root_path: Annotated[Union[str,None], Option(\"-r\", \"--root\", help=\"The root path of the project. If not provided, the project root will be determined by searching for a nblite.toml file.\")] = None,\n",
    "    cell_exec_timeout: Annotated[Union[int,None], Option(\"-t\", \"--timeout\", help=\"The timeout for the cell execution.\")] = None,\n",
    "):\n",
    "    \"\"\"\n",
    "    Clean notebooks in an nblite project by removing outputs and metadata.\n",
    "    \n",
    "    If `nb_path` is not provided, all notebooks in the project will be cleaned.\n",
    "    \"\"\"\n",
    "    \n",
    "    if root_path is None and nb_paths is not None: root_path = Path(nb_paths[0]).parent\n",
    "    root_path, config = get_project_root_and_config(root_path)\n",
    "    \n",
    "    if nb_paths is None:\n",
    "        nb_paths = []\n",
    "        for loc in config.code_locations.values():\n",
    "            if loc.format != 'ipynb': continue\n",
    "            nb_paths.extend(list((root_path / loc.path).glob('**/*.ipynb')))\n",
    "        \n",
    "    for nb_path in nb_paths:\n",
    "        fill_ipynb(nb_path, cell_exec_timeout, remove_prev_outputs, remove_metadata)"
   ]
  },
  {
   "cell_type": "markdown",
   "metadata": {},
   "source": [
    "## `nbl validate_stage`"
   ]
  },
  {
   "cell_type": "code",
   "execution_count": null,
   "metadata": {},
   "outputs": [],
   "source": [
    "#|export\n",
    "@app.command(name='validate_staging')\n",
    "def cli_validate_staging(\n",
    "    root_path: Annotated[Union[str,None], Option(\"-r\", \"--root\", help=\"The root path of the project. If not provided, the project root will be determined by searching for a nblite.toml file.\")] = None\n",
    "):\n",
    "    \"\"\"\n",
    "    Validate the staging of the project.\n",
    "    \n",
    "    The staging is valid if all notebooks are clean and the twins of all notebooks that are staged have no unstaged changes.\n",
    "    \n",
    "    The command will exit with code 1 if the staging is invalid.\n",
    "    \"\"\"\n",
    "    \n",
    "    unclean_nbs = get_unclean_nbs(root_path, ignore_underscores=False)\n",
    "    if unclean_nbs:\n",
    "        unclean_nbs_str = \"\\n\".join([f\"- {fp}\" for fp in unclean_nbs])\n",
    "        typer.echo(f\"Error: The following notebooks are not clean:\\n{unclean_nbs_str}\\n\", err=True)\n",
    "        typer.echo(\"Please run `nbl clean`.\")\n",
    "        raise typer.Exit(code=1)\n",
    "        \n",
    "    unstaged_nb_twins = get_unstaged_nb_twins()\n",
    "    if unstaged_nb_twins:\n",
    "        typer.echo(\"There are staged notebooks that have unstaged twins.\\n\", err=True)\n",
    "        \n",
    "        for tg in unstaged_nb_twins:\n",
    "            staged_str = \"\\n\".join([f'- {fp}' for fp in tg['staged']])\n",
    "            unstaged_str = \"\\n\".join([f'- {fp}' for fp in tg['unstaged']])\n",
    "            typer.echo(f\"Has staged changes:\\n{staged_str}\")\n",
    "            typer.echo(f\"Has unstaged changes:\\n{unstaged_str}\")\n",
    "            typer.echo()\n",
    "            \n",
    "        raise typer.Exit(code=1)"
   ]
  },
  {
   "cell_type": "markdown",
   "metadata": {},
   "source": [
    "## `nbl install_hooks`"
   ]
  },
  {
   "cell_type": "code",
   "execution_count": null,
   "metadata": {},
   "outputs": [],
   "source": [
    "#|export"
   ]
  }
 ],
 "metadata": {
  "kernelspec": {
   "display_name": "python3",
   "language": "python",
   "name": "python3"
  }
 },
 "nbformat": 4,
 "nbformat_minor": 2
}
