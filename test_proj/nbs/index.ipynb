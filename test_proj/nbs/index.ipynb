{
    "cells": [
        {
            "cell_type": "markdown",
            "metadata": {},
            "source": [
                "# My module\n",
                "\n",
                "This will be rendered to `README.md`"
            ]
        },
        {
            "cell_type": "code",
            "execution_count": null,
            "metadata": {},
            "outputs": [
                {
                    "name": "stdout",
                    "output_type": "stream",
                    "text": [
                        "This cell and its output will be shown in the README.\n"
                    ]
                }
            ],
            "source": [
                "print(\"This cell and its output will be shown in the README.\")"
            ]
        },
        {
            "cell_type": "code",
            "execution_count": null,
            "metadata": {},
            "outputs": [
                {
                    "name": "stdout",
                    "output_type": "stream",
                    "text": [
                        "This cell will be hidden.\n"
                    ]
                }
            ],
            "source": [
                "#|hide\n",
                "print(\"This cell will be hidden.\")"
            ]
        },
        {
            "cell_type": "markdown",
            "metadata": {},
            "source": [
                "#|hide\n",
                "\n",
                "This cell will also be hidden"
            ]
        }
    ],
    "metadata": {},
    "nbformat": 4,
    "nbformat_minor": 2
}