{
    "cells": [
        {
            "cell_type": "markdown",
            "metadata": {},
            "source": [
                "# export"
            ]
        },
        {
            "cell_type": "code",
            "execution_count": null,
            "metadata": {},
            "outputs": [],
            "source": [
                "#|default_exp export"
            ]
        },
        {
            "cell_type": "code",
            "execution_count": null,
            "metadata": {},
            "outputs": [],
            "source": [
                "#|hide\n",
                "import nblite; from nbdev.showdoc import show_doc; nblite.nbl_export()"
            ]
        },
        {
            "cell_type": "code",
            "execution_count": null,
            "metadata": {},
            "outputs": [],
            "source": [
                "#|export\n",
                "import tempfile\n",
                "import os\n",
                "from pathlib import Path\n",
                "from typer import Argument\n",
                "from typing_extensions import Annotated\n",
                "from typing import Union, List\n",
                "import json\n",
                "\n",
                "from nblite.const import nblite_config_file_name\n",
                "from nblite.config import read_config, parse_config_dict, get_project_root_and_config\n",
                "from nblite.const import format_to_jupytext_format\n",
                "from nblite.utils import get_nb_format_from_path, get_code_location_nbs, get_nb_path_info"
            ]
        },
        {
            "cell_type": "code",
            "execution_count": null,
            "metadata": {},
            "outputs": [],
            "source": [
                "import nblite.export"
            ]
        },
        {
            "cell_type": "code",
            "execution_count": null,
            "metadata": {},
            "outputs": [
                {
                    "data": {
                        "text/markdown": [
                            "---\n",
                            "\n",
                            "### convert_nb\n",
                            "\n",
                            ">      convert_nb (nb_path:str, dest_path:str, nb_format:str=None,\n",
                            ">                  dest_format:str=None)\n",
                            "\n",
                            "*Convert a notebook from one format to another.\n",
                            "\n",
                            "Args:\n",
                            "    nb_path: Path to the notebook to convert.\n",
                            "    dest_path: Path to the destination file.\n",
                            "    nb_format: Format of the notebook to convert.\n",
                            "    dest_format: Format of the destination file.*"
                        ],
                        "text/plain": [
                            "---\n",
                            "\n",
                            "### convert_nb\n",
                            "\n",
                            ">      convert_nb (nb_path:str, dest_path:str, nb_format:str=None,\n",
                            ">                  dest_format:str=None)\n",
                            "\n",
                            "*Convert a notebook from one format to another.\n",
                            "\n",
                            "Args:\n",
                            "    nb_path: Path to the notebook to convert.\n",
                            "    dest_path: Path to the destination file.\n",
                            "    nb_format: Format of the notebook to convert.\n",
                            "    dest_format: Format of the destination file.*"
                        ]
                    },
                    "execution_count": null,
                    "metadata": {},
                    "output_type": "execute_result"
                }
            ],
            "source": [
                "show_doc(nblite.export.convert_nb)"
            ]
        },
        {
            "cell_type": "code",
            "execution_count": null,
            "metadata": {},
            "outputs": [],
            "source": [
                "#|export\n",
                "def convert_nb(nb_path:str, dest_path:str, nb_format:str=None, dest_format:str=None):\n",
                "    \"\"\"\n",
                "    Convert a notebook from one format to another.\n",
                "    \n",
                "    Args:\n",
                "        nb_path: Path to the notebook to convert.\n",
                "        dest_path: Path to the destination file.\n",
                "        nb_format: Format of the notebook to convert.\n",
                "        dest_format: Format of the destination file.\n",
                "    \"\"\"\n",
                "    # Hot reloading, to reduce loading time for CLI\n",
                "    import jupytext\n",
                "    from jupytext.config import JupytextConfiguration\n",
                "    from jupytext.formats import long_form_one_format\n",
                "    \n",
                "    if nb_format is None:\n",
                "        nb_format = get_nb_format_from_path(nb_path)\n",
                "    if dest_format is None:\n",
                "        dest_format = get_nb_format_from_path(dest_path)\n",
                "        \n",
                "    jpt_src_fmt = format_to_jupytext_format[nb_format]\n",
                "    jpt_dest_fmt = format_to_jupytext_format[dest_format]\n",
                "    \n",
                "    nb_converted = jupytext.read(nb_path, fmt=jpt_src_fmt)\n",
                "    \n",
                "    # Exclude all metadata frontmatter from the notebook\n",
                "    config = JupytextConfiguration()\n",
                "    config.set_default_format_options(long_form_one_format(jpt_dest_fmt), read=False)\n",
                "    config.notebook_metadata_filter = '-all'\n",
                "    \n",
                "    jupytext.write(nb_converted, dest_path, fmt=jpt_dest_fmt, config=config)"
            ]
        },
        {
            "cell_type": "code",
            "execution_count": null,
            "metadata": {},
            "outputs": [],
            "source": [
                "\n",
                "root_path = Path('../../test_proj/')\n",
                "\n",
                "(root_path / 'pcts').mkdir(parents=True, exist_ok=True)\n",
                "(root_path / 'lgts').mkdir(parents=True, exist_ok=True)\n",
                "\n",
                "convert_nb(\n",
                "    nb_path=root_path / 'nbs' / 'notebook1.ipynb',\n",
                "    dest_path=root_path / 'pcts' / 'notebook1.pct.py',\n",
                ")\n",
                "\n",
                "convert_nb(\n",
                "    nb_path=root_path / 'nbs' / 'notebook2.ipynb',\n",
                "    dest_path=root_path / 'pcts' / 'notebook2.pct.py',\n",
                ")\n",
                "\n",
                "convert_nb(\n",
                "    nb_path=root_path / 'pcts' / 'notebook1.pct.py',\n",
                "    dest_path=root_path / 'lgts' / 'notebook1.lgt.py',\n",
                ")\n",
                "\n",
                "convert_nb(\n",
                "    nb_path=root_path / 'pcts' / 'notebook2.pct.py',\n",
                "    dest_path=root_path / 'lgts' / 'notebook2.lgt.py',\n",
                ")"
            ]
        },
        {
            "cell_type": "code",
            "execution_count": null,
            "metadata": {},
            "outputs": [],
            "source": [
                "# Test to see if the conversion is reversible\n",
                "with tempfile.TemporaryDirectory() as tmpdirname:\n",
                "    tempdir = Path(tmpdirname)\n",
                "    convert_nb(\n",
                "        root_path / \"pcts\" / \"notebook1.pct.py\",\n",
                "        tempdir / \"nb.ipynb\",\n",
                "    )\n",
                "    convert_nb(\n",
                "        tempdir / \"nb.ipynb\",\n",
                "        tempdir / \"nb.pct.py\",\n",
                "    )\n",
                "    assert Path(root_path / \"pcts\" / \"notebook1.pct.py\").read_text() == Path(tempdir / \"nb.pct.py\").read_text()"
            ]
        },
        {
            "cell_type": "code",
            "execution_count": null,
            "metadata": {},
            "outputs": [
                {
                    "data": {
                        "text/markdown": [
                            "---\n",
                            "\n",
                            "### get_nb_module_export_name\n",
                            "\n",
                            ">      get_nb_module_export_name (nb_path:str, lib_path:str)"
                        ],
                        "text/plain": [
                            "---\n",
                            "\n",
                            "### get_nb_module_export_name\n",
                            "\n",
                            ">      get_nb_module_export_name (nb_path:str, lib_path:str)"
                        ]
                    },
                    "execution_count": null,
                    "metadata": {},
                    "output_type": "execute_result"
                }
            ],
            "source": [
                "show_doc(nblite.export.get_nb_module_export_name)"
            ]
        },
        {
            "cell_type": "code",
            "execution_count": null,
            "metadata": {},
            "outputs": [],
            "source": [
                "#|export\n",
                "def get_nb_module_export_name(nb_path: str, lib_path: str) -> str:\n",
                "    import nbdev.export\n",
                "    exp = nbdev.export.ExportModuleProc()\n",
                "    if not Path(nb_path).as_posix().endswith('.ipynb'):\n",
                "        tmp_nb_path = tempfile.NamedTemporaryFile(suffix='.ipynb', delete=False)\n",
                "        convert_nb(nb_path, tmp_nb_path.name)\n",
                "        nb_path = tmp_nb_path.name\n",
                "    nb = nbdev.export.NBProcessor(nb_path, [exp], debug=False)\n",
                "    nb.process()\n",
                "    for mod,cells in exp.modules.items():\n",
                "        if nbdev.export.first(1 for o in cells if o.cell_type=='code'):\n",
                "            all_cells = exp.in_all[mod]\n",
                "            nm = getattr(exp, 'default_exp', None) if mod=='#' else mod\n",
                "            return nm\n",
                "    return None"
            ]
        },
        {
            "cell_type": "code",
            "execution_count": null,
            "metadata": {},
            "outputs": [
                {
                    "data": {
                        "text/plain": [
                            "'submodule.notebook3'"
                        ]
                    },
                    "execution_count": null,
                    "metadata": {},
                    "output_type": "execute_result"
                }
            ],
            "source": [
                "get_nb_module_export_name('../../test_proj/nbs/submodule/notebook3.ipynb', '../../test_proj/my_module')"
            ]
        },
        {
            "cell_type": "code",
            "execution_count": null,
            "metadata": {},
            "outputs": [
                {
                    "data": {
                        "text/markdown": [
                            "---\n",
                            "\n",
                            "### get_nb_module_export_path\n",
                            "\n",
                            ">      get_nb_module_export_path (nb_path:str, lib_path:str)"
                        ],
                        "text/plain": [
                            "---\n",
                            "\n",
                            "### get_nb_module_export_path\n",
                            "\n",
                            ">      get_nb_module_export_path (nb_path:str, lib_path:str)"
                        ]
                    },
                    "execution_count": null,
                    "metadata": {},
                    "output_type": "execute_result"
                }
            ],
            "source": [
                "show_doc(nblite.export.get_nb_module_export_path)"
            ]
        },
        {
            "cell_type": "code",
            "execution_count": null,
            "metadata": {},
            "outputs": [],
            "source": [
                "#|export\n",
                "def get_nb_module_export_path(nb_path: str, lib_path: str) -> str:\n",
                "    nb_mod_export_name = get_nb_module_export_name(nb_path, lib_path)\n",
                "    if nb_mod_export_name:\n",
                "        return (Path(lib_path) / nb_mod_export_name.replace('.', '/')).with_suffix('.py').resolve()\n",
                "    return None"
            ]
        },
        {
            "cell_type": "code",
            "execution_count": null,
            "metadata": {},
            "outputs": [
                {
                    "data": {
                        "text/plain": [
                            "Path('/Users/lukastk/dev-proj/nblite/test_proj/my_module/submodule/notebook3.py')"
                        ]
                    },
                    "execution_count": null,
                    "metadata": {},
                    "output_type": "execute_result"
                }
            ],
            "source": [
                "get_nb_module_export_path('../../test_proj/nbs/submodule/notebook3.ipynb', '../../test_proj/my_module')"
            ]
        },
        {
            "cell_type": "code",
            "execution_count": null,
            "metadata": {},
            "outputs": [
                {
                    "data": {
                        "text/markdown": [
                            "---\n",
                            "\n",
                            "### get_nb_twin_paths\n",
                            "\n",
                            ">      get_nb_twin_paths (nb_path:str, root_path:str)\n",
                            "\n",
                            "*For a given notebook in a code location, returns the paths to all its 'twins' (the corresponding notebooks in the other code locations).\n",
                            "The original given notebook path is also returned.*"
                        ],
                        "text/plain": [
                            "---\n",
                            "\n",
                            "### get_nb_twin_paths\n",
                            "\n",
                            ">      get_nb_twin_paths (nb_path:str, root_path:str)\n",
                            "\n",
                            "*For a given notebook in a code location, returns the paths to all its 'twins' (the corresponding notebooks in the other code locations).\n",
                            "The original given notebook path is also returned.*"
                        ]
                    },
                    "execution_count": null,
                    "metadata": {},
                    "output_type": "execute_result"
                }
            ],
            "source": [
                "show_doc(nblite.export.get_nb_twin_paths)"
            ]
        },
        {
            "cell_type": "code",
            "execution_count": null,
            "metadata": {},
            "outputs": [],
            "source": [
                "#|export\n",
                "def get_nb_twin_paths(nb_path: str, root_path: str):\n",
                "    \"\"\"For a given notebook in a code location, returns the paths to all its 'twins' (the corresponding notebooks in the other code locations).\n",
                "    The original given notebook path is also returned.\"\"\"\n",
                "    if root_path is None:\n",
                "        root_path, config = get_project_root_and_config()\n",
                "    else:\n",
                "        root_path = Path(root_path)\n",
                "        config = read_config(root_path / nblite_config_file_name)\n",
                "    nb_path = Path(nb_path).resolve()\n",
                "    cl_nb_name = get_nb_path_info(nb_path, root_path, config)['cl_name']\n",
                "    \n",
                "    nb_twins = []\n",
                "    for loc in config.code_locations.values():\n",
                "        if loc.format == 'module':\n",
                "            twin_path = get_nb_module_export_path(nb_path, root_path / loc.path)\n",
                "            if twin_path is None: continue # Some notebooks are not exported to a module\n",
                "        else:\n",
                "            twin_path = root_path / loc.path / cl_nb_name.with_suffix('.' + loc.file_ext)\n",
                "        nb_twins.append(Path(twin_path).resolve())\n",
                "        \n",
                "    nb_twins = tuple(sorted([fp.as_posix() for fp in nb_twins]))\n",
                "    return nb_twins"
            ]
        },
        {
            "cell_type": "code",
            "execution_count": null,
            "metadata": {},
            "outputs": [
                {
                    "data": {
                        "text/plain": [
                            "('/Users/lukastk/dev-proj/nblite/test_proj/lgts/folder/notebook4.lgt.py',\n",
                            " '/Users/lukastk/dev-proj/nblite/test_proj/my_module/notebook4.py',\n",
                            " '/Users/lukastk/dev-proj/nblite/test_proj/nbs/folder/notebook4.ipynb',\n",
                            " '/Users/lukastk/dev-proj/nblite/test_proj/pcts/folder/notebook4.pct.py')"
                        ]
                    },
                    "execution_count": null,
                    "metadata": {},
                    "output_type": "execute_result"
                }
            ],
            "source": [
                "get_nb_twin_paths('../../test_proj/nbs/folder/notebook4.ipynb', '../../test_proj')"
            ]
        },
        {
            "cell_type": "code",
            "execution_count": null,
            "metadata": {},
            "outputs": [
                {
                    "data": {
                        "text/markdown": [
                            "---\n",
                            "\n",
                            "### export_to_lib\n",
                            "\n",
                            ">      export_to_lib (nb_path, lib_path, nb_format=None)"
                        ],
                        "text/plain": [
                            "---\n",
                            "\n",
                            "### export_to_lib\n",
                            "\n",
                            ">      export_to_lib (nb_path, lib_path, nb_format=None)"
                        ]
                    },
                    "execution_count": null,
                    "metadata": {},
                    "output_type": "execute_result"
                }
            ],
            "source": [
                "show_doc(nblite.export.export_to_lib)"
            ]
        },
        {
            "cell_type": "code",
            "execution_count": null,
            "metadata": {},
            "outputs": [],
            "source": [
                "#|exporti\n",
                "def _nbdev_nb_export(nbname:str, # Filename of notebook \n",
                "              lib_path:str=None, # Path to destination library.  If not in a nbdev project, defaults to current directory.\n",
                "              procs=None,        # Processors to use\n",
                "              name:str=None,     # Name of python script {name}.py to create.\n",
                "              debug:bool=False,  # Debug mode\n",
                "              source_nb_path:str=None # Path to source notebook. If not provided, the notebook name will be used.\n",
                "             ):\n",
                "    \"\"\"\n",
                "    Copied from `nbdev.export.nb_export` and modified, adding the extra argument\n",
                "    `source_nb_path` to use as the source notebook path in `mod_maker.dest2nb`.\n",
                "    \n",
                "    Source: https://github.com/AnswerDotAI/nbdev/blob/main/nbs/api/04_export.ipynb\n",
                "    \"\"\"\n",
                "    import nbdev.export\n",
                "    if lib_path is None: lib_path = nbdev.export.get_config().lib_path if nbdev.export.is_nbdev() else '.'\n",
                "    exp = nbdev.export.ExportModuleProc()\n",
                "    nb = nbdev.export.NBProcessor(nbname, [exp]+nbdev.export.L(procs), debug=debug)\n",
                "    nb.process()\n",
                "    for mod,cells in exp.modules.items():\n",
                "        if nbdev.export.first(1 for o in cells if o.cell_type=='code'):\n",
                "            all_cells = exp.in_all[mod]\n",
                "            nm = nbdev.export.ifnone(name, getattr(exp, 'default_exp', None) if mod=='#' else mod)\n",
                "            if not nm:\n",
                "                nbdev.export.warn(f\"Notebook '{nbname}' uses `#|export` without `#|default_exp` cell.\\n\"\n",
                "                     \"Note nbdev2 no longer supports nbdev1 syntax. Run `nbdev_migrate` to upgrade.\\n\"\n",
                "                     \"See https://nbdev.fast.ai/getting_started.html for more information.\")\n",
                "                return\n",
                "            mm = nbdev.export.ModuleMaker(dest=lib_path, name=nm, nb_path=nbname, is_new=bool(name) or mod=='#')\n",
                "            if source_nb_path is not None:\n",
                "                py_file_path = Path(lib_path)/(nm.replace('.','/') + \".py\")\n",
                "                relative_path = os.path.relpath(source_nb_path, start=py_file_path)\n",
                "                mm.dest2nb = relative_path\n",
                "                mm.hdr = f\"# %% {relative_path}\"\n",
                "            mm.make(cells, all_cells, lib_path=lib_path)"
            ]
        },
        {
            "cell_type": "code",
            "execution_count": null,
            "metadata": {},
            "outputs": [],
            "source": [
                "#|export\n",
                "def export_to_lib(nb_path, lib_path, nb_format=None):\n",
                "    if nb_format is None:\n",
                "        nb_format = get_nb_format_from_path(nb_path)\n",
                "    with tempfile.NamedTemporaryFile(delete=True, suffix='.ipynb') as tmpfile:\n",
                "        convert_nb(nb_path, tmpfile.name, nb_format=nb_format)\n",
                "        _nbdev_nb_export(tmpfile.name, lib_path, source_nb_path=nb_path)"
            ]
        },
        {
            "cell_type": "code",
            "execution_count": null,
            "metadata": {},
            "outputs": [],
            "source": [
                "root_path = Path('../../test_proj/')\n",
                "\n",
                "export_to_lib(\n",
                "    root_path / 'nbs' / 'notebook1.ipynb',\n",
                "    root_path / 'my_module',\n",
                ")\n",
                "\n",
                "export_to_lib(\n",
                "    root_path / 'nbs' / 'notebook2.ipynb',\n",
                "    root_path / 'my_module',\n",
                ")"
            ]
        },
        {
            "cell_type": "code",
            "execution_count": null,
            "metadata": {},
            "outputs": [],
            "source": [
                "export_to_lib(\n",
                "    root_path / 'pcts' / 'notebook1.pct.py',\n",
                "    root_path / 'my_module',\n",
                ")\n",
                "\n",
                "export_to_lib(\n",
                "    root_path / 'pcts' / 'notebook2.pct.py',\n",
                "    root_path / 'my_module',\n",
                ")"
            ]
        },
        {
            "cell_type": "code",
            "execution_count": null,
            "metadata": {},
            "outputs": [
                {
                    "data": {
                        "text/markdown": [
                            "---\n",
                            "\n",
                            "### export\n",
                            "\n",
                            ">      export (root_path:Optional[str]=None, config_path:Optional[str]=None,\n",
                            ">              export_pipeline:Optional[str]=None,\n",
                            ">              nb_paths:Optional[List[str]]=None)\n",
                            "\n",
                            "*Export notebooks in an nblite project, as specified in the nblite.toml config file.\n",
                            "\n",
                            "If the `root_path` is not provided, nblite will search for a nblite.toml file in the current directory\n",
                            "and all parent directories, and use the directory containing the nblite.toml file as the root folder.\n",
                            "\n",
                            "Args:\n",
                            "    root_path: Path to the root folder of the nblite project.\n",
                            "    config_path: Path to the nblite.toml config file. Will be used instead of the config file in the root folder if provided.\n",
                            "    export_pipeline: The export pipeline to use. E.g. 'nbs->pts,pts->lib'.*"
                        ],
                        "text/plain": [
                            "---\n",
                            "\n",
                            "### export\n",
                            "\n",
                            ">      export (root_path:Optional[str]=None, config_path:Optional[str]=None,\n",
                            ">              export_pipeline:Optional[str]=None,\n",
                            ">              nb_paths:Optional[List[str]]=None)\n",
                            "\n",
                            "*Export notebooks in an nblite project, as specified in the nblite.toml config file.\n",
                            "\n",
                            "If the `root_path` is not provided, nblite will search for a nblite.toml file in the current directory\n",
                            "and all parent directories, and use the directory containing the nblite.toml file as the root folder.\n",
                            "\n",
                            "Args:\n",
                            "    root_path: Path to the root folder of the nblite project.\n",
                            "    config_path: Path to the nblite.toml config file. Will be used instead of the config file in the root folder if provided.\n",
                            "    export_pipeline: The export pipeline to use. E.g. 'nbs->pts,pts->lib'.*"
                        ]
                    },
                    "execution_count": null,
                    "metadata": {},
                    "output_type": "execute_result"
                }
            ],
            "source": [
                "show_doc(nblite.export.export)"
            ]
        },
        {
            "cell_type": "code",
            "execution_count": null,
            "metadata": {},
            "outputs": [],
            "source": [
                "#|export\n",
                "def export(root_path:Union[str,None] = None, config_path:Union[str,None] = None, export_pipeline:Union[str,None] = None, nb_paths:Union[List[str],None] = None):\n",
                "    \"\"\"\n",
                "    Export notebooks in an nblite project, as specified in the nblite.toml config file.\n",
                "    \n",
                "    If the `root_path` is not provided, nblite will search for a nblite.toml file in the current directory\n",
                "    and all parent directories, and use the directory containing the nblite.toml file as the root folder.\n",
                "    \n",
                "    Args:\n",
                "        root_path: Path to the root folder of the nblite project.\n",
                "        config_path: Path to the nblite.toml config file. Will be used instead of the config file in the root folder if provided.\n",
                "        export_pipeline: The export pipeline to use. E.g. 'nbs->pts,pts->lib'.\n",
                "        \n",
                "    \"\"\"\n",
                "    \n",
                "    if root_path is None:\n",
                "        root_path, config = get_project_root_and_config()\n",
                "    else:\n",
                "        root_path = Path(root_path)\n",
                "        config = read_config(root_path / nblite_config_file_name)\n",
                "        \n",
                "    if config_path: # If config_path is provided, use it instead of the config file in the root folder\n",
                "        config = read_config(config_path)\n",
                "    \n",
                "    if not root_path.is_dir():\n",
                "        raise NotADirectoryError(f\"{root_path} is not a valid directory\")\n",
                "    \n",
                "    # Replace the export pipeline in the config with the one provided as an argument\n",
                "    config_dict = config.model_dump()\n",
                "    if export_pipeline is not None:\n",
                "        config_dict['export_pipeline'] = export_pipeline\n",
                "    config = parse_config_dict(config_dict)\n",
                "    \n",
                "    if nb_paths is not None:\n",
                "        nb_paths = [Path(p).resolve() for p in nb_paths]\n",
                "    \n",
                "    for rule in config.export_pipeline:\n",
                "        from_conf = config.code_locations[rule.from_key]\n",
                "        to_conf = config.code_locations[rule.to_key]\n",
                "        from_file_ext = from_conf.file_ext\n",
                "        \n",
                "        from_nb_paths = get_code_location_nbs(root_path, from_conf, ignore_underscores=True)\n",
                "        \n",
                "        if to_conf.format == 'module':\n",
                "            for fp in from_nb_paths:\n",
                "                export_to_lib(fp, root_path / to_conf.path, nb_format=from_conf.format)\n",
                "        else:\n",
                "            to_file_ext = to_conf.file_ext\n",
                "            for fp in from_nb_paths:\n",
                "                \n",
                "                if nb_paths is not None and fp.resolve() not in nb_paths:\n",
                "                    continue\n",
                "                \n",
                "                sub_path = fp.relative_to(root_path / from_conf.path)\n",
                "                dest_fname = sub_path.name[:-len(from_file_ext)] + to_file_ext\n",
                "                dest_path = root_path / to_conf.path / sub_path.parent / dest_fname\n",
                "                dest_path.parent.mkdir(parents=True, exist_ok=True)\n",
                "                convert_nb(fp, dest_path, from_conf.format, to_conf.format)"
            ]
        },
        {
            "cell_type": "code",
            "execution_count": null,
            "metadata": {},
            "outputs": [],
            "source": [
                "!rm -rf ../../test_proj/my_module ../../test_proj/pcts ../../test_proj/lgts"
            ]
        },
        {
            "cell_type": "code",
            "execution_count": null,
            "metadata": {},
            "outputs": [],
            "source": [
                "export('../../test_proj')"
            ]
        },
        {
            "cell_type": "code",
            "execution_count": null,
            "metadata": {},
            "outputs": [],
            "source": [
                "export('../../test_proj', nb_paths=['../../test_proj/nbs/notebook1.ipynb'])"
            ]
        },
        {
            "cell_type": "code",
            "execution_count": null,
            "metadata": {},
            "outputs": [
                {
                    "data": {
                        "text/markdown": [
                            "---\n",
                            "\n",
                            "### clean_ipynb\n",
                            "\n",
                            ">      clean_ipynb (nb_path:str, remove_outputs:bool=False,\n",
                            ">                   remove_metadata:bool=True)\n",
                            "\n",
                            "*Clean a notebook by removing all outputs and metadata.\n",
                            "\n",
                            "Args:\n",
                            "    nb_path: Path to the notebook to clean.\n",
                            "    remove_outputs: Whether to remove the outputs from the notebook.\n",
                            "    remove_metadata: Whether to remove the metadata from the notebook.*"
                        ],
                        "text/plain": [
                            "---\n",
                            "\n",
                            "### clean_ipynb\n",
                            "\n",
                            ">      clean_ipynb (nb_path:str, remove_outputs:bool=False,\n",
                            ">                   remove_metadata:bool=True)\n",
                            "\n",
                            "*Clean a notebook by removing all outputs and metadata.\n",
                            "\n",
                            "Args:\n",
                            "    nb_path: Path to the notebook to clean.\n",
                            "    remove_outputs: Whether to remove the outputs from the notebook.\n",
                            "    remove_metadata: Whether to remove the metadata from the notebook.*"
                        ]
                    },
                    "execution_count": null,
                    "metadata": {},
                    "output_type": "execute_result"
                }
            ],
            "source": [
                "show_doc(nblite.export.clean_ipynb)"
            ]
        },
        {
            "cell_type": "code",
            "execution_count": null,
            "metadata": {},
            "outputs": [],
            "source": [
                "\n",
                "#|export\n",
                "def clean_ipynb(nb_path:str, remove_outputs:bool=False, remove_metadata:bool=True):\n",
                "    \"\"\"\n",
                "    Clean a notebook by removing all outputs and metadata.\n",
                "    \n",
                "    Args:\n",
                "        nb_path: Path to the notebook to clean.\n",
                "        remove_outputs: Whether to remove the outputs from the notebook.\n",
                "        remove_metadata: Whether to remove the metadata from the notebook.\n",
                "    \"\"\"\n",
                "    import nbformat\n",
                "    from nbconvert.preprocessors import ExecutePreprocessor\n",
                "\n",
                "    nb_path = Path(nb_path)\n",
                "\n",
                "    if not nb_path.as_posix().endswith('.ipynb'):\n",
                "        raise ValueError(f\"Error: '{nb_path}' is not a Jupyter notebook file.\")\n",
                "\n",
                "    with open(nb_path) as f:\n",
                "        nb = nbformat.read(f, as_version=4)\n",
                "                \n",
                "    # Remove outputs from each cell\n",
                "    if remove_outputs:\n",
                "        for cell in nb.cells:\n",
                "            if cell['cell_type'] == 'code':\n",
                "                cell.outputs = []\n",
                "            \n",
                "    # Remove metadata from each cell\n",
                "    if remove_metadata:\n",
                "        for cell in nb.cells:\n",
                "            if cell['cell_type'] == 'code':\n",
                "                cell['execution_count'] = None\n",
                "            cell.metadata = {} \n",
                "            for output in cell.get('outputs', []):\n",
                "                if 'execution_count' in output: output['execution_count'] = None\n",
                "                if 'metadata' in output: output['metadata'] = {}\n",
                "            \n",
                "    with open(nb_path, \"w\") as f:\n",
                "        nbformat.write(nb, f)\n",
                "        \n",
                "    with open(nb_path) as f:\n",
                "        nb_json = json.load(f)\n",
                "    nb_json['metadata'] = {}\n",
                "    with open(nb_path, \"w\") as f:\n",
                "        json.dump(nb_json, f, indent=4)"
            ]
        },
        {
            "cell_type": "code",
            "execution_count": null,
            "metadata": {},
            "outputs": [],
            "source": [
                "clean_ipynb('../../test_proj/nbs/notebook1.ipynb', remove_outputs=True, remove_metadata=True)"
            ]
        },
        {
            "cell_type": "code",
            "execution_count": null,
            "metadata": {},
            "outputs": [
                {
                    "data": {
                        "text/markdown": [
                            "---\n",
                            "\n",
                            "### fill_ipynb\n",
                            "\n",
                            ">      fill_ipynb (nb_path:str, cell_exec_timeout=None,\n",
                            ">                  remove_pre_existing_outputs:bool=True,\n",
                            ">                  remove_metadata:bool=True, working_dir:Optional[str]=None)\n",
                            "\n",
                            "*Execute a notebook and fill it with the outputs.\n",
                            "\n",
                            "Cells can be skipped by adding the following directives to the cell:\n",
                            "- `#|skip_evals`: Skip current and subsequent cells, until `#|skip_evals_stop` is encountered.\n",
                            "- `#|skip_evals_stop`: Stop skipping cells.\n",
                            "- `#|eval: false`: Skip the cell.\n",
                            "\n",
                            "Args:\n",
                            "    nb_path: Path to the notebook to fill.\n",
                            "    cell_exec_timeout: Timeout for cell execution.\n",
                            "    remove_pre_existing_outputs: Whether to remove the pre-existing outputs from the notebook.\n",
                            "    remove_metadata: Whether to remove the metadata from the notebook.*"
                        ],
                        "text/plain": [
                            "---\n",
                            "\n",
                            "### fill_ipynb\n",
                            "\n",
                            ">      fill_ipynb (nb_path:str, cell_exec_timeout=None,\n",
                            ">                  remove_pre_existing_outputs:bool=True,\n",
                            ">                  remove_metadata:bool=True, working_dir:Optional[str]=None)\n",
                            "\n",
                            "*Execute a notebook and fill it with the outputs.\n",
                            "\n",
                            "Cells can be skipped by adding the following directives to the cell:\n",
                            "- `#|skip_evals`: Skip current and subsequent cells, until `#|skip_evals_stop` is encountered.\n",
                            "- `#|skip_evals_stop`: Stop skipping cells.\n",
                            "- `#|eval: false`: Skip the cell.\n",
                            "\n",
                            "Args:\n",
                            "    nb_path: Path to the notebook to fill.\n",
                            "    cell_exec_timeout: Timeout for cell execution.\n",
                            "    remove_pre_existing_outputs: Whether to remove the pre-existing outputs from the notebook.\n",
                            "    remove_metadata: Whether to remove the metadata from the notebook.*"
                        ]
                    },
                    "execution_count": null,
                    "metadata": {},
                    "output_type": "execute_result"
                }
            ],
            "source": [
                "show_doc(nblite.export.fill_ipynb)"
            ]
        },
        {
            "cell_type": "code",
            "execution_count": null,
            "metadata": {},
            "outputs": [],
            "source": [
                "#|export\n",
                "def fill_ipynb(\n",
                "    nb_path:str,\n",
                "    cell_exec_timeout=None,\n",
                "    remove_pre_existing_outputs:bool=True,\n",
                "    remove_metadata:bool=True,\n",
                "    working_dir:Union[str,None]=None,\n",
                "    dry_run:bool=False,\n",
                "):\n",
                "    \"\"\"\n",
                "    Execute a notebook and fill it with the outputs.\n",
                "    \n",
                "    Cells can be skipped by adding the following directives to the cell:\n",
                "    - `#|skip_evals`: Skip current and subsequent cells, until `#|skip_evals_stop` is encountered.\n",
                "    - `#|skip_evals_stop`: Stop skipping cells.\n",
                "    - `#|eval: false`: Skip the cell.\n",
                "    \n",
                "    Args:\n",
                "        nb_path: Path to the notebook to fill.\n",
                "        cell_exec_timeout: Timeout for cell execution.\n",
                "        remove_pre_existing_outputs: Whether to remove the pre-existing outputs from the notebook.\n",
                "        remove_metadata: Whether to remove the metadata from the notebook.\n",
                "    \"\"\"\n",
                "    import nbformat\n",
                "    from nbconvert.preprocessors import ExecutePreprocessor\n",
                "\n",
                "    nb_path = Path(nb_path)\n",
                "    if not nb_path.as_posix().endswith('.ipynb'):\n",
                "        raise ValueError(f\"Error: '{nb_path}' is not a Jupyter notebook file.\")\n",
                "\n",
                "    with open(nb_path) as f:\n",
                "        nb = nbformat.read(f, as_version=4)\n",
                "\n",
                "    # Remove outputs from each cell\n",
                "    if remove_pre_existing_outputs:\n",
                "        for cell in nb.cells:\n",
                "            if cell['cell_type'] == 'code':\n",
                "                cell.outputs = []\n",
                "\n",
                "    # Parse directives for skipping cell evaluations\n",
                "    skip_evals_mode = False\n",
                "    skipped_cells = []\n",
                "    for cell in nb.cells:\n",
                "        skip_cell = False\n",
                "        if cell['cell_type'] != 'code': continue\n",
                "        for line in cell['source'].split('\\n'):\n",
                "            line = line.strip()\n",
                "            if not line.startswith('#|'): continue\n",
                "            directive = line.split('#|', 1)[1].strip()\n",
                "            if directive == 'skip_evals':\n",
                "                if skip_evals_mode:\n",
                "                    raise ValueError(\"Already in skip_evals mode\")\n",
                "                skip_evals_mode = True\n",
                "            elif directive == 'skip_evals_stop':\n",
                "                if not skip_evals_mode:\n",
                "                    raise ValueError(\"Not in skip_evals mode\")\n",
                "                skip_evals_mode = False\n",
                "            elif directive.split(':', 1)[0].strip() == \"eval\":\n",
                "                if directive.split(':', 1)[1].strip() == 'false':\n",
                "                    skip_cell = True\n",
                "            \n",
                "        if skip_evals_mode or skip_cell:\n",
                "            cell['cell_type'] = 'skip'\n",
                "            skipped_cells.append(cell)\n",
                "\n",
                "    # Create the execute preprocessor\n",
                "    ep = ExecutePreprocessor(timeout=cell_exec_timeout, kernel_name=\"python3\")\n",
                "    if working_dir is None:\n",
                "        working_dir = nb_path.parent\n",
                "    resources = {\"metadata\": {\"path\": working_dir}}\n",
                "    ep.preprocess(nb, resources)\n",
                "\n",
                "    # Restore the cell types of skipped code cells\n",
                "    for cell in skipped_cells:\n",
                "        cell['cell_type'] = 'code'\n",
                "\n",
                "    if not dry_run:\n",
                "        with open(nb_path, \"w\") as f:\n",
                "            nbformat.write(nb, f)\n",
                "            \n",
                "        # Remove metadata from each cell\n",
                "        if remove_metadata:\n",
                "            clean_ipynb(nb_path, remove_outputs=False, remove_metadata=True)"
            ]
        },
        {
            "cell_type": "code",
            "execution_count": null,
            "metadata": {},
            "outputs": [],
            "source": [
                "fill_ipynb('../../test_proj/nbs/notebook1.ipynb')"
            ]
        },
        {
            "cell_type": "code",
            "execution_count": null,
            "metadata": {},
            "outputs": [
                {
                    "data": {
                        "text/markdown": [
                            "---\n",
                            "\n",
                            "### generate_readme\n",
                            "\n",
                            ">      generate_readme (root_path:Optional[str]=None)\n",
                            "\n",
                            "*Generate a README.md file for the project from the index.ipynb file.\n",
                            "\n",
                            "Args:\n",
                            "    root_path: The root path of the project. If not provided, the project root will be determined by searching for a nblite.toml file.*"
                        ],
                        "text/plain": [
                            "---\n",
                            "\n",
                            "### generate_readme\n",
                            "\n",
                            ">      generate_readme (root_path:Optional[str]=None)\n",
                            "\n",
                            "*Generate a README.md file for the project from the index.ipynb file.\n",
                            "\n",
                            "Args:\n",
                            "    root_path: The root path of the project. If not provided, the project root will be determined by searching for a nblite.toml file.*"
                        ]
                    },
                    "execution_count": null,
                    "metadata": {},
                    "output_type": "execute_result"
                }
            ],
            "source": [
                "show_doc(nblite.export.generate_readme)"
            ]
        },
        {
            "cell_type": "code",
            "execution_count": null,
            "metadata": {},
            "outputs": [],
            "source": [
                "#|export\n",
                "def generate_readme(root_path:Union[str,None] = None):\n",
                "    \"\"\"\n",
                "    Generate a README.md file for the project from the index.ipynb file.\n",
                "    \n",
                "    Args:\n",
                "        root_path: The root path of the project. If not provided, the project root will be determined by searching for a nblite.toml file.\n",
                "    \"\"\"\n",
                "    # Hot reloading, to reduce loading time for CLI\n",
                "    import jupytext\n",
                "    from jupytext.config import JupytextConfiguration\n",
                "    from jupytext.formats import long_form_one_format\n",
                "    \n",
                "    if root_path is None:\n",
                "        root_path, config = get_project_root_and_config()\n",
                "    else:\n",
                "        root_path = Path(root_path)\n",
                "        config = read_config(root_path / nblite_config_file_name)\n",
                "        \n",
                "    if not config.code_locations: return\n",
                "        \n",
                "    # Get the top-level code location\n",
                "    top_level_cl_key = config.export_pipeline[0].from_key\n",
                "    top_level_cl = config.code_locations[top_level_cl_key]\n",
                "    \n",
                "    index_nb_path = root_path / top_level_cl.path / ('index.' + top_level_cl.file_ext)\n",
                "    if not index_nb_path.exists(): return\n",
                "\n",
                "    config = JupytextConfiguration()\n",
                "    config.set_default_format_options(long_form_one_format(top_level_cl.format), read=False)\n",
                "    config.notebook_metadata_filter = '-all'\n",
                "    \n",
                "    index_nb = jupytext.read(index_nb_path, fmt=top_level_cl.jupytext_format)\n",
                "\n",
                "    jupytext.write(index_nb, root_path / 'README.md', fmt='md', config=config)"
            ]
        }
    ],
    "metadata": {},
    "nbformat": 4,
    "nbformat_minor": 2
}