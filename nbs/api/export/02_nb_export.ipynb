{
    "cells": [
        {
            "cell_type": "markdown",
            "metadata": {},
            "source": [
                "# export.nb_export\n",
                "\n",
                "> Contains the logic for exporting notebooks."
            ]
        },
        {
            "cell_type": "code",
            "execution_count": null,
            "metadata": {},
            "outputs": [],
            "source": [
                "#|default_exp export.nb_export"
            ]
        },
        {
            "cell_type": "code",
            "execution_count": null,
            "metadata": {},
            "outputs": [],
            "source": [
                "#|hide\n",
                "import nblite; from nblite import show_doc; nblite.nbl_export()"
            ]
        },
        {
            "cell_type": "code",
            "execution_count": null,
            "metadata": {},
            "outputs": [],
            "source": [
                "#|export\n",
                "from pathlib import Path\n",
                "from typer import Argument\n",
                "from typing_extensions import Annotated\n",
                "from typing import Union, List\n",
                "import os\n",
                "\n",
                "from nblite.const import nblite_config_file_name, DISABLE_NBLITE_EXPORT_ENV_VAR\n",
                "from nblite.config import read_config, parse_config_dict, get_project_root_and_config\n",
                "from nblite.const import format_to_jupytext_format\n",
                "from nblite.utils import get_nb_format_from_path, get_code_location_nbs, get_nb_path_info\n",
                "from nblite.export import convert_nb, get_nb_directives, lookup_directive, export_to_lib_as_func, export_to_lib"
            ]
        },
        {
            "cell_type": "code",
            "execution_count": null,
            "metadata": {},
            "outputs": [],
            "source": [
                "import shutil\n",
                "import nblite.export.nb_export as this_module"
            ]
        },
        {
            "cell_type": "code",
            "execution_count": null,
            "metadata": {},
            "outputs": [
                {
                    "data": {
                        "text/markdown": [
                            "## export\n",
                            "\n",
                            "```python\n",
                            "export(\n",
                            "   root_path: typing.Optional[str],\n",
                            "   config_path: typing.Optional[str],\n",
                            "   export_pipeline: typing.Optional[str],\n",
                            "   nb_paths: typing.Optional[typing.List[str]]\n",
                            ")\n",
                            "```\n",
                            "\n",
                            "Export notebooks in an nblite project, as specified in the nblite.toml config file.\n",
                            "\n",
                            "If the `root_path` is not provided, nblite will search for a nblite.toml file in the current directory\n",
                            "and all parent directories, and use the directory containing the nblite.toml file as the root folder.\n",
                            "\n",
                            "**Arguments:**\n",
                            "- `root_path`: Path to the root folder of the nblite project.\n",
                            "- `config_path`: Path to the nblite.toml config file. Will be used instead of the config file in the root folder if provided.\n",
                            "- `export_pipeline`: The export pipeline to use. E.g. 'nbs->pts,pts->lib'.\n",
                            "\n",
                            "---\n"
                        ],
                        "text/plain": [
                            "<IPython.core.display.Markdown object>"
                        ]
                    },
                    "execution_count": null,
                    "metadata": {},
                    "output_type": "execute_result"
                }
            ],
            "source": [
                "#|hide\n",
                "show_doc(this_module.export)"
            ]
        },
        {
            "cell_type": "code",
            "execution_count": null,
            "metadata": {},
            "outputs": [],
            "source": [
                "#|export\n",
                "def export(root_path:Union[str,None] = None, config_path:Union[str,None] = None, export_pipeline:Union[str,None] = None, nb_paths:Union[List[str],None] = None):\n",
                "    \"\"\"\n",
                "    Export notebooks in an nblite project, as specified in the nblite.toml config file.\n",
                "    \n",
                "    If the `root_path` is not provided, nblite will search for a nblite.toml file in the current directory\n",
                "    and all parent directories, and use the directory containing the nblite.toml file as the root folder.\n",
                "    \n",
                "    Args:\n",
                "        root_path: Path to the root folder of the nblite project.\n",
                "        config_path: Path to the nblite.toml config file. Will be used instead of the config file in the root folder if provided.\n",
                "        export_pipeline: The export pipeline to use. E.g. 'nbs->pts,pts->lib'.\n",
                "    \"\"\"\n",
                "    disable_export = os.environ.get(DISABLE_NBLITE_EXPORT_ENV_VAR, False)\n",
                "    \n",
                "    if disable_export and disable_export.lower() == 'true':\n",
                "        print(f\"Environment variable {DISABLE_NBLITE_EXPORT_ENV_VAR} is set to True, skipping export.\")\n",
                "        return\n",
                "    \n",
                "    if root_path is None:\n",
                "        root_path, config = get_project_root_and_config()\n",
                "    else:\n",
                "        root_path = Path(root_path)\n",
                "        config = read_config(root_path / nblite_config_file_name)\n",
                "        \n",
                "    if config_path: # If config_path is provided, use it instead of the config file in the root folder\n",
                "        config = read_config(config_path)\n",
                "    \n",
                "    if not root_path.is_dir():\n",
                "        raise NotADirectoryError(f\"{root_path} is not a valid directory\")\n",
                "    \n",
                "    # Replace the export pipeline in the config with the one provided as an argument\n",
                "    config_dict = config.model_dump()\n",
                "    if export_pipeline is not None:\n",
                "        config_dict['export_pipeline'] = export_pipeline\n",
                "    config = parse_config_dict(config_dict)\n",
                "    \n",
                "    if nb_paths is not None:\n",
                "        nb_paths = [Path(p).resolve() for p in nb_paths]\n",
                "    \n",
                "    for rule in config.export_pipeline:\n",
                "        from_conf = config.code_locations[rule.from_key]\n",
                "        to_conf = config.code_locations[rule.to_key]\n",
                "        from_file_ext = from_conf.file_ext\n",
                "        \n",
                "        ignore_underscores = to_conf.format == 'module' # Don't export underscored nbs to module code locations\n",
                "        from_nb_paths = get_code_location_nbs(root_path, from_conf, ignore_underscores=ignore_underscores)\n",
                "        \n",
                "        if to_conf.format == 'module':            \n",
                "            for fp in from_nb_paths:\n",
                "                nb_directives = get_nb_directives(fp)\n",
                "                export_as_func_directive = lookup_directive(nb_directives, 'export_as_func')\n",
                "                export_as_func = export_as_func_directive is not None and export_as_func_directive['args'] == 'true'\n",
                "                \n",
                "                if export_as_func:\n",
                "                    export_to_lib_as_func(fp, root_path / to_conf.path, nb_format=from_conf.format)\n",
                "                else:\n",
                "                    export_to_lib(fp, root_path / to_conf.path, nb_format=from_conf.format)\n",
                "        else:\n",
                "            to_file_ext = to_conf.file_ext\n",
                "            for fp in from_nb_paths:\n",
                "                if nb_paths is not None and fp.resolve() not in nb_paths:\n",
                "                    continue\n",
                "                \n",
                "                sub_path = fp.relative_to(root_path / from_conf.path)\n",
                "                dest_fname = sub_path.name[:-len(from_file_ext)] + to_file_ext\n",
                "                dest_path = root_path / to_conf.path / sub_path.parent / dest_fname\n",
                "                dest_path.parent.mkdir(parents=True, exist_ok=True)\n",
                "                convert_nb(fp, dest_path, from_conf.format, to_conf.format)"
            ]
        },
        {
            "cell_type": "code",
            "execution_count": null,
            "metadata": {},
            "outputs": [],
            "source": [
                "root_path = Path('../../../test_proj/')\n",
                "shutil.rmtree(root_path / 'my_module', ignore_errors=True)\n",
                "shutil.rmtree(root_path / 'pcts', ignore_errors=True)\n",
                "shutil.rmtree(root_path / 'lgts', ignore_errors=True)"
            ]
        },
        {
            "cell_type": "code",
            "execution_count": null,
            "metadata": {},
            "outputs": [],
            "source": [
                "export(root_path)"
            ]
        },
        {
            "cell_type": "code",
            "execution_count": null,
            "metadata": {},
            "outputs": [],
            "source": [
                "export(root_path, nb_paths=[root_path / 'nbs/notebook1.ipynb'])"
            ]
        }
    ],
    "metadata": {
        "language_info": {
            "codemirror_mode": {
                "name": "ipython",
                "version": 3
            },
            "file_extension": ".py",
            "mimetype": "text/x-python",
            "name": "python",
            "nbconvert_exporter": "python",
            "pygments_lexer": "ipython3",
            "version": "3.9.6"
        },
        "nblite_source_hash": "8aeeeecb5a26c8a3ed50d68491597e4fb50dc3ba337465de6e67cbdcde0dd345"
    },
    "nbformat": 4,
    "nbformat_minor": 2
}