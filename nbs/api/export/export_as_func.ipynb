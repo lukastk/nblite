{
    "cells": [
        {
            "cell_type": "markdown",
            "metadata": {},
            "source": [
                "# export.export_as_func"
            ]
        },
        {
            "cell_type": "code",
            "execution_count": null,
            "metadata": {},
            "outputs": [],
            "source": [
                "#|default_exp export.export_as_func"
            ]
        },
        {
            "cell_type": "code",
            "execution_count": null,
            "metadata": {},
            "outputs": [],
            "source": [
                "#|hide\n",
                "import nblite; from nbdev.showdoc import show_doc; nblite.nbl_export()"
            ]
        },
        {
            "cell_type": "code",
            "execution_count": null,
            "metadata": {},
            "outputs": [],
            "source": [
                "#|export\n",
                "import re"
            ]
        },
        {
            "cell_type": "code",
            "execution_count": null,
            "metadata": {},
            "outputs": [],
            "source": [
                "import nblite.export.export_as_func as fns"
            ]
        },
        {
            "cell_type": "code",
            "execution_count": null,
            "metadata": {},
            "outputs": [
                {
                    "data": {
                        "text/markdown": [
                            "---\n",
                            "\n",
                            "### extract_func_signature\n",
                            "\n",
                            ">      extract_func_signature (code_str)"
                        ],
                        "text/plain": [
                            "---\n",
                            "\n",
                            "### extract_func_signature\n",
                            "\n",
                            ">      extract_func_signature (code_str)"
                        ]
                    },
                    "execution_count": null,
                    "metadata": {},
                    "output_type": "execute_result"
                }
            ],
            "source": [
                "show_doc(fns.extract_func_signature)"
            ]
        },
        {
            "cell_type": "markdown",
            "metadata": {},
            "source": [
                "Used to extract the function signature declared under the `set_func_signature` directive."
            ]
        },
        {
            "cell_type": "code",
            "execution_count": null,
            "metadata": {},
            "outputs": [],
            "source": [
                "#|exporti\n",
                "def extract_func_signature(code_str):\n",
                "    # Pattern explanation:\n",
                "    # 1. Look for #|set_func_signature\n",
                "    # 2. Followed by any whitespace and newlines\n",
                "    # 3. Then match either:\n",
                "    #    - Triple quotes (\"\"\" or ''') with content and closing triple quotes\n",
                "    #    - Single quotes (' or \") with content and matching closing quote\n",
                "    pattern = r'#\\|set_func_signature\\s*\\n\\s*(?:\"\"\"(.*?)\"\"\"|\\'\\'\\'(.*?)\\'\\'\\'|\"([^\"]*?)\"|\\'([^\\']*?)\\')'\n",
                "    \n",
                "    # re.DOTALL makes . match newlines too\n",
                "    match = re.search(pattern, code_str, re.DOTALL)\n",
                "    \n",
                "    if not match:\n",
                "        return None\n",
                "        \n",
                "    # Return the first non-None group (the one that matched)\n",
                "    return next((group.strip() for group in match.groups() if group is not None), None)"
            ]
        },
        {
            "cell_type": "code",
            "execution_count": null,
            "metadata": {},
            "outputs": [],
            "source": [
                "#|export\n",
                "def foo():\n",
                "    pass"
            ]
        },
        {
            "cell_type": "code",
            "execution_count": null,
            "metadata": {},
            "outputs": [],
            "source": []
        }
    ],
    "metadata": {},
    "nbformat": 4,
    "nbformat_minor": 2
}