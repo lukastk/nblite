{
    "cells": [
        {
            "cell_type": "markdown",
            "metadata": {},
            "source": [
                "# nblite\n",
                "\n",
                "> "
            ]
        },
        {
            "cell_type": "markdown",
            "metadata": {},
            "source": [
                "`nblite` is a wrapper around [`nbdev`](https://github.com/AnswerDotAI/nbdev)"
            ]
        }
    ],
    "metadata": {
        "language_info": {
            "codemirror_mode": {
                "name": "ipython",
                "version": 3
            },
            "file_extension": ".py",
            "mimetype": "text/x-python",
            "name": "python",
            "nbconvert_exporter": "python",
            "pygments_lexer": "ipython3",
            "version": "3.9.6"
        },
        "nblite_source_hash": "adbde317bd660db4203c9eeb85ce689621b84db0cfd28067db7081d90acc63b1"
    },
    "nbformat": 4,
    "nbformat_minor": 4
}