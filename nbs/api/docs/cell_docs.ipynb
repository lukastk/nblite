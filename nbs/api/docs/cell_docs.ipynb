{
    "cells": [
        {
            "cell_type": "markdown",
            "id": "f6803654",
            "metadata": {},
            "source": [
                "# docs.cell_docs"
            ]
        },
        {
            "cell_type": "code",
            "execution_count": null,
            "id": "00a71be7",
            "metadata": {},
            "outputs": [],
            "source": [
                "#|default_exp docs.cell_docs"
            ]
        },
        {
            "cell_type": "code",
            "execution_count": null,
            "id": "c979bc8c",
            "metadata": {},
            "outputs": [],
            "source": [
                "#|hide\n",
                "import nblite; from nblite import show_doc; nblite.nbl_export()"
            ]
        },
        {
            "cell_type": "code",
            "execution_count": null,
            "id": "84d9e5cf",
            "metadata": {},
            "outputs": [],
            "source": [
                "#|export\n",
                "from IPython.display import Markdown\n",
                "from pathlib import Path\n",
                "from docstring_parser import parse as parse_docstring\n",
                "import inspect\n",
                "import ast"
            ]
        },
        {
            "cell_type": "code",
            "execution_count": null,
            "id": "72729ee5",
            "metadata": {},
            "outputs": [],
            "source": [
                "#|hide\n",
                "from nblite.utils import get_project_root_and_config\n",
                "import nblite.docs.cell_docs as this_module"
            ]
        },
        {
            "cell_type": "code",
            "execution_count": null,
            "id": "1328ced3",
            "metadata": {},
            "outputs": [],
            "source": [
                "#|hide\n",
                "root_path, config = get_project_root_and_config(Path('../../../test_proj/'))"
            ]
        },
        {
            "cell_type": "code",
            "execution_count": null,
            "id": "1b731e8b",
            "metadata": {},
            "outputs": [
                {
                    "data": {
                        "text/markdown": [
                            "## extract_top_level_definitions\n",
                            "\n",
                            "```python\n",
                            "extract_top_level_definitions(code_str: str) -> list\n",
                            "```\n",
                            "\n",
                            "Extracts top-level function and class definitions from a given Python code string.\n",
                            "\n",
                            "---\n"
                        ],
                        "text/plain": [
                            "<IPython.core.display.Markdown object>"
                        ]
                    },
                    "execution_count": null,
                    "metadata": {},
                    "output_type": "execute_result"
                }
            ],
            "source": [
                "#|hide\n",
                "show_doc(this_module.extract_top_level_definitions)"
            ]
        },
        {
            "cell_type": "code",
            "execution_count": null,
            "id": "26ac0e39",
            "metadata": {},
            "outputs": [],
            "source": [
                "#|exporti\n",
                "def extract_top_level_definitions(code_str: str) -> list:\n",
                "    \"\"\"\n",
                "    Extracts top-level function and class definitions from a given Python code string.\n",
                "    \"\"\"\n",
                "    # Parse the code string into an Abstract Syntax Tree (AST)\n",
                "    tree = ast.parse(code_str)\n",
                "\n",
                "    # Initialize a list to store the top-level definitions\n",
                "    top_level_definitions = []\n",
                "\n",
                "    # Iterate over the top-level nodes in the AST\n",
                "    for node in tree.body:\n",
                "        # Check if the node is a function or class definition\n",
                "        if isinstance(node, (ast.FunctionDef, ast.ClassDef)):\n",
                "            # Get the source code for the node\n",
                "            start_line = node.lineno - 1\n",
                "            end_line = node.end_lineno\n",
                "            lines = code_str.splitlines()\n",
                "            definition = \"\\n\".join(lines[start_line:end_line])\n",
                "            top_level_definitions.append({\n",
                "                'type': 'function' if isinstance(node, ast.FunctionDef) else 'class',\n",
                "                'code': definition,\n",
                "            })\n",
                "\n",
                "    return top_level_definitions"
            ]
        },
        {
            "cell_type": "code",
            "execution_count": null,
            "id": "57af9bf4",
            "metadata": {},
            "outputs": [
                {
                    "data": {
                        "text/plain": [
                            "[{'type': 'function',\n",
                            "  'code': 'def foo(a: int, b: Union[str, None], c, *args, **kwargs) -> str:\\n    \\'\\'\\'\\n    Processes input.\\n\\n    Args:\\n        a (int): The first number.\\n        b (Union[str, None]): Optional label.\\n        c: Unannotated parameter.\\n\\n    Returns:\\n        bool: True if processed correctly.\\n    \\'\\'\\'\\n    return \"foo\"'},\n",
                            " {'type': 'function',\n",
                            "  'code': \"def bar():\\n    '''\\n    A docstring\\n    '''\\n    pass\"},\n",
                            " {'type': 'class',\n",
                            "  'code': \"class MyClass(BaseClass1, BaseClass2):\\n    def __init__(self, a: int, b: str, c):\\n        '''\\n        Constructs a new instance of MyClass.\\n\\n        Args:\\n            a (int): The first number.\\n            b (str): The second number.\\n            c: Unannotated parameter.\\n        '''\\n        pass\\n\\n    def baz(self, d: float, e: bool):\\n        pass\\n        \\n    async def async_method(self, f: float, g: bool):\\n        pass\"}]"
                        ]
                    },
                    "execution_count": null,
                    "metadata": {},
                    "output_type": "execute_result"
                }
            ],
            "source": [
                "code_str = \"\"\"\n",
                "def foo(a: int, b: Union[str, None], c, *args, **kwargs) -> str:\n",
                "    '''\n",
                "    Processes input.\n",
                "\n",
                "    Args:\n",
                "        a (int): The first number.\n",
                "        b (Union[str, None]): Optional label.\n",
                "        c: Unannotated parameter.\n",
                "\n",
                "    Returns:\n",
                "        bool: True if processed correctly.\n",
                "    '''\n",
                "    return \"foo\"\n",
                "\n",
                "def bar():\n",
                "    '''\n",
                "    A docstring\n",
                "    '''\n",
                "    pass\n",
                "\n",
                "class MyClass(BaseClass1, BaseClass2):\n",
                "    def __init__(self, a: int, b: str, c):\n",
                "        '''\n",
                "        Constructs a new instance of MyClass.\n",
                "\n",
                "        Args:\n",
                "            a (int): The first number.\n",
                "            b (str): The second number.\n",
                "            c: Unannotated parameter.\n",
                "        '''\n",
                "        pass\n",
                "\n",
                "    def baz(self, d: float, e: bool):\n",
                "        pass\n",
                "        \n",
                "    async def async_method(self, f: float, g: bool):\n",
                "        pass\n",
                "\"\"\"\n",
                "\n",
                "extract_top_level_definitions(code_str)"
            ]
        },
        {
            "cell_type": "code",
            "execution_count": null,
            "id": "c32648c7",
            "metadata": {},
            "outputs": [
                {
                    "data": {
                        "text/markdown": [
                            "## extract_function_meta\n",
                            "\n",
                            "```python\n",
                            "extract_function_meta(code_str)\n",
                            "```\n",
                            "\n",
                            "Extracts details of functions from a given Python code string.\n",
                            "\n",
                            "---\n"
                        ],
                        "text/plain": [
                            "<IPython.core.display.Markdown object>"
                        ]
                    },
                    "execution_count": null,
                    "metadata": {},
                    "output_type": "execute_result"
                }
            ],
            "source": [
                "#|hide\n",
                "show_doc(this_module.extract_function_meta)"
            ]
        },
        {
            "cell_type": "code",
            "execution_count": null,
            "id": "8ca79ee8",
            "metadata": {},
            "outputs": [],
            "source": [
                "#|exporti\n",
                "def extract_function_meta(code_str):\n",
                "    \"\"\"\n",
                "    Extracts details of functions from a given Python code string.\n",
                "    \"\"\"\n",
                "    import ast\n",
                "    tree = ast.parse(code_str)\n",
                "    function_details = []\n",
                "    for node in tree.body:\n",
                "        if isinstance(node, ast.FunctionDef):\n",
                "            func_name = node.name\n",
                "            is_async = isinstance(node, ast.AsyncFunctionDef)\n",
                "            args = {}\n",
                "            # Regular arguments\n",
                "            for arg in node.args.args:\n",
                "                args[arg.arg] = ast.get_source_segment(code_str, arg.annotation) if arg.annotation else None\n",
                "            # *args\n",
                "            if node.args.vararg:\n",
                "                vararg = node.args.vararg\n",
                "                args[f\"*{vararg.arg}\"] = ast.get_source_segment(code_str, vararg.annotation) if vararg.annotation else None\n",
                "            # **kwargs\n",
                "            if node.args.kwarg:\n",
                "                kwarg = node.args.kwarg\n",
                "                args[f\"**{kwarg.arg}\"] = ast.get_source_segment(code_str, kwarg.annotation) if kwarg.annotation else None\n",
                "            docstring = ast.get_docstring(node)\n",
                "            # Get return type\n",
                "            return_type = ast.get_source_segment(code_str, node.returns) if node.returns else None\n",
                "            # Build signature string\n",
                "            sig_parts = []\n",
                "            for k, v in args.items():\n",
                "                if v is not None:\n",
                "                    sig_parts.append(f\"{k}: {v}\")\n",
                "                else:\n",
                "                    sig_parts.append(f\"{k}\")\n",
                "            full_signature = f\"{func_name}({', '.join(sig_parts)})\"\n",
                "            if return_type is not None:\n",
                "                full_signature += f\" -> {return_type}\"\n",
                "            function_details.append({\n",
                "                'name': func_name,\n",
                "                'full_signature': full_signature,\n",
                "                'is_async': is_async,\n",
                "                'args': args,\n",
                "                'docstring': docstring,\n",
                "                'return_annotation': return_type\n",
                "            })\n",
                "    if len(function_details) != 1: raise ValueError(\"Expected exactly one function definition in the code string.\")\n",
                "    return function_details[0]"
            ]
        },
        {
            "cell_type": "code",
            "execution_count": null,
            "id": "65bfe0d3",
            "metadata": {},
            "outputs": [
                {
                    "data": {
                        "text/plain": [
                            "{'name': 'foo',\n",
                            " 'full_signature': 'foo(a: int, b: Union[str, None], c, *args, **kwargs) -> str',\n",
                            " 'is_async': False,\n",
                            " 'args': {'a': 'int',\n",
                            "  'b': 'Union[str, None]',\n",
                            "  'c': None,\n",
                            "  '*args': None,\n",
                            "  '**kwargs': None},\n",
                            " 'docstring': 'Processes input.\\n\\nArgs:\\n    a (int): The first number.\\n    b (Union[str, None]): Optional label.\\n    c: Unannotated parameter.\\n\\nReturns:\\n    bool: True if processed correctly.',\n",
                            " 'return_annotation': 'str'}"
                        ]
                    },
                    "execution_count": null,
                    "metadata": {},
                    "output_type": "execute_result"
                }
            ],
            "source": [
                "func_str = extract_top_level_definitions(code_str)[0]['code']\n",
                "extract_function_meta(func_str)"
            ]
        },
        {
            "cell_type": "code",
            "execution_count": null,
            "id": "1aab6543",
            "metadata": {},
            "outputs": [
                {
                    "data": {
                        "text/markdown": [
                            "## extract_function_meta_from_obj\n",
                            "\n",
                            "```python\n",
                            "extract_function_meta_from_obj(func)\n",
                            "```\n",
                            "\n",
                            "Extracts details of a function from a given Python function object.\n",
                            "\n",
                            "---\n"
                        ],
                        "text/plain": [
                            "<IPython.core.display.Markdown object>"
                        ]
                    },
                    "execution_count": null,
                    "metadata": {},
                    "output_type": "execute_result"
                }
            ],
            "source": [
                "#|hide\n",
                "show_doc(this_module.extract_function_meta_from_obj)"
            ]
        },
        {
            "cell_type": "code",
            "execution_count": null,
            "id": "6a8b3391",
            "metadata": {},
            "outputs": [],
            "source": [
                "#|exporti\n",
                "def extract_function_meta_from_obj(func):\n",
                "    \"\"\"\n",
                "    Extracts details of a function from a given Python function object.\n",
                "    \"\"\"\n",
                "    import inspect\n",
                "\n",
                "    if not inspect.isfunction(func) and not inspect.ismethod(func):\n",
                "        raise TypeError(\"Expected a function or method object.\")\n",
                "\n",
                "    func_name = func.__name__\n",
                "    sig = inspect.signature(func)\n",
                "    args = {}\n",
                "    sig_parts = []\n",
                "    for name, param in sig.parameters.items():\n",
                "        annotation = param.annotation if param.annotation is not inspect.Parameter.empty else None\n",
                "        # Convert annotation to string if present\n",
                "        annotation_str = (\n",
                "            annotation.__name__ if isinstance(annotation, type)\n",
                "            else str(annotation) if annotation is not None\n",
                "            else None\n",
                "        )\n",
                "        # Handle *args and **kwargs\n",
                "        if param.kind == inspect.Parameter.VAR_POSITIONAL:\n",
                "            display_name = f\"*{name}\"\n",
                "        elif param.kind == inspect.Parameter.VAR_KEYWORD:\n",
                "            display_name = f\"**{name}\"\n",
                "        else:\n",
                "            display_name = name\n",
                "        args[display_name] = annotation_str\n",
                "        if annotation_str is not None:\n",
                "            sig_parts.append(f\"{display_name}: {annotation_str}\")\n",
                "        else:\n",
                "            sig_parts.append(f\"{display_name}\")\n",
                "\n",
                "    docstring = inspect.getdoc(func)\n",
                "    is_async = inspect.iscoroutinefunction(func)\n",
                "\n",
                "    # Get return type\n",
                "    return_annotation = sig.return_annotation if sig.return_annotation is not inspect.Signature.empty else None\n",
                "    return_annotation_str = (\n",
                "        return_annotation.__name__ if isinstance(return_annotation, type)\n",
                "        else str(return_annotation) if return_annotation is not None\n",
                "        else None\n",
                "    )\n",
                "\n",
                "    full_signature = f\"{func_name}({', '.join(sig_parts)})\"\n",
                "    if return_annotation_str is not None:\n",
                "        full_signature += f\" -> {return_annotation_str}\"\n",
                "\n",
                "    return {\n",
                "        'name': func_name,\n",
                "        'full_signature': full_signature,\n",
                "        'is_async': is_async,\n",
                "        'args': args,\n",
                "        'docstring': docstring,\n",
                "        'return_annotation': return_annotation_str\n",
                "    }"
            ]
        },
        {
            "cell_type": "code",
            "execution_count": null,
            "id": "96a0b98d",
            "metadata": {},
            "outputs": [
                {
                    "data": {
                        "text/plain": [
                            "{'name': 'foo',\n",
                            " 'full_signature': 'foo(a, b, c: str, *args, **kwargs) -> str',\n",
                            " 'is_async': False,\n",
                            " 'args': {'a': None, 'b': None, 'c': 'str', '*args': None, '**kwargs': None},\n",
                            " 'docstring': None,\n",
                            " 'return_annotation': 'str'}"
                        ]
                    },
                    "execution_count": null,
                    "metadata": {},
                    "output_type": "execute_result"
                }
            ],
            "source": [
                "def foo(a, b, c:str, *args, **kwargs) -> str:\n",
                "    pass\n",
                "\n",
                "extract_function_meta_from_obj(foo)"
            ]
        },
        {
            "cell_type": "code",
            "execution_count": null,
            "id": "5d78d849",
            "metadata": {},
            "outputs": [
                {
                    "data": {
                        "text/markdown": [
                            "## extract_class_meta\n",
                            "\n",
                            "```python\n",
                            "extract_class_meta(code_str)\n",
                            "```\n",
                            "\n",
                            "Extracts details of a class from a given Python code string.\n",
                            "\n",
                            "---\n"
                        ],
                        "text/plain": [
                            "<IPython.core.display.Markdown object>"
                        ]
                    },
                    "execution_count": null,
                    "metadata": {},
                    "output_type": "execute_result"
                }
            ],
            "source": [
                "#|hide\n",
                "show_doc(this_module.extract_class_meta)"
            ]
        },
        {
            "cell_type": "code",
            "execution_count": null,
            "id": "9f5d99aa",
            "metadata": {},
            "outputs": [],
            "source": [
                "#|exporti\n",
                "def extract_class_meta(code_str):\n",
                "    \"\"\"\n",
                "    Extracts details of a class from a given Python code string.\n",
                "    \"\"\"\n",
                "    import ast\n",
                "    tree = ast.parse(code_str)\n",
                "    class_details = {}\n",
                "    for node in tree.body:\n",
                "        if isinstance(node, ast.ClassDef):\n",
                "            class_name = node.name\n",
                "            base_classes = [base.id for base in node.bases if isinstance(base, ast.Name)]\n",
                "            methods = []\n",
                "            for item in node.body:\n",
                "                if isinstance(item, ast.FunctionDef):\n",
                "                    method_details = extract_function_meta(ast.get_source_segment(code_str, item))\n",
                "                    methods.append(method_details)\n",
                "            class_details = {\n",
                "                'name': class_name,\n",
                "                'inherits_from': base_classes,\n",
                "                'methods': methods\n",
                "            }\n",
                "    return class_details"
            ]
        },
        {
            "cell_type": "code",
            "execution_count": null,
            "id": "cc0e7efb",
            "metadata": {},
            "outputs": [
                {
                    "data": {
                        "text/plain": [
                            "{'name': 'MyClass',\n",
                            " 'inherits_from': ['BaseClass1', 'BaseClass2'],\n",
                            " 'methods': [{'name': '__init__',\n",
                            "   'full_signature': '__init__(self, a: int, b: str, c)',\n",
                            "   'is_async': False,\n",
                            "   'args': {'self': None, 'a': 'int', 'b': 'str', 'c': None},\n",
                            "   'docstring': 'Constructs a new instance of MyClass.\\n\\nArgs:\\n    a (int): The first number.\\n    b (str): The second number.\\n    c: Unannotated parameter.',\n",
                            "   'return_annotation': None},\n",
                            "  {'name': 'baz',\n",
                            "   'full_signature': 'baz(self, d: float, e: bool)',\n",
                            "   'is_async': False,\n",
                            "   'args': {'self': None, 'd': 'float', 'e': 'bool'},\n",
                            "   'docstring': None,\n",
                            "   'return_annotation': None}]}"
                        ]
                    },
                    "execution_count": null,
                    "metadata": {},
                    "output_type": "execute_result"
                }
            ],
            "source": [
                "class_str = extract_top_level_definitions(code_str)[2]['code']\n",
                "extract_class_meta(class_str)"
            ]
        },
        {
            "cell_type": "code",
            "execution_count": null,
            "id": "fe9d8f10",
            "metadata": {},
            "outputs": [
                {
                    "data": {
                        "text/markdown": [
                            "## extract_class_meta_from_obj\n",
                            "\n",
                            "```python\n",
                            "extract_class_meta_from_obj(cls)\n",
                            "```\n",
                            "\n",
                            "Extracts details of a class from a given Python class object.\n",
                            "\n",
                            "---\n"
                        ],
                        "text/plain": [
                            "<IPython.core.display.Markdown object>"
                        ]
                    },
                    "execution_count": null,
                    "metadata": {},
                    "output_type": "execute_result"
                }
            ],
            "source": [
                "#|hide\n",
                "show_doc(this_module.extract_class_meta_from_obj)"
            ]
        },
        {
            "cell_type": "code",
            "execution_count": null,
            "id": "9cf075cd",
            "metadata": {},
            "outputs": [],
            "source": [
                "#|exporti\n",
                "def extract_class_meta_from_obj(cls):\n",
                "    \"\"\"\n",
                "    Extracts details of a class from a given Python class object.\n",
                "    \"\"\"\n",
                "    class_name = cls.__name__\n",
                "    base_classes = [base.__name__ for base in cls.__bases__ if base is not object]\n",
                "    methods = []\n",
                "    for name, member in inspect.getmembers(cls, predicate=inspect.isfunction):\n",
                "        # Only include methods defined in this class, not inherited ones\n",
                "        if member.__qualname__.startswith(cls.__name__ + \".\"):\n",
                "            methods.append(extract_function_meta_from_obj(member))\n",
                "    class_details = {\n",
                "        'name': class_name,\n",
                "        'inherits_from': base_classes,\n",
                "        'methods': methods\n",
                "    }\n",
                "    return class_details"
            ]
        },
        {
            "cell_type": "code",
            "execution_count": null,
            "id": "ba847a26",
            "metadata": {},
            "outputs": [
                {
                    "data": {
                        "text/plain": [
                            "{'name': 'Foo',\n",
                            " 'inherits_from': [],\n",
                            " 'methods': [{'name': '__init__',\n",
                            "   'full_signature': '__init__(self, a, b, c: str)',\n",
                            "   'is_async': False,\n",
                            "   'args': {'self': None, 'a': None, 'b': None, 'c': 'str'},\n",
                            "   'docstring': 'A docstring',\n",
                            "   'return_annotation': None}]}"
                        ]
                    },
                    "execution_count": null,
                    "metadata": {},
                    "output_type": "execute_result"
                }
            ],
            "source": [
                "class Foo:\n",
                "    def __init__(self, a, b, c:str):\n",
                "        \"A docstring\"\n",
                "        pass\n",
                "    \n",
                "extract_class_meta_from_obj(Foo)"
            ]
        },
        {
            "cell_type": "code",
            "execution_count": null,
            "id": "049f24cb",
            "metadata": {},
            "outputs": [
                {
                    "data": {
                        "text/markdown": [
                            "## render_function_doc\n",
                            "\n",
                            "```python\n",
                            "render_function_doc(func, title_level)\n",
                            "```\n",
                            "\n",
                            "Takes function metadata and returns formatted Markdown documentation\n",
                            "\n",
                            "using `docstring-parser` to structure the docstring content.\n",
                            "\n",
                            "---\n"
                        ],
                        "text/plain": [
                            "<IPython.core.display.Markdown object>"
                        ]
                    },
                    "execution_count": null,
                    "metadata": {},
                    "output_type": "execute_result"
                }
            ],
            "source": [
                "#|hide\n",
                "show_doc(this_module.render_function_doc)"
            ]
        },
        {
            "cell_type": "code",
            "execution_count": null,
            "id": "a2b6be40",
            "metadata": {},
            "outputs": [],
            "source": [
                "#|exporti\n",
                "def render_function_doc(func, title_level=2):\n",
                "    \"\"\"\n",
                "    Takes function metadata and returns formatted Markdown documentation\n",
                "    using `docstring-parser` to structure the docstring content.\n",
                "    \"\"\"\n",
                "    md_lines = []\n",
                "\n",
                "    # Header\n",
                "    header = f\"{'#'*title_level} {func['name']}\"\n",
                "    if func['is_async']:\n",
                "        header += \" *(async)*\"\n",
                "    md_lines.append(header)\n",
                "    md_lines.append(\"\")\n",
                "    \n",
                "    # Signature\n",
                "    MAX_SIGNATURE_LENGTH = 80  # Define a constant for maximum signature length\n",
                "    full_signature = func['full_signature']\n",
                "    \n",
                "    if len(full_signature) > MAX_SIGNATURE_LENGTH:\n",
                "        # Split the signature into multiple lines\n",
                "        signature_lines = [f\"{func['name']}(\"]\n",
                "        for arg, arg_type in func['args'].items():\n",
                "            if arg_type:\n",
                "                signature_lines.append(f\"   {arg}: {arg_type},\")\n",
                "            else:\n",
                "                signature_lines.append(f\"   {arg},\")\n",
                "        signature_lines[-1] = signature_lines[-1].rstrip(',')  # Remove trailing comma from last argument\n",
                "        if 'return_annotation' in func and func['return_annotation']:\n",
                "            signature_lines.append(f\") -> {func['return_annotation']}\")\n",
                "        else:\n",
                "            signature_lines.append(\")\")\n",
                "        if 'return_type' in func and func['return_type']:\n",
                "            signature_lines[-1] += f\" -> {func['return_type']}\"\n",
                "        md_lines.append(\"```python\\n\" + \"\\n\".join(signature_lines) + \"\\n```\")\n",
                "    else:\n",
                "        md_lines.append(f\"```python\\n{full_signature}\\n```\")\n",
                "    \n",
                "    md_lines.append(\"\")\n",
                "\n",
                "    # Parse docstring\n",
                "    parsed_doc = parse_docstring(func['docstring'] or \"\")\n",
                "\n",
                "    # Summary\n",
                "    if parsed_doc.short_description:\n",
                "        md_lines.append(parsed_doc.short_description)\n",
                "        md_lines.append(\"\")\n",
                "\n",
                "    # Long description\n",
                "    if parsed_doc.long_description:\n",
                "        md_lines.append(parsed_doc.long_description)\n",
                "        md_lines.append(\"\")\n",
                "\n",
                "    # Parameters\n",
                "    if parsed_doc.params:\n",
                "        md_lines.append(\"**Arguments:**\")\n",
                "        for param in parsed_doc.params:\n",
                "            param_line = f\"- `{param.arg_name}`\"\n",
                "            if param.type_name:\n",
                "                param_line += f\" (*{param.type_name}*)\"\n",
                "            if param.description:\n",
                "                param_line += f\": {param.description}\"\n",
                "            md_lines.append(param_line)\n",
                "        md_lines.append(\"\")\n",
                "\n",
                "    # Returns\n",
                "    if parsed_doc.returns:\n",
                "        ret = parsed_doc.returns\n",
                "        return_line = \"**Returns:**\"\n",
                "        if ret.type_name:\n",
                "            return_line += f\" *{ret.type_name}*\"\n",
                "        if ret.description:\n",
                "            return_line += f\": {ret.description}\"\n",
                "        md_lines.append(return_line)\n",
                "        md_lines.append(\"\")\n",
                "\n",
                "    # Final spacing\n",
                "    md_lines.append(\"---\")\n",
                "    md_lines.append(\"\")\n",
                "\n",
                "    return \"\\n\".join(md_lines)"
            ]
        },
        {
            "cell_type": "code",
            "execution_count": null,
            "id": "61f97ba8",
            "metadata": {},
            "outputs": [
                {
                    "data": {
                        "text/markdown": [
                            "## foo\n",
                            "\n",
                            "```python\n",
                            "foo(a: int, b: Union[str, None], c, *args, **kwargs) -> str\n",
                            "```\n",
                            "\n",
                            "Processes input.\n",
                            "\n",
                            "**Arguments:**\n",
                            "- `a` (*int*): The first number.\n",
                            "- `b` (*Union[str, None]*): Optional label.\n",
                            "- `c`: Unannotated parameter.\n",
                            "\n",
                            "**Returns:** *bool*: True if processed correctly.\n",
                            "\n",
                            "---\n"
                        ],
                        "text/plain": [
                            "<IPython.core.display.Markdown object>"
                        ]
                    },
                    "execution_count": null,
                    "metadata": {},
                    "output_type": "execute_result"
                }
            ],
            "source": [
                "function_str = extract_top_level_definitions(code_str)[0]['code']\n",
                "Markdown(render_function_doc(extract_function_meta(function_str)))"
            ]
        },
        {
            "cell_type": "code",
            "execution_count": null,
            "id": "2d41208d",
            "metadata": {},
            "outputs": [
                {
                    "data": {
                        "text/markdown": [
                            "## foo\n",
                            "\n",
                            "```python\n",
                            "foo(\n",
                            "   argument1: int,\n",
                            "   argument2: str,\n",
                            "   argument3,\n",
                            "   argument4,\n",
                            "   argument5,\n",
                            "   *args,\n",
                            "   **kwargs\n",
                            ") -> str\n",
                            "```\n",
                            "\n",
                            "---\n"
                        ],
                        "text/plain": [
                            "<IPython.core.display.Markdown object>"
                        ]
                    },
                    "execution_count": null,
                    "metadata": {},
                    "output_type": "execute_result"
                }
            ],
            "source": [
                "function_str = \"\"\"\n",
                "def foo(argument1: int, argument2: str, argument3, argument4, argument5,*args, **kwargs) -> str:\n",
                "    pass\n",
                "\"\"\"\n",
                "Markdown(render_function_doc(extract_function_meta(function_str)))"
            ]
        },
        {
            "cell_type": "code",
            "execution_count": null,
            "id": "20a380fa",
            "metadata": {},
            "outputs": [],
            "source": [
                "#|exporti\n",
                "def render_class_doc(cls, title_level=2):\n",
                "    \"\"\"\n",
                "    Takes class metadata and returns formatted Markdown documentation\n",
                "    for the class and its methods.\n",
                "    \"\"\"\n",
                "    md_lines = []\n",
                "\n",
                "    # Class header\n",
                "    header = f\"{'#'*title_level} {cls['name']}\"\n",
                "    md_lines.append(header)\n",
                "    md_lines.append(\"\")\n",
                "\n",
                "    # Inheritance\n",
                "    if cls.get('inherits_from'):\n",
                "        bases = ', '.join(cls['inherits_from'])\n",
                "        md_lines.append(f\"*Inherits from*: `{bases}`\")\n",
                "        md_lines.append(\"\")\n",
                "\n",
                "    # Class divider\n",
                "    md_lines.append(\"---\")\n",
                "    md_lines.append(\"\")\n",
                "\n",
                "    # Methods\n",
                "    if cls.get('methods'):\n",
                "        md_lines.append(f\"<h{title_level+1}>Methods</h{title_level+1}>\")\n",
                "        md_lines.append(\"\")\n",
                "        for method in cls['methods']:\n",
                "            md_lines.append(render_function_doc(method, title_level=title_level+2))\n",
                "\n",
                "    return \"\\n\".join(md_lines)"
            ]
        },
        {
            "cell_type": "code",
            "execution_count": null,
            "id": "fa13b316",
            "metadata": {},
            "outputs": [
                {
                    "name": "stdout",
                    "output_type": "stream",
                    "text": [
                        "## MyClass\n",
                        "\n",
                        "*Inherits from*: `BaseClass1, BaseClass2`\n",
                        "\n",
                        "---\n",
                        "\n",
                        "<h3>Methods</h3>\n",
                        "\n",
                        "#### __init__\n",
                        "\n",
                        "```python\n",
                        "__init__(self, a: int, b: str, c)\n",
                        "```\n",
                        "\n",
                        "Constructs a new instance of MyClass.\n",
                        "\n",
                        "**Arguments:**\n",
                        "- `a` (*int*): The first number.\n",
                        "- `b` (*str*): The second number.\n",
                        "- `c`: Unannotated parameter.\n",
                        "\n",
                        "---\n",
                        "\n",
                        "#### baz\n",
                        "\n",
                        "```python\n",
                        "baz(self, d: float, e: bool)\n",
                        "```\n",
                        "\n",
                        "---\n",
                        "\n"
                    ]
                }
            ],
            "source": [
                "class_str = extract_top_level_definitions(code_str)[2]['code']\n",
                "print(render_class_doc(extract_class_meta(class_str)))"
            ]
        },
        {
            "cell_type": "code",
            "execution_count": null,
            "id": "f3953d75",
            "metadata": {},
            "outputs": [
                {
                    "data": {
                        "text/markdown": [
                            "## render_cell_doc\n",
                            "\n",
                            "```python\n",
                            "render_cell_doc(cell_code, title_level)\n",
                            "```\n",
                            "\n",
                            "Takes a cell code, extracts all top-level function and class definitions,\n",
                            "\n",
                            "and returns formatted Markdown documentation for each.\n",
                            "\n",
                            "---\n"
                        ],
                        "text/plain": [
                            "<IPython.core.display.Markdown object>"
                        ]
                    },
                    "execution_count": null,
                    "metadata": {},
                    "output_type": "execute_result"
                }
            ],
            "source": [
                "#|hide\n",
                "show_doc(this_module.render_cell_doc)"
            ]
        },
        {
            "cell_type": "code",
            "execution_count": null,
            "id": "30c5921e",
            "metadata": {},
            "outputs": [],
            "source": [
                "#|export\n",
                "def render_cell_doc(cell_code, title_level=2):\n",
                "    \"\"\"\n",
                "    Takes a cell code, extracts all top-level function and class definitions,\n",
                "    and returns formatted Markdown documentation for each.\n",
                "    \"\"\"\n",
                "    top_level_defs = extract_top_level_definitions(cell_code)\n",
                "    return \"\\n\\n\".join([\n",
                "        render_function_doc(extract_function_meta(func_str['code'])) if func_str['type'] == 'function' else\n",
                "        render_class_doc(extract_class_meta(func_str['code']))\n",
                "        for func_str in top_level_defs\n",
                "    ])"
            ]
        },
        {
            "cell_type": "code",
            "execution_count": null,
            "id": "7044e8c2",
            "metadata": {},
            "outputs": [
                {
                    "name": "stdout",
                    "output_type": "stream",
                    "text": [
                        "## foo\n",
                        "\n",
                        "```python\n",
                        "foo(a: int, b: Union[str, None], c, *args, **kwargs) -> str\n",
                        "```\n",
                        "\n",
                        "Processes input.\n",
                        "\n",
                        "**Arguments:**\n",
                        "- `a` (*int*): The first number.\n",
                        "- `b` (*Union[str, None]*): Optional label.\n",
                        "- `c`: Unannotated parameter.\n",
                        "\n",
                        "**Returns:** *bool*: True if processed correctly.\n",
                        "\n",
                        "---\n",
                        "\n",
                        "\n",
                        "## bar\n",
                        "\n",
                        "```python\n",
                        "bar()\n",
                        "```\n",
                        "\n",
                        "A docstring\n",
                        "\n",
                        "---\n",
                        "\n",
                        "\n",
                        "## MyClass\n",
                        "\n",
                        "*Inherits from*: `BaseClass1, BaseClass2`\n",
                        "\n",
                        "---\n",
                        "\n",
                        "<h3>Methods</h3>\n",
                        "\n",
                        "#### __init__\n",
                        "\n",
                        "```python\n",
                        "__init__(self, a: int, b: str, c)\n",
                        "```\n",
                        "\n",
                        "Constructs a new instance of MyClass.\n",
                        "\n",
                        "**Arguments:**\n",
                        "- `a` (*int*): The first number.\n",
                        "- `b` (*str*): The second number.\n",
                        "- `c`: Unannotated parameter.\n",
                        "\n",
                        "---\n",
                        "\n",
                        "#### baz\n",
                        "\n",
                        "```python\n",
                        "baz(self, d: float, e: bool)\n",
                        "```\n",
                        "\n",
                        "---\n",
                        "\n"
                    ]
                }
            ],
            "source": [
                "print(render_cell_doc(code_str))"
            ]
        },
        {
            "cell_type": "code",
            "execution_count": null,
            "id": "04eace6b",
            "metadata": {},
            "outputs": [
                {
                    "data": {
                        "text/markdown": [
                            "## show_doc\n",
                            "\n",
                            "```python\n",
                            "show_doc(obj, title_level)\n",
                            "```\n",
                            "\n",
                            "---\n"
                        ],
                        "text/plain": [
                            "<IPython.core.display.Markdown object>"
                        ]
                    },
                    "execution_count": null,
                    "metadata": {},
                    "output_type": "execute_result"
                }
            ],
            "source": [
                "#|hide\n",
                "show_doc(this_module.show_doc)"
            ]
        },
        {
            "cell_type": "code",
            "execution_count": null,
            "id": "94344a9f",
            "metadata": {},
            "outputs": [],
            "source": [
                "#|export\n",
                "def show_doc(obj, title_level=2):\n",
                "    if inspect.isfunction(obj) or inspect.ismethod(obj):\n",
                "        meta = extract_function_meta_from_obj(obj)\n",
                "        return Markdown(render_function_doc(meta, title_level))\n",
                "    elif inspect.isclass(obj):\n",
                "        meta = extract_class_meta_from_obj(obj)\n",
                "        return Markdown(render_class_doc(meta, title_level))\n",
                "    else:\n",
                "        raise ValueError(\"Object must be a function or class metadata dictionary.\")"
            ]
        },
        {
            "cell_type": "code",
            "execution_count": null,
            "id": "a549b51d",
            "metadata": {},
            "outputs": [
                {
                    "data": {
                        "text/plain": [
                            "'## foo\\n\\n```python\\nfoo(a, b, c: str, *args, **kwargs)\\n```\\n\\nA docstring\\n\\n---\\n'"
                        ]
                    },
                    "execution_count": null,
                    "metadata": {},
                    "output_type": "execute_result"
                }
            ],
            "source": [
                "def foo(a, b, c:str, *args, **kwargs):\n",
                "    \"A docstring\"\n",
                "    pass\n",
                "\n",
                "show_doc(foo).data"
            ]
        },
        {
            "cell_type": "code",
            "execution_count": null,
            "id": "cede235b",
            "metadata": {},
            "outputs": [
                {
                    "data": {
                        "text/plain": [
                            "'## FooClass\\n\\n---\\n\\n<h3>Methods</h3>\\n\\n#### __init__\\n\\n```python\\n__init__(self, a, b, c: str)\\n```\\n\\nA docstring\\n\\n---\\n'"
                        ]
                    },
                    "execution_count": null,
                    "metadata": {},
                    "output_type": "execute_result"
                }
            ],
            "source": [
                "class FooClass:\n",
                "    def __init__(self, a, b, c:str):\n",
                "        \"A docstring\"\n",
                "        pass\n",
                "\n",
                "show_doc(FooClass).data"
            ]
        }
    ],
    "metadata": {
        "language_info": {
            "codemirror_mode": {
                "name": "ipython",
                "version": 3
            },
            "file_extension": ".py",
            "mimetype": "text/x-python",
            "name": "python",
            "nbconvert_exporter": "python",
            "pygments_lexer": "ipython3",
            "version": "3.9.6"
        },
        "nblite_source_hash": "addd277cf2450a6e82d2e526214edb09157b915f7deea6f093d048d88fc55401"
    },
    "nbformat": 4,
    "nbformat_minor": 5
}