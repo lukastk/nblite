{
 "cells": [
  {
   "cell_type": "markdown",
   "metadata": {},
   "source": [
    "# cli"
   ]
  },
  {
   "cell_type": "code",
   "execution_count": 1,
   "metadata": {},
   "outputs": [],
   "source": [
    "#|default_exp cli"
   ]
  },
  {
   "cell_type": "code",
   "execution_count": 2,
   "metadata": {},
   "outputs": [],
   "source": [
    "#|hide\n",
    "import nbdev; nbdev.nbdev_export()"
   ]
  },
  {
   "cell_type": "code",
   "execution_count": 3,
   "metadata": {},
   "outputs": [],
   "source": [
    "#|hide\n",
    "from nbdev.showdoc import show_doc"
   ]
  },
  {
   "cell_type": "code",
   "execution_count": 4,
   "metadata": {},
   "outputs": [
    {
     "ename": "ModuleNotFoundError",
     "evalue": "No module named 'nblite'",
     "output_type": "error",
     "traceback": [
      "\u001b[0;31m---------------------------------------------------------------------------\u001b[0m",
      "\u001b[0;31mModuleNotFoundError\u001b[0m                       Traceback (most recent call last)",
      "Cell \u001b[0;32mIn[4], line 13\u001b[0m\n\u001b[1;32m     10\u001b[0m \u001b[38;5;28;01mimport\u001b[39;00m\u001b[38;5;250m \u001b[39m\u001b[38;5;21;01mtempfile\u001b[39;00m\n\u001b[1;32m     11\u001b[0m \u001b[38;5;28;01mimport\u001b[39;00m\u001b[38;5;250m \u001b[39m\u001b[38;5;21;01mimportlib\u001b[39;00m\u001b[38;5;21;01m.\u001b[39;00m\u001b[38;5;21;01mresources\u001b[39;00m\u001b[38;5;250m \u001b[39m\u001b[38;5;28;01mas\u001b[39;00m\u001b[38;5;250m \u001b[39m\u001b[38;5;21;01mresources\u001b[39;00m\n\u001b[0;32m---> 13\u001b[0m \u001b[38;5;28;01mfrom\u001b[39;00m\u001b[38;5;250m \u001b[39m\u001b[38;5;21;01mnblite\u001b[39;00m\u001b[38;5;21;01m.\u001b[39;00m\u001b[38;5;21;01mconfig\u001b[39;00m\u001b[38;5;250m \u001b[39m\u001b[38;5;28;01mimport\u001b[39;00m _find_config_file, read_config\n\u001b[1;32m     14\u001b[0m \u001b[38;5;28;01mfrom\u001b[39;00m\u001b[38;5;250m \u001b[39m\u001b[38;5;21;01mnblite\u001b[39;00m\u001b[38;5;21;01m.\u001b[39;00m\u001b[38;5;21;01mexport\u001b[39;00m\u001b[38;5;250m \u001b[39m\u001b[38;5;28;01mimport\u001b[39;00m convert_nb\n\u001b[1;32m     15\u001b[0m \u001b[38;5;28;01mfrom\u001b[39;00m\u001b[38;5;250m \u001b[39m\u001b[38;5;21;01mnblite\u001b[39;00m\u001b[38;5;21;01m.\u001b[39;00m\u001b[38;5;21;01mconst\u001b[39;00m\u001b[38;5;250m \u001b[39m\u001b[38;5;28;01mimport\u001b[39;00m format_to_file_exts\n",
      "\u001b[0;31mModuleNotFoundError\u001b[0m: No module named 'nblite'"
     ]
    }
   ],
   "source": [
    "#|export\n",
    "import typer\n",
    "from typer import Argument, Option\n",
    "from typing_extensions import Annotated\n",
    "from types import FunctionType\n",
    "from typing import Callable, Union\n",
    "import inspect\n",
    "import re\n",
    "from pathlib import Path\n",
    "import tempfile\n",
    "import importlib.resources as resources\n",
    "\n",
    "from nblite.config import _find_config_file, read_config\n",
    "from nblite.export import convert_nb\n",
    "from nblite.const import format_to_file_exts"
   ]
  },
  {
   "cell_type": "code",
   "execution_count": 5,
   "metadata": {},
   "outputs": [],
   "source": [
    "import nblite.cli"
   ]
  },
  {
   "cell_type": "markdown",
   "metadata": {},
   "source": [
    "# Helper functions"
   ]
  },
  {
   "cell_type": "code",
   "execution_count": 6,
   "metadata": {},
   "outputs": [
    {
     "data": {
      "text/markdown": [
       "---\n",
       "\n",
       "### parse_docstring\n",
       "\n",
       ">      parse_docstring (docstring:str)\n",
       "\n",
       "*Parses a docstring to extract argument descriptions and return value description.\n",
       "\n",
       "Args:\n",
       "    docstring: The docstring to parse.\n",
       "\n",
       "Returns:\n",
       "    A tuple containing three elements: \n",
       "    1. The function summary as a string.\n",
       "    2. A dictionary of argument descriptions.\n",
       "    3. The return value description as a string.*"
      ],
      "text/plain": [
       "---\n",
       "\n",
       "### parse_docstring\n",
       "\n",
       ">      parse_docstring (docstring:str)\n",
       "\n",
       "*Parses a docstring to extract argument descriptions and return value description.\n",
       "\n",
       "Args:\n",
       "    docstring: The docstring to parse.\n",
       "\n",
       "Returns:\n",
       "    A tuple containing three elements: \n",
       "    1. The function summary as a string.\n",
       "    2. A dictionary of argument descriptions.\n",
       "    3. The return value description as a string.*"
      ]
     },
     "execution_count": 6,
     "metadata": {},
     "output_type": "execute_result"
    }
   ],
   "source": [
    "show_doc(nblite.cli.parse_docstring)"
   ]
  },
  {
   "cell_type": "code",
   "execution_count": 7,
   "metadata": {},
   "outputs": [],
   "source": [
    "#|exporti\n",
    "def parse_docstring(docstring: str) -> tuple:\n",
    "    \"\"\"Parses a docstring to extract argument descriptions and return value description.\n",
    "\n",
    "    Args:\n",
    "        docstring: The docstring to parse.\n",
    "\n",
    "    Returns:\n",
    "        A tuple containing three elements: \n",
    "        1. The function summary as a string.\n",
    "        2. A dictionary of argument descriptions.\n",
    "        3. The return value description as a string.\n",
    "    \"\"\"\n",
    "    _docstring = docstring.split('Args:', 1)\n",
    "    func_summary, _docstring = _docstring if len(_docstring) == 2 else (docstring, '')\n",
    "    arg_docstring, return_docstring = _docstring.split('Returns:', 1) if 'Returns:' in _docstring else (_docstring, '')\n",
    "    \n",
    "    # Use regex to find argument descriptions\n",
    "    pattern = r'(\\w+): (.+)'\n",
    "    matches = re.findall(pattern, arg_docstring)\n",
    "    args = {arg: desc.strip() for arg, desc in matches}\n",
    "    \n",
    "    return func_summary.strip(), args, return_docstring.strip()"
   ]
  },
  {
   "cell_type": "code",
   "execution_count": 8,
   "metadata": {},
   "outputs": [
    {
     "name": "stdout",
     "output_type": "stream",
     "text": [
      "Parses a docstring to extract argument descriptions and return value description.\n",
      "{'docstring': 'The docstring to parse.'}\n",
      "A tuple containing three elements: \n",
      "        1. The function summary as a string.\n",
      "        2. A dictionary of argument descriptions.\n",
      "        3. The return value description as a string.\n"
     ]
    }
   ],
   "source": [
    "func_summary, arg_docs, return_doc = parse_docstring(parse_docstring.__doc__)\n",
    "print(func_summary)\n",
    "print(arg_docs)\n",
    "print(return_doc)"
   ]
  },
  {
   "cell_type": "code",
   "execution_count": 9,
   "metadata": {},
   "outputs": [
    {
     "data": {
      "text/markdown": [
       "---\n",
       "\n",
       "### derive_cli_meta\n",
       "\n",
       ">      derive_cli_meta (source_func:function)\n",
       "\n",
       "*A decorator factory that transfers docstring and argument annotations from a source functio and turns\n",
       "them into a typer annotations for the target function.\n",
       "\n",
       "Args:\n",
       "    source_func: The function from which to derive the docstring and argument annotations.*"
      ],
      "text/plain": [
       "---\n",
       "\n",
       "### derive_cli_meta\n",
       "\n",
       ">      derive_cli_meta (source_func:function)\n",
       "\n",
       "*A decorator factory that transfers docstring and argument annotations from a source functio and turns\n",
       "them into a typer annotations for the target function.\n",
       "\n",
       "Args:\n",
       "    source_func: The function from which to derive the docstring and argument annotations.*"
      ]
     },
     "execution_count": 9,
     "metadata": {},
     "output_type": "execute_result"
    }
   ],
   "source": [
    "show_doc(nblite.cli.derive_cli_meta)"
   ]
  },
  {
   "cell_type": "code",
   "execution_count": 10,
   "metadata": {},
   "outputs": [],
   "source": [
    "#|export\n",
    "def derive_cli_meta(source_func: FunctionType) -> Callable:\n",
    "    \"\"\"\n",
    "    A decorator factory that transfers docstring and argument annotations from a source functio and turns\n",
    "    them into a typer annotations for the target function.\n",
    "\n",
    "    Args:\n",
    "        source_func: The function from which to derive the docstring and argument annotations.\n",
    "    \"\"\"\n",
    "    def decorator(target_func: FunctionType) -> FunctionType:\n",
    "        func_summary, arg_docs, return_doc = parse_docstring(source_func.__doc__)\n",
    "        target_func.__doc__ = func_summary\n",
    "        if return_doc.strip():\n",
    "            target_func.__doc__ += f\"\\n\\nReturns:\\n{return_doc}\"\n",
    "        target_func.__doc__ = inspect.cleandoc(\"\\n\".join([l.strip() for l in target_func.__doc__.split(\"\\n\") if l.strip()]))\n",
    "        typer_annotations = {\n",
    "            arg_key: Annotated[arg_type, Argument(help=arg_docs[arg_key] if arg_key in arg_docs else '')]\n",
    "            for arg_key, arg_type in source_func.__annotations__.items()\n",
    "        }\n",
    "        target_func.__annotations__.update(typer_annotations)\n",
    "        return target_func\n",
    "    return decorator"
   ]
  },
  {
   "cell_type": "markdown",
   "metadata": {},
   "source": [
    "# Define CLI"
   ]
  },
  {
   "cell_type": "code",
   "execution_count": 11,
   "metadata": {},
   "outputs": [],
   "source": [
    "#|export\n",
    "app = typer.Typer(invoke_without_command=True)\n",
    "\n",
    "@app.callback()\n",
    "def entrypoint(ctx: typer.Context):\n",
    "    # If no subcommand is provided, show the help\n",
    "    if ctx.invoked_subcommand is None:\n",
    "        typer.echo(ctx.get_help())\n",
    "            \n",
    "def main():\n",
    "    app()"
   ]
  },
  {
   "cell_type": "markdown",
   "metadata": {},
   "source": [
    "## `nbl export`"
   ]
  },
  {
   "cell_type": "code",
   "execution_count": 12,
   "metadata": {},
   "outputs": [],
   "source": [
    "#|export\n",
    "from nblite.export import export"
   ]
  },
  {
   "cell_type": "code",
   "execution_count": 13,
   "metadata": {},
   "outputs": [],
   "source": [
    "#|export\n",
    "@app.command(name='export')\n",
    "@derive_cli_meta(export)\n",
    "def cli_export(root_folder=None, config_path= None, export_pipeline= None):\n",
    "    export(root_folder, config_path, export_pipeline)"
   ]
  },
  {
   "cell_type": "markdown",
   "metadata": {},
   "source": [
    "## `nbl init`"
   ]
  },
  {
   "cell_type": "code",
   "execution_count": 14,
   "metadata": {},
   "outputs": [],
   "source": [
    "#|export\n",
    "@app.command(name='init')\n",
    "def cli_init(\n",
    "    module_name: Annotated[Union[str,None], Option(help=\"The name of the module to create\")] = None,\n",
    "    root_path: Annotated[Union[str,None], Option(help=\"The root path of the project\")] = None,\n",
    "    use_defaults: Annotated[bool, Option(help=\"Use default values for module name and root path\")] = False,\n",
    "):\n",
    "    \"\"\"\n",
    "    Initialize a new nblite project.\n",
    "    \"\"\"\n",
    "    if module_name is None:\n",
    "        default_module_name = Path('.').resolve().name\n",
    "        if not use_defaults:\n",
    "            module_name = typer.prompt(f\"Enter the name of the module to create\", default=default_module_name)\n",
    "        else:\n",
    "            module_name = default_module_name\n",
    "    \n",
    "    if root_path is None:\n",
    "        root_path = Path('.').resolve()\n",
    "    \n",
    "    nblite_toml_template = (resources.files(\"nblite\") / \"defaults\" / \"default_nblite.toml\").read_text()\n",
    "    nblite_toml_str = nblite_toml_template.format(module_name=module_name)\n",
    "    \n",
    "    toml_path = root_path / 'nblite.toml'\n",
    "    if toml_path.exists():\n",
    "        typer.echo(f\"Error: {toml_path} already exists\")\n",
    "        raise typer.Abort()\n",
    "    \n",
    "    with open(toml_path, 'w') as f:\n",
    "        f.write(nblite_toml_str)\n",
    "        \n",
    "    typer.echo(f\"Created {toml_path}\")"
   ]
  },
  {
   "cell_type": "markdown",
   "metadata": {},
   "source": [
    "## `nbl new`"
   ]
  },
  {
   "cell_type": "code",
   "execution_count": 15,
   "metadata": {},
   "outputs": [],
   "source": [
    "#|export\n",
    "@app.command(name='new')\n",
    "def cli_new(\n",
    "    nb_path: Annotated[str, Argument(help=\"The notebook to create.\")],\n",
    "    mod_name: Annotated[Union[str,None], Option(\"-n\", \"--name\", help=\"The name of the exported module. Defaults to the notebook path relative to the code location root.\")] = None,\n",
    "    nb_title: Annotated[Union[str,None], Option(\"-t\", \"--title\", help=\"The display title of the notebook. Defaults to the notebook path stem.\")] = None,\n",
    "):\n",
    "    \"Create a new notebook in a code location.\"\n",
    "    nb_path = Path(nb_path).resolve()\n",
    "    config_path = _find_config_file(Path('.'))\n",
    "    if config_path is None:\n",
    "        typer.echo(\"Not inside an nblite project. No nblite.toml file found in the current directory or any parent directory.\")\n",
    "        raise typer.Abort()\n",
    "    root_path = config_path.parent\n",
    "    if nb_title is None:\n",
    "        nb_title = nb_path.stem\n",
    "    config = read_config(config_path)\n",
    "\n",
    "    nb_format = None\n",
    "    for loc in config.code_locations.values():\n",
    "        if nb_path.is_relative_to(root_path / loc.path):\n",
    "            nb_format = loc.format\n",
    "            if not nb_path.name.endswith(format_to_file_exts[nb_format]):\n",
    "                nb_path = Path(nb_path.as_posix() + '.' + format_to_file_exts[nb_format])\n",
    "            if mod_name is None:\n",
    "                rel_path = str(nb_path.relative_to(root_path / loc.path).parent)\n",
    "                if rel_path == '.':\n",
    "                    mod_name = nb_path.stem\n",
    "                else:\n",
    "                    mod_name = rel_path.replace('/', '.') + '.' + nb_path.stem\n",
    "            break\n",
    "\n",
    "    if nb_format is None:\n",
    "        typer.echo(f\"Error: '{nb_path}' is not inside any code location.\")\n",
    "        raise typer.Abort()\n",
    "\n",
    "    if nb_path.exists():\n",
    "        typer.echo(f\"Error: '{nb_path}' already exists.\")\n",
    "        raise typer.Abort()\n",
    "\n",
    "    with tempfile.NamedTemporaryFile(suffix='.pct.py') as tmp_nb:\n",
    "        pct_content = (resources.files(\"nblite\") / \"defaults\" / \"default_nb.pct.py_\").read_text().format(nb_title=nb_title, mod_name=mod_name)\n",
    "        tmp_nb.write(pct_content.encode())\n",
    "        tmp_nb.flush()\n",
    "        nb_path.parent.mkdir(parents=True, exist_ok=True)\n",
    "        convert_nb(tmp_nb.name, nb_path, nb_format=\"percent\", dest_format=nb_format)\n",
    "        \n",
    "    typer.echo(f\"Created {nb_path}\")"
   ]
  },
  {
   "cell_type": "markdown",
   "metadata": {},
   "source": [
    "## `nbl clean`"
   ]
  },
  {
   "cell_type": "code",
   "execution_count": 16,
   "metadata": {},
   "outputs": [
    {
     "data": {
      "text/plain": [
       "'--remove_outputs'"
      ]
     },
     "execution_count": 16,
     "metadata": {},
     "output_type": "execute_result"
    }
   ],
   "source": [
    "\"--remove_outputs\""
   ]
  },
  {
   "cell_type": "markdown",
   "metadata": {},
   "source": [
    "## `nbl fill`"
   ]
  },
  {
   "cell_type": "code",
   "execution_count": null,
   "metadata": {},
   "outputs": [],
   "source": [
    "def cli_fill(nb_path, cell_exec_timeout=None):\n",
    "    import nbformat\n",
    "    from nbconvert.preprocessors import ExecutePreprocessor\n",
    "\n",
    "    if not nb_path.endswith('.ipynb'):\n",
    "        typer.echo(f\"Error: '{nb_path}' is not a Jupyter notebook file.\")\n",
    "        raise typer.Abort()\n",
    "\n",
    "    # Load the notebook\n",
    "    with open(nb_path) as f:\n",
    "        nb = nbformat.read(f, as_version=4)\n",
    "\n",
    "    # Remove outputs from each cell\n",
    "    for cell in nb.cells:\n",
    "        cell.outputs = {}\n",
    "\n",
    "    # Parse directives for skipping cell evaluations\n",
    "    skip_evals_mode = False\n",
    "    skipped_cells = []\n",
    "    for cell in nb.cells:\n",
    "        skip_cell = False\n",
    "        if cell['cell_type'] != 'code': continue\n",
    "        for line in cell['source'].split('\\n'):\n",
    "            line = line.strip()\n",
    "            if not line.startswith('#|'): continue\n",
    "            directive = line.split('#|', 1)[1].strip()\n",
    "            if directive == 'skip_evals':\n",
    "                if skip_evals_mode:\n",
    "                    raise ValueError(\"Already in skip_evals mode\")\n",
    "                skip_evals_mode = True\n",
    "            elif directive == 'skip_evals_stop':\n",
    "                if not skip_evals_mode:\n",
    "                    raise ValueError(\"Not in skip_evals mode\")\n",
    "                skip_evals_mode = False\n",
    "            elif directive.split(':', 1)[0].strip() == \"eval\":\n",
    "                if directive.split(':', 1)[1].strip() == 'false':\n",
    "                    skip_cell = True\n",
    "            \n",
    "            if skip_evals_mode or skip_cell:\n",
    "                cell['cell_type'] = 'skip'\n",
    "                skipped_cells.append(cell)\n",
    "\n",
    "    # Create the execute preprocessor\n",
    "    ep = ExecutePreprocessor(timeout=cell_exec_timeout, kernel_name=\"python3\")\n",
    "\n",
    "    # Initialize execution with an empty resources dictionary\n",
    "    resources = {\"metadata\": {\"path\": \".\"}}\n",
    "\n",
    "    # Start execution - this ensures the kernel is running\n",
    "    ep.preprocess(nb, resources)\n",
    "\n",
    "    # Restore the cell types of skipped code cells\n",
    "    for cell in skipped_cells:\n",
    "        cell['cell_type'] = 'code'\n",
    "\n",
    "    # Remove metadata from each cell\n",
    "    for cell in nb.cells:\n",
    "        if cell['cell_type'] == 'code':\n",
    "            cell['execution_count'] = 0 if cell in skipped_cells else 1\n",
    "        cell.metadata = {}\n",
    "\n",
    "    # Save the executed notebook with outputs\n",
    "    with open(output_notebook, \"w\") as f:\n",
    "        nbformat.write(nb, f)\n",
    "\n",
    "    print(f\"Executed notebook saved as {output_notebook}\")"
   ]
  },
  {
   "cell_type": "code",
   "execution_count": 99,
   "metadata": {},
   "outputs": [
    {
     "name": "stdout",
     "output_type": "stream",
     "text": [
      "Executed notebook saved as output_notebook.ipynb\n"
     ]
    }
   ],
   "source": [
    "import nbformat\n",
    "from nbconvert.preprocessors import ExecutePreprocessor\n",
    "\n",
    "cell_exec_timeout = None\n",
    "\n",
    "# Define notebook filenames\n",
    "input_notebook = \"../../test_proj/nbs/notebook1.ipynb\"\n",
    "output_notebook = \"output_notebook.ipynb\"\n",
    "\n",
    "# Load the notebook\n",
    "with open(input_notebook) as f:\n",
    "    nb = nbformat.read(f, as_version=4)\n",
    "\n",
    "# Remove outputs from each cell\n",
    "for cell in nb.cells:\n",
    "    cell.outputs = {}\n",
    "\n",
    "# Parse directives for skipping cell evaluations\n",
    "skip_evals_mode = False\n",
    "skipped_cells = []\n",
    "for cell in nb.cells:\n",
    "    skip_cell = False\n",
    "    if cell['cell_type'] != 'code': continue\n",
    "    for line in cell['source'].split('\\n'):\n",
    "        line = line.strip()\n",
    "        if not line.startswith('#|'): continue\n",
    "        directive = line.split('#|', 1)[1].strip()\n",
    "        if directive == 'skip_evals':\n",
    "            if skip_evals_mode:\n",
    "                raise ValueError(\"Already in skip_evals mode\")\n",
    "            skip_evals_mode = True\n",
    "        elif directive == 'skip_evals_stop':\n",
    "            if not skip_evals_mode:\n",
    "                raise ValueError(\"Not in skip_evals mode\")\n",
    "            skip_evals_mode = False\n",
    "        elif directive.split(':', 1)[0].strip() == \"eval\":\n",
    "            if directive.split(':', 1)[1].strip() == 'false':\n",
    "                skip_cell = True\n",
    "        \n",
    "        if skip_evals_mode or skip_cell:\n",
    "            cell['cell_type'] = 'skip'\n",
    "            skipped_cells.append(cell)\n",
    "\n",
    "# Create the execute preprocessor\n",
    "ep = ExecutePreprocessor(timeout=cell_exec_timeout, kernel_name=\"python3\")\n",
    "\n",
    "# Initialize execution with an empty resources dictionary\n",
    "resources = {\"metadata\": {\"path\": \".\"}}\n",
    "\n",
    "# Start execution - this ensures the kernel is running\n",
    "ep.preprocess(nb, resources)\n",
    "\n",
    "# Restore the cell types of skipped code cells\n",
    "for cell in skipped_cells:\n",
    "    cell['cell_type'] = 'code'\n",
    "\n",
    "# Remove metadata from each cell\n",
    "for cell in nb.cells:\n",
    "    if cell['cell_type'] == 'code':\n",
    "        cell['execution_count'] = 0 if cell in skipped_cells else 1\n",
    "    cell.metadata = {}\n",
    "\n",
    "# Save the executed notebook with outputs\n",
    "with open(output_notebook, \"w\") as f:\n",
    "    nbformat.write(nb, f)\n",
    "\n",
    "print(f\"Executed notebook saved as {output_notebook}\")"
   ]
  },
  {
   "cell_type": "code",
   "execution_count": 70,
   "metadata": {},
   "outputs": [],
   "source": []
  },
  {
   "cell_type": "code",
   "execution_count": null,
   "metadata": {},
   "outputs": [],
   "source": []
  },
  {
   "cell_type": "code",
   "execution_count": null,
   "metadata": {},
   "outputs": [
    {
     "name": "stdout",
     "output_type": "stream",
     "text": [
      "Executed cell 1\n",
      "Executed cell 2\n",
      "Executed cell 3\n",
      "Executed cell 4\n",
      "Executed cell 5\n",
      "Executed cell 6\n",
      "Executed notebook saved as output_notebook.ipynb\n"
     ]
    }
   ],
   "source": [
    "import nbformat\n",
    "from nbconvert.preprocessors import ExecutePreprocessor\n",
    "import traceback\n",
    "\n",
    "cell_exec_timeout = None\n",
    "\n",
    "# Define notebook filenames\n",
    "input_notebook = \"../../test_proj/nbs/notebook1.ipynb\"\n",
    "output_notebook = \"output_notebook.ipynb\"\n",
    "\n",
    "# Load the notebook\n",
    "with open(input_notebook) as f:\n",
    "    nb = nbformat.read(f, as_version=4)\n",
    "\n",
    "# Create the execute preprocessor\n",
    "ep = ExecutePreprocessor(timeout=cell_exec_timeout, kernel_name=\"python3\")\n",
    "\n",
    "# Initialize execution with an empty resources dictionary\n",
    "resources = {\"metadata\": {\"path\": \".\"}}\n",
    "\n",
    "# Execute each cell one-by-one\n",
    "for index, cell in enumerate(nb.cells):\n",
    "    if cell.cell_type == 'code':\n",
    "        try:\n",
    "            # Execute the cell\n",
    "            ep.preprocess(nb, resources)\n",
    "            print(f\"Executed cell {index}\")\n",
    "        except Exception as e:\n",
    "            print(f\"Error executing cell {index}: {e}\")\n",
    "            traceback.print_exc()\n",
    "\n",
    "# Save the executed notebook with outputs\n",
    "with open(output_notebook, \"w\") as f:\n",
    "    nbformat.write(nb, f)\n",
    "\n",
    "print(f\"Executed notebook saved as {output_notebook}\")"
   ]
  },
  {
   "cell_type": "code",
   "execution_count": 24,
   "metadata": {},
   "outputs": [
    {
     "name": "stdout",
     "output_type": "stream",
     "text": [
      "\u001b[0;31mSignature:\u001b[0m\n",
      "\u001b[0mep\u001b[0m\u001b[0;34m.\u001b[0m\u001b[0mpreprocess\u001b[0m\u001b[0;34m(\u001b[0m\u001b[0;34m\u001b[0m\n",
      "\u001b[0;34m\u001b[0m    \u001b[0mnb\u001b[0m\u001b[0;34m:\u001b[0m \u001b[0;34m'NotebookNode'\u001b[0m\u001b[0;34m,\u001b[0m\u001b[0;34m\u001b[0m\n",
      "\u001b[0;34m\u001b[0m    \u001b[0mresources\u001b[0m\u001b[0;34m:\u001b[0m \u001b[0;34m't.Any'\u001b[0m \u001b[0;34m=\u001b[0m \u001b[0;32mNone\u001b[0m\u001b[0;34m,\u001b[0m\u001b[0;34m\u001b[0m\n",
      "\u001b[0;34m\u001b[0m    \u001b[0mkm\u001b[0m\u001b[0;34m:\u001b[0m \u001b[0;34m'KernelManager | None'\u001b[0m \u001b[0;34m=\u001b[0m \u001b[0;32mNone\u001b[0m\u001b[0;34m,\u001b[0m\u001b[0;34m\u001b[0m\n",
      "\u001b[0;34m\u001b[0m\u001b[0;34m)\u001b[0m \u001b[0;34m->\u001b[0m \u001b[0;34m'tuple[NotebookNode, dict[str, t.Any]]'\u001b[0m\u001b[0;34m\u001b[0m\u001b[0;34m\u001b[0m\u001b[0m\n",
      "\u001b[0;31mDocstring:\u001b[0m\n",
      "Preprocess notebook executing each code cell.\n",
      "\n",
      "The input argument *nb* is modified in-place.\n",
      "\n",
      "Note that this function recalls NotebookClient.__init__, which may look wrong.\n",
      "However since the preprocess call acts line an init on execution state it's expected.\n",
      "Therefore, we need to capture it here again to properly reset because traitlet\n",
      "assignments are not passed. There is a risk if traitlets apply any side effects for\n",
      "dual init.\n",
      "The risk should be manageable, and this approach minimizes side-effects relative\n",
      "to other alternatives.\n",
      "\n",
      "One alternative but rejected implementation would be to copy the client's init internals\n",
      "which has already gotten out of sync with nbclient 0.5 release before nbconvert 6.0 released.\n",
      "\n",
      "Parameters\n",
      "----------\n",
      "nb : NotebookNode\n",
      "    Notebook being executed.\n",
      "resources : dictionary (optional)\n",
      "    Additional resources used in the conversion process. For example,\n",
      "    passing ``{'metadata': {'path': run_path}}`` sets the\n",
      "    execution path to ``run_path``.\n",
      "km: KernelManager (optional)\n",
      "    Optional kernel manager. If none is provided, a kernel manager will\n",
      "    be created.\n",
      "\n",
      "Returns\n",
      "-------\n",
      "nb : NotebookNode\n",
      "    The executed notebook.\n",
      "resources : dictionary\n",
      "    Additional resources used in the conversion process.\n",
      "\u001b[0;31mFile:\u001b[0m      ~/dev-proj/nblite/.venv/lib/python3.9/site-packages/nbconvert/preprocessors/execute.py\n",
      "\u001b[0;31mType:\u001b[0m      method"
     ]
    }
   ],
   "source": [
    "ep.preprocess?"
   ]
  }
 ],
 "metadata": {
  "kernelspec": {
   "display_name": ".venv",
   "language": "python",
   "name": "python3"
  },
  "language_info": {
   "codemirror_mode": {
    "name": "ipython",
    "version": 3
   },
   "file_extension": ".py",
   "mimetype": "text/x-python",
   "name": "python",
   "nbconvert_exporter": "python",
   "pygments_lexer": "ipython3",
   "version": "3.9.6"
  }
 },
 "nbformat": 4,
 "nbformat_minor": 2
}
