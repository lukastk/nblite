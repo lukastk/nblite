{
    "cells": [
        {
            "cell_type": "markdown",
            "metadata": {},
            "source": [
                "# Notebook 3"
            ]
        },
        {
            "cell_type": "code",
            "execution_count": null,
            "metadata": {},
            "outputs": [],
            "source": [
                "#| default_exp submodule.notebook3"
            ]
        },
        {
            "cell_type": "code",
            "execution_count": null,
            "metadata": {},
            "outputs": [],
            "source": [
                "#| hide\n",
                "from nbdev.showdoc import *"
            ]
        },
        {
            "cell_type": "code",
            "execution_count": null,
            "metadata": {},
            "outputs": [
                {
                    "name": "stdout",
                    "output_type": "stream",
                    "text": [
                        "/Users/lukastk/dev-proj/nblite/test_proj/nbs/submodule/notebook3.ipynb\n"
                    ]
                }
            ],
            "source": [
                "#| export\n",
                "from my_module.notebook1 import foo\n",
                "from my_module.notebook2 import bar"
            ]
        },
        {
            "cell_type": "code",
            "execution_count": null,
            "metadata": {},
            "outputs": [],
            "source": [
                "#| export\n",
                "def foobar():\n",
                "    foo()\n",
                "    bar()"
            ]
        }
    ],
    "metadata": {
        "language_info": {
            "codemirror_mode": {
                "name": "ipython",
                "version": 3
            },
            "file_extension": ".py",
            "mimetype": "text/x-python",
            "name": "python",
            "nbconvert_exporter": "python",
            "pygments_lexer": "ipython3",
            "version": "3.9.6"
        },
        "nblite_source_hash": "0cc7fa09ee0a51976a0ef50ee4ee9995901a7a012aebae942b35c0b6f90abd9d"
    },
    "nbformat": 4,
    "nbformat_minor": 4
}