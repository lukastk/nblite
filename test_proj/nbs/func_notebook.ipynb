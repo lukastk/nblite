{
    "cells": [
        {
            "cell_type": "markdown",
            "metadata": {},
            "source": [
                "# func_notebook"
            ]
        },
        {
            "cell_type": "code",
            "execution_count": null,
            "metadata": {},
            "outputs": [],
            "source": [
                "#|default_exp test_func_nb\n",
                "#|export_as_func true"
            ]
        },
        {
            "cell_type": "code",
            "execution_count": null,
            "metadata": {},
            "outputs": [],
            "source": [
                "#|top_export\n",
                "def a_decorator(func):\n",
                "    def wrapper(*args, **kwargs):\n",
                "        print(\"Function is being called\")\n",
                "        result = func(*args, **kwargs)\n",
                "        print(\"Function has been called\")\n",
                "        return result\n",
                "    return wrapper"
            ]
        },
        {
            "cell_type": "code",
            "execution_count": null,
            "metadata": {},
            "outputs": [],
            "source": [
                "#|set_func_signature\n",
                "@a_decorator\n",
                "def nb_func(): ..."
            ]
        },
        {
            "cell_type": "code",
            "execution_count": null,
            "metadata": {},
            "outputs": [
                {
                    "name": "stdout",
                    "output_type": "stream",
                    "text": [
                        "This will be in the body of the function.\n"
                    ]
                }
            ],
            "source": [
                "#|export\n",
                "print(\"This will be in the body of the function.\")\n",
                "my_val = \"Hello, world!\""
            ]
        },
        {
            "cell_type": "code",
            "execution_count": null,
            "metadata": {},
            "outputs": [
                {
                    "data": {
                        "text/plain": [
                            "'Hello, world!'"
                        ]
                    },
                    "execution_count": null,
                    "metadata": {},
                    "output_type": "execute_result"
                }
            ],
            "source": [
                "#|func_return\n",
                "my_val"
            ]
        }
    ],
    "metadata": {
        "kernelspec": {
            "display_name": ".venv",
            "language": "python",
            "name": "python3"
        },
        "language_info": {
            "codemirror_mode": {
                "name": "ipython",
                "version": 3
            },
            "file_extension": ".py",
            "mimetype": "text/x-python",
            "name": "python",
            "nbconvert_exporter": "python",
            "pygments_lexer": "ipython3",
            "version": "3.9.6"
        },
        "nblite_source_hash": "7a2a4573540872f03726313f4b7594a6662c0383869ce15d0bf36804d7de0e09"
    },
    "nbformat": 4,
    "nbformat_minor": 2
}