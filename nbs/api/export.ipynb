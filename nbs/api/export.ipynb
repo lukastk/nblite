{
 "cells": [
  {
   "cell_type": "markdown",
   "metadata": {},
   "source": [
    "# export"
   ]
  },
  {
   "cell_type": "code",
   "execution_count": null,
   "metadata": {},
   "outputs": [],
   "source": [
    "#|default_exp export"
   ]
  },
  {
   "cell_type": "code",
   "execution_count": null,
   "metadata": {},
   "outputs": [],
   "source": [
    "#|hide\n",
    "import nbdev; nbdev.nbdev_export()"
   ]
  },
  {
   "cell_type": "code",
   "execution_count": null,
   "metadata": {},
   "outputs": [],
   "source": [
    "#|hide\n",
    "from nbdev.showdoc import show_doc"
   ]
  },
  {
   "cell_type": "code",
   "execution_count": null,
   "metadata": {},
   "outputs": [],
   "source": [
    "#|export\n",
    "import tempfile\n",
    "import os\n",
    "from pathlib import Path\n",
    "from typer import Argument\n",
    "from typing_extensions import Annotated\n",
    "from typing import Union\n",
    "\n",
    "from nblite.config import _find_config_file, read_config, parse_config_dict\n",
    "from nblite.const import file_exts_to_format, format_to_file_exts, format_to_jupytertext_formats"
   ]
  },
  {
   "cell_type": "code",
   "execution_count": null,
   "metadata": {},
   "outputs": [],
   "source": [
    "import nblite.export"
   ]
  },
  {
   "cell_type": "code",
   "execution_count": null,
   "metadata": {},
   "outputs": [
    {
     "data": {
      "text/markdown": [
       "---\n",
       "\n",
       "### get_nb_format_from_path\n",
       "\n",
       ">      get_nb_format_from_path (path:str)"
      ],
      "text/plain": [
       "---\n",
       "\n",
       "### get_nb_format_from_path\n",
       "\n",
       ">      get_nb_format_from_path (path:str)"
      ]
     },
     "execution_count": null,
     "metadata": {},
     "output_type": "execute_result"
    }
   ],
   "source": [
    "show_doc(nblite.export.get_nb_format_from_path)"
   ]
  },
  {
   "cell_type": "code",
   "execution_count": null,
   "metadata": {},
   "outputs": [],
   "source": [
    "#|export\n",
    "def get_nb_format_from_path(path: str) -> str:\n",
    "    path = Path(path).as_posix()\n",
    "    for ext, fmt in file_exts_to_format.items():\n",
    "        if path.endswith(f\".{ext}\"): return fmt\n",
    "    return None"
   ]
  },
  {
   "cell_type": "code",
   "execution_count": null,
   "metadata": {},
   "outputs": [
    {
     "data": {
      "text/plain": [
       "'percent'"
      ]
     },
     "execution_count": null,
     "metadata": {},
     "output_type": "execute_result"
    }
   ],
   "source": [
    "get_nb_format_from_path('file.pct.py')"
   ]
  },
  {
   "cell_type": "code",
   "execution_count": null,
   "metadata": {},
   "outputs": [
    {
     "data": {
      "text/markdown": [
       "---\n",
       "\n",
       "### convert_nb\n",
       "\n",
       ">      convert_nb (nb_path, dest_path, nb_format=None, dest_format=None)"
      ],
      "text/plain": [
       "---\n",
       "\n",
       "### convert_nb\n",
       "\n",
       ">      convert_nb (nb_path, dest_path, nb_format=None, dest_format=None)"
      ]
     },
     "execution_count": null,
     "metadata": {},
     "output_type": "execute_result"
    }
   ],
   "source": [
    "show_doc(nblite.export.convert_nb)"
   ]
  },
  {
   "cell_type": "code",
   "execution_count": null,
   "metadata": {},
   "outputs": [],
   "source": [
    "#|export\n",
    "def convert_nb(nb_path, dest_path, nb_format=None, dest_format=None):\n",
    "    # Hot reloading, to reduce loading time for CLI\n",
    "    import jupytext\n",
    "    from jupytext.config import JupytextConfiguration\n",
    "    from jupytext.formats import long_form_one_format\n",
    "    \n",
    "    if nb_format is None:\n",
    "        nb_format = get_nb_format_from_path(nb_path)\n",
    "    if dest_format is None:\n",
    "        dest_format = get_nb_format_from_path(dest_path)\n",
    "        \n",
    "    jpt_src_fmt = format_to_jupytertext_formats[nb_format]\n",
    "    jpt_dest_fmt = format_to_jupytertext_formats[dest_format]\n",
    "    \n",
    "    nb_converted = jupytext.read(nb_path, fmt=jpt_src_fmt)\n",
    "    \n",
    "    # Exclude all metadata frontmatter from the notebook\n",
    "    config = JupytextConfiguration()\n",
    "    config.set_default_format_options(long_form_one_format(jpt_dest_fmt), read=False)\n",
    "    config.notebook_metadata_filter = '-all'\n",
    "    \n",
    "    jupytext.write(nb_converted, dest_path, fmt=jpt_dest_fmt, config=config)"
   ]
  },
  {
   "cell_type": "code",
   "execution_count": null,
   "metadata": {},
   "outputs": [],
   "source": [
    "\n",
    "root_path = Path('../../test_proj/')\n",
    "\n",
    "(root_path / 'pcts').mkdir(parents=True, exist_ok=True)\n",
    "(root_path / 'lgts').mkdir(parents=True, exist_ok=True)\n",
    "\n",
    "convert_nb(\n",
    "    nb_path=root_path / 'nbs' / 'notebook1.ipynb',\n",
    "    dest_path=root_path / 'pcts' / 'notebook1.pct.py',\n",
    ")\n",
    "\n",
    "convert_nb(\n",
    "    nb_path=root_path / 'nbs' / 'notebook2.ipynb',\n",
    "    dest_path=root_path / 'pcts' / 'notebook2.pct.py',\n",
    ")\n",
    "\n",
    "convert_nb(\n",
    "    nb_path=root_path / 'pcts' / 'notebook1.pct.py',\n",
    "    dest_path=root_path / 'lgts' / 'notebook1.lgt.py',\n",
    ")\n",
    "\n",
    "convert_nb(\n",
    "    nb_path=root_path / 'pcts' / 'notebook2.pct.py',\n",
    "    dest_path=root_path / 'lgts' / 'notebook2.lgt.py',\n",
    ")"
   ]
  },
  {
   "cell_type": "code",
   "execution_count": null,
   "metadata": {},
   "outputs": [],
   "source": [
    "# Test to see if the conversion is reversible\n",
    "with tempfile.TemporaryDirectory() as tmpdirname:\n",
    "    tempdir = Path(tmpdirname)\n",
    "    convert_nb(\n",
    "        root_path / \"pcts\" / \"notebook1.pct.py\",\n",
    "        tempdir / \"nb.ipynb\",\n",
    "    )\n",
    "    convert_nb(\n",
    "        tempdir / \"nb.ipynb\",\n",
    "        tempdir / \"nb.pct.py\",\n",
    "    )\n",
    "    assert Path(root_path / \"pcts\" / \"notebook1.pct.py\").read_text() == Path(tempdir / \"nb.pct.py\").read_text()"
   ]
  },
  {
   "cell_type": "code",
   "execution_count": null,
   "metadata": {},
   "outputs": [
    {
     "data": {
      "text/markdown": [
       "---\n",
       "\n",
       "### get_module_export_path\n",
       "\n",
       ">      get_module_export_path (nb_path:str, lib_path:str)"
      ],
      "text/plain": [
       "---\n",
       "\n",
       "### get_module_export_path\n",
       "\n",
       ">      get_module_export_path (nb_path:str, lib_path:str)"
      ]
     },
     "execution_count": null,
     "metadata": {},
     "output_type": "execute_result"
    }
   ],
   "source": [
    "show_doc(nblite.export.get_module_export_path)"
   ]
  },
  {
   "cell_type": "code",
   "execution_count": null,
   "metadata": {},
   "outputs": [],
   "source": [
    "#|export\n",
    "def get_module_export_path(nb_path: str, lib_path: str) -> str:\n",
    "    exp = nbdev.export.ExportModuleProc()\n",
    "    nb = nbdev.export.NBProcessor(nb_path, [exp], debug=False)\n",
    "    nb.process()\n",
    "    for mod,cells in exp.modules.items():\n",
    "        if nbdev.export.first(1 for o in cells if o.cell_type=='code'):\n",
    "            all_cells = exp.in_all[mod]\n",
    "            nm = getattr(exp, 'default_exp', None) if mod=='#' else mod\n",
    "    return (Path(lib_path)/(nm + \".py\")).resolve().as_posix()"
   ]
  },
  {
   "cell_type": "code",
   "execution_count": null,
   "metadata": {},
   "outputs": [
    {
     "data": {
      "text/plain": [
       "'/Users/lukastk/dev-proj/nblite/test_proj/my_module/notebook1.py'"
      ]
     },
     "execution_count": null,
     "metadata": {},
     "output_type": "execute_result"
    }
   ],
   "source": [
    "get_module_export_path('../../test_proj/nbs/notebook1.ipynb', '../../test_proj/my_module')"
   ]
  },
  {
   "cell_type": "code",
   "execution_count": null,
   "metadata": {},
   "outputs": [
    {
     "data": {
      "text/markdown": [
       "---\n",
       "\n",
       "### export_to_lib\n",
       "\n",
       ">      export_to_lib (nb_path, lib_path, nb_format=None)"
      ],
      "text/plain": [
       "---\n",
       "\n",
       "### export_to_lib\n",
       "\n",
       ">      export_to_lib (nb_path, lib_path, nb_format=None)"
      ]
     },
     "execution_count": null,
     "metadata": {},
     "output_type": "execute_result"
    }
   ],
   "source": [
    "show_doc(nblite.export.export_to_lib)"
   ]
  },
  {
   "cell_type": "code",
   "execution_count": null,
   "metadata": {},
   "outputs": [],
   "source": [
    "#|exporti\n",
    "def _nbdev_nb_export(nbname:str, # Filename of notebook \n",
    "              lib_path:str=None, # Path to destination library.  If not in a nbdev project, defaults to current directory.\n",
    "              procs=None,        # Processors to use\n",
    "              name:str=None,     # Name of python script {name}.py to create.\n",
    "              debug:bool=False,  # Debug mode\n",
    "              source_nb_path:str=None # Path to source notebook. If not provided, the notebook name will be used.\n",
    "             ):\n",
    "    \"\"\"\n",
    "    Copied from `nbdev.export.nb_export` and modified, adding the extra argument\n",
    "    `source_nb_path` to use as the source notebook path in `mod_maker.dest2nb`.\n",
    "    \n",
    "    Source: https://github.com/AnswerDotAI/nbdev/blob/main/nbs/api/04_export.ipynb\n",
    "    \"\"\"\n",
    "    import nbdev.export\n",
    "    if lib_path is None: lib_path = nbdev.export.get_config().lib_path if nbdev.export.is_nbdev() else '.'\n",
    "    exp = nbdev.export.ExportModuleProc()\n",
    "    nb = nbdev.export.NBProcessor(nbname, [exp]+nbdev.export.L(procs), debug=debug)\n",
    "    nb.process()\n",
    "    for mod,cells in exp.modules.items():\n",
    "        if nbdev.export.first(1 for o in cells if o.cell_type=='code'):\n",
    "            all_cells = exp.in_all[mod]\n",
    "            nm = nbdev.export.ifnone(name, getattr(exp, 'default_exp', None) if mod=='#' else mod)\n",
    "            if not nm:\n",
    "                nbdev.export.warn(f\"Notebook '{nbname}' uses `#|export` without `#|default_exp` cell.\\n\"\n",
    "                     \"Note nbdev2 no longer supports nbdev1 syntax. Run `nbdev_migrate` to upgrade.\\n\"\n",
    "                     \"See https://nbdev.fast.ai/getting_started.html for more information.\")\n",
    "                return\n",
    "            mm = nbdev.export.ModuleMaker(dest=lib_path, name=nm, nb_path=nbname, is_new=bool(name) or mod=='#')\n",
    "            if source_nb_path is not None:\n",
    "                py_file_path = Path(lib_path)/(nm.replace('.','/') + \".py\")\n",
    "                relative_path = os.path.relpath(source_nb_path, start=py_file_path)\n",
    "                mm.dest2nb = relative_path\n",
    "                mm.hdr = f\"# %% {relative_path}\"\n",
    "            mm.make(cells, all_cells, lib_path=lib_path)"
   ]
  },
  {
   "cell_type": "code",
   "execution_count": null,
   "metadata": {},
   "outputs": [
    {
     "data": {
      "text/markdown": [
       "---\n",
       "\n",
       "### export_to_lib\n",
       "\n",
       ">      export_to_lib (nb_path, lib_path, nb_format=None)"
      ],
      "text/plain": [
       "---\n",
       "\n",
       "### export_to_lib\n",
       "\n",
       ">      export_to_lib (nb_path, lib_path, nb_format=None)"
      ]
     },
     "execution_count": null,
     "metadata": {},
     "output_type": "execute_result"
    }
   ],
   "source": [
    "show_doc(nblite.export.export_to_lib)"
   ]
  },
  {
   "cell_type": "code",
   "execution_count": null,
   "metadata": {},
   "outputs": [],
   "source": [
    "#|export\n",
    "def export_to_lib(nb_path, lib_path, nb_format=None):\n",
    "    if nb_format is None:\n",
    "        nb_format = get_nb_format_from_path(nb_path)\n",
    "    with tempfile.NamedTemporaryFile(delete=True, suffix='.ipynb') as tmpfile:\n",
    "        convert_nb(nb_path, tmpfile.name, nb_format=nb_format)\n",
    "        _nbdev_nb_export(tmpfile.name, lib_path, source_nb_path=nb_path)"
   ]
  },
  {
   "cell_type": "code",
   "execution_count": null,
   "metadata": {},
   "outputs": [],
   "source": [
    "root_path = Path('../../test_proj/')\n",
    "\n",
    "export_to_lib(\n",
    "    root_path / 'nbs' / 'notebook1.ipynb',\n",
    "    root_path / 'my_module',\n",
    ")\n",
    "\n",
    "export_to_lib(\n",
    "    root_path / 'nbs' / 'notebook2.ipynb',\n",
    "    root_path / 'my_module',\n",
    ")"
   ]
  },
  {
   "cell_type": "code",
   "execution_count": null,
   "metadata": {},
   "outputs": [],
   "source": [
    "export_to_lib(\n",
    "    root_path / 'pcts' / 'notebook1.pct.py',\n",
    "    root_path / 'my_module',\n",
    ")\n",
    "\n",
    "export_to_lib(\n",
    "    root_path / 'pcts' / 'notebook2.pct.py',\n",
    "    root_path / 'my_module',\n",
    ")"
   ]
  },
  {
   "cell_type": "code",
   "execution_count": null,
   "metadata": {},
   "outputs": [
    {
     "data": {
      "text/markdown": [
       "---\n",
       "\n",
       "### export\n",
       "\n",
       ">      export (root_folder:Optional[str]=None, config_path:Optional[str]=None,\n",
       ">              export_pipeline:Optional[str]=None)\n",
       "\n",
       "*Export notebooks in an nblite project, as specified in the nblite.toml config file.\n",
       "\n",
       "If the `root_folder` is not provided, nblite will search for a nblite.toml file in the current directory\n",
       "and all parent directories, and use the directory containing the nblite.toml file as the root folder.\n",
       "\n",
       "Args:\n",
       "    root_folder: Path to the root folder of the nblite project.\n",
       "    config_path: Path to the nblite.toml config file.\n",
       "    export_pipeline: The export pipeline to use. E.g. 'nbs->pts,pts->lib'.*"
      ],
      "text/plain": [
       "---\n",
       "\n",
       "### export\n",
       "\n",
       ">      export (root_folder:Optional[str]=None, config_path:Optional[str]=None,\n",
       ">              export_pipeline:Optional[str]=None)\n",
       "\n",
       "*Export notebooks in an nblite project, as specified in the nblite.toml config file.\n",
       "\n",
       "If the `root_folder` is not provided, nblite will search for a nblite.toml file in the current directory\n",
       "and all parent directories, and use the directory containing the nblite.toml file as the root folder.\n",
       "\n",
       "Args:\n",
       "    root_folder: Path to the root folder of the nblite project.\n",
       "    config_path: Path to the nblite.toml config file.\n",
       "    export_pipeline: The export pipeline to use. E.g. 'nbs->pts,pts->lib'.*"
      ]
     },
     "execution_count": null,
     "metadata": {},
     "output_type": "execute_result"
    }
   ],
   "source": [
    "show_doc(nblite.export.export)"
   ]
  },
  {
   "cell_type": "code",
   "execution_count": null,
   "metadata": {},
   "outputs": [],
   "source": [
    "#|export\n",
    "def export(root_folder:Union[str,None] = None, config_path:Union[str,None] = None, export_pipeline:Union[str,None] = None):\n",
    "    \"\"\"\n",
    "    Export notebooks in an nblite project, as specified in the nblite.toml config file.\n",
    "    \n",
    "    If the `root_folder` is not provided, nblite will search for a nblite.toml file in the current directory\n",
    "    and all parent directories, and use the directory containing the nblite.toml file as the root folder.\n",
    "    \n",
    "    Args:\n",
    "        root_folder: Path to the root folder of the nblite project.\n",
    "        config_path: Path to the nblite.toml config file.\n",
    "        export_pipeline: The export pipeline to use. E.g. 'nbs->pts,pts->lib'.\n",
    "    \"\"\"\n",
    "    root_folder = Path(root_folder) if root_folder is not None else root_folder\n",
    "    \n",
    "    if root_folder is None:\n",
    "        config_file_path = _find_config_file(Path('.'))\n",
    "        if config_file_path is None:\n",
    "            raise FileNotFoundError(\"Root folder not provided, and no config file found.\")\n",
    "        root_folder = config_file_path.parent\n",
    "    \n",
    "    if not root_folder.is_dir():\n",
    "        raise NotADirectoryError(f\"{root_folder} is not a valid directory\")\n",
    "    \n",
    "    config_file_path = _find_config_file(root_folder) if config_path is None else config_path\n",
    "    \n",
    "    if config_file_path is None:\n",
    "        raise FileNotFoundError(f\"No config file found.\")\n",
    "    config_dict = read_config(config_file_path).model_dump()\n",
    "        \n",
    "    if export_pipeline is not None:\n",
    "        config_dict['export_pipeline'] = export_pipeline\n",
    "        \n",
    "    config = parse_config_dict(config_dict)\n",
    "    \n",
    "    for rule in config.export_pipeline:\n",
    "        from_conf = config.code_locations[rule.from_key]\n",
    "        to_conf = config.code_locations[rule.to_key]\n",
    "        from_file_ext = format_to_file_exts[from_conf.format]\n",
    "        \n",
    "        if to_conf.format == 'module':\n",
    "            for fp in (root_folder / from_conf.path).glob(f'**/*.{from_file_ext}'):\n",
    "                export_to_lib(fp, root_folder / to_conf.path, nb_format=from_conf.format)\n",
    "        else:\n",
    "            to_file_ext = format_to_file_exts[to_conf.format]\n",
    "            for fp in (root_folder / from_conf.path).glob(f'**/*.{from_file_ext}'):\n",
    "                sub_path = fp.relative_to(root_folder / from_conf.path)\n",
    "                dest_fname = sub_path.name[:-len(from_file_ext)] + to_file_ext\n",
    "                dest_path = root_folder / to_conf.path / sub_path.parent / dest_fname\n",
    "                dest_path.parent.mkdir(parents=True, exist_ok=True)\n",
    "                convert_nb(fp, dest_path, from_conf.format, to_conf.format)"
   ]
  },
  {
   "cell_type": "code",
   "execution_count": null,
   "metadata": {},
   "outputs": [],
   "source": [
    "!rm -rf ../../test_proj/my_module ../../test_proj/pcts ../../test_proj/lgts"
   ]
  },
  {
   "cell_type": "code",
   "execution_count": null,
   "metadata": {},
   "outputs": [],
   "source": [
    "export('../../test_proj')"
   ]
  },
  {
   "cell_type": "code",
   "execution_count": null,
   "metadata": {},
   "outputs": [
    {
     "data": {
      "text/markdown": [
       "---\n",
       "\n",
       "### clean_ipynb\n",
       "\n",
       ">      clean_ipynb (nb_path:str, remove_outputs:bool=False,\n",
       ">                   remove_metadata:bool=True)\n",
       "\n",
       "*Clean a notebook by removing all outputs and metadata.\n",
       "\n",
       "Args:\n",
       "    nb_path: Path to the notebook to clean.\n",
       "    remove_outputs: Whether to remove the outputs from the notebook.\n",
       "    remove_metadata: Whether to remove the metadata from the notebook.*"
      ],
      "text/plain": [
       "---\n",
       "\n",
       "### clean_ipynb\n",
       "\n",
       ">      clean_ipynb (nb_path:str, remove_outputs:bool=False,\n",
       ">                   remove_metadata:bool=True)\n",
       "\n",
       "*Clean a notebook by removing all outputs and metadata.\n",
       "\n",
       "Args:\n",
       "    nb_path: Path to the notebook to clean.\n",
       "    remove_outputs: Whether to remove the outputs from the notebook.\n",
       "    remove_metadata: Whether to remove the metadata from the notebook.*"
      ]
     },
     "execution_count": null,
     "metadata": {},
     "output_type": "execute_result"
    }
   ],
   "source": [
    "show_doc(nblite.export.clean_ipynb)"
   ]
  },
  {
   "cell_type": "code",
   "execution_count": null,
   "metadata": {},
   "outputs": [],
   "source": [
    "#|export\n",
    "def clean_ipynb(nb_path:str, remove_outputs:bool=False, remove_metadata:bool=True):\n",
    "    \"\"\"\n",
    "    Clean a notebook by removing all outputs and metadata.\n",
    "    \n",
    "    Args:\n",
    "        nb_path: Path to the notebook to clean.\n",
    "        remove_outputs: Whether to remove the outputs from the notebook.\n",
    "        remove_metadata: Whether to remove the metadata from the notebook.\n",
    "    \"\"\"\n",
    "    import nbformat\n",
    "    from nbconvert.preprocessors import ExecutePreprocessor\n",
    "\n",
    "    nb_path = Path(nb_path)\n",
    "\n",
    "    if not nb_path.as_posix().endswith('.ipynb'):\n",
    "        raise ValueError(f\"Error: '{nb_path}' is not a Jupyter notebook file.\")\n",
    "\n",
    "    with open(nb_path) as f:\n",
    "        nb = nbformat.read(f, as_version=4)\n",
    "        \n",
    "    # Remove outputs from each cell\n",
    "    if remove_outputs:\n",
    "        for cell in nb.cells:\n",
    "            cell.outputs = {}\n",
    "            \n",
    "    # Remove metadata from each cell\n",
    "    if remove_metadata:\n",
    "        for cell in nb.cells:\n",
    "            if cell['cell_type'] == 'code':\n",
    "                cell['execution_count'] = None\n",
    "            cell.metadata = {} \n",
    "            \n",
    "    with open(nb_path, \"w\") as f:\n",
    "        nbformat.write(nb, f)"
   ]
  },
  {
   "cell_type": "code",
   "execution_count": null,
   "metadata": {},
   "outputs": [],
   "source": [
    "clean_ipynb('../../test_proj/nbs/notebook1.ipynb', remove_outputs=True, remove_metadata=True)"
   ]
  },
  {
   "cell_type": "code",
   "execution_count": null,
   "metadata": {},
   "outputs": [
    {
     "data": {
      "text/markdown": [
       "---\n",
       "\n",
       "### fill_ipynb\n",
       "\n",
       ">      fill_ipynb (nb_path:str, cell_exec_timeout=None,\n",
       ">                  remove_pre_existing_outputs:bool=True,\n",
       ">                  remove_metadata:bool=True)\n",
       "\n",
       "*Execute a notebook and fill it with the outputs.\n",
       "\n",
       "Cells can be skipped by adding the following directives to the cell:\n",
       "- `#|skip_evals`: Skip current and subsequent cells, until `#|skip_evals_stop` is encountered.\n",
       "- `#|skip_evals_stop`: Stop skipping cells.\n",
       "- `#|eval: false`: Skip the cell.\n",
       "\n",
       "Args:\n",
       "    nb_path: Path to the notebook to fill.\n",
       "    cell_exec_timeout: Timeout for cell execution.\n",
       "    remove_pre_existing_outputs: Whether to remove the pre-existing outputs from the notebook.\n",
       "    remove_metadata: Whether to remove the metadata from the notebook.*"
      ],
      "text/plain": [
       "---\n",
       "\n",
       "### fill_ipynb\n",
       "\n",
       ">      fill_ipynb (nb_path:str, cell_exec_timeout=None,\n",
       ">                  remove_pre_existing_outputs:bool=True,\n",
       ">                  remove_metadata:bool=True)\n",
       "\n",
       "*Execute a notebook and fill it with the outputs.\n",
       "\n",
       "Cells can be skipped by adding the following directives to the cell:\n",
       "- `#|skip_evals`: Skip current and subsequent cells, until `#|skip_evals_stop` is encountered.\n",
       "- `#|skip_evals_stop`: Stop skipping cells.\n",
       "- `#|eval: false`: Skip the cell.\n",
       "\n",
       "Args:\n",
       "    nb_path: Path to the notebook to fill.\n",
       "    cell_exec_timeout: Timeout for cell execution.\n",
       "    remove_pre_existing_outputs: Whether to remove the pre-existing outputs from the notebook.\n",
       "    remove_metadata: Whether to remove the metadata from the notebook.*"
      ]
     },
     "execution_count": null,
     "metadata": {},
     "output_type": "execute_result"
    }
   ],
   "source": [
    "show_doc(nblite.export.fill_ipynb)"
   ]
  },
  {
   "cell_type": "code",
   "execution_count": null,
   "metadata": {},
   "outputs": [],
   "source": [
    "#|export\n",
    "def fill_ipynb(nb_path:str, cell_exec_timeout=None, remove_pre_existing_outputs:bool=True, remove_metadata:bool=True):\n",
    "    \"\"\"\n",
    "    Execute a notebook and fill it with the outputs.\n",
    "    \n",
    "    Cells can be skipped by adding the following directives to the cell:\n",
    "    - `#|skip_evals`: Skip current and subsequent cells, until `#|skip_evals_stop` is encountered.\n",
    "    - `#|skip_evals_stop`: Stop skipping cells.\n",
    "    - `#|eval: false`: Skip the cell.\n",
    "    \n",
    "    Args:\n",
    "        nb_path: Path to the notebook to fill.\n",
    "        cell_exec_timeout: Timeout for cell execution.\n",
    "        remove_pre_existing_outputs: Whether to remove the pre-existing outputs from the notebook.\n",
    "        remove_metadata: Whether to remove the metadata from the notebook.\n",
    "    \"\"\"\n",
    "    import nbformat\n",
    "    from nbconvert.preprocessors import ExecutePreprocessor\n",
    "\n",
    "    if not nb_path.endswith('.ipynb'):\n",
    "        raise ValueError(f\"Error: '{nb_path}' is not a Jupyter notebook file.\")\n",
    "\n",
    "    with open(nb_path) as f:\n",
    "        nb = nbformat.read(f, as_version=4)\n",
    "\n",
    "    # Remove outputs from each cell\n",
    "    if remove_pre_existing_outputs:\n",
    "        for cell in nb.cells:\n",
    "            cell.outputs = {}\n",
    "\n",
    "    # Parse directives for skipping cell evaluations\n",
    "    skip_evals_mode = False\n",
    "    skipped_cells = []\n",
    "    for cell in nb.cells:\n",
    "        skip_cell = False\n",
    "        if cell['cell_type'] != 'code': continue\n",
    "        for line in cell['source'].split('\\n'):\n",
    "            line = line.strip()\n",
    "            if not line.startswith('#|'): continue\n",
    "            directive = line.split('#|', 1)[1].strip()\n",
    "            if directive == 'skip_evals':\n",
    "                if skip_evals_mode:\n",
    "                    raise ValueError(\"Already in skip_evals mode\")\n",
    "                skip_evals_mode = True\n",
    "            elif directive == 'skip_evals_stop':\n",
    "                if not skip_evals_mode:\n",
    "                    raise ValueError(\"Not in skip_evals mode\")\n",
    "                skip_evals_mode = False\n",
    "            elif directive.split(':', 1)[0].strip() == \"eval\":\n",
    "                if directive.split(':', 1)[1].strip() == 'false':\n",
    "                    skip_cell = True\n",
    "            \n",
    "        if skip_evals_mode or skip_cell:\n",
    "            cell['cell_type'] = 'skip'\n",
    "            skipped_cells.append(cell)\n",
    "\n",
    "    # Create the execute preprocessor\n",
    "    ep = ExecutePreprocessor(timeout=cell_exec_timeout, kernel_name=\"python3\")\n",
    "    resources = {\"metadata\": {\"path\": \".\"}}\n",
    "    ep.preprocess(nb, resources)\n",
    "\n",
    "    # Restore the cell types of skipped code cells\n",
    "    for cell in skipped_cells:\n",
    "        cell['cell_type'] = 'code'\n",
    "\n",
    "    # Remove metadata from each cell\n",
    "    if remove_metadata:\n",
    "        for cell in nb.cells:\n",
    "            if cell['cell_type'] == 'code':\n",
    "                cell['execution_count'] = None\n",
    "            cell.metadata = {}\n",
    "\n",
    "    with open(nb_path, \"w\") as f:\n",
    "        nbformat.write(nb, f)"
   ]
  },
  {
   "cell_type": "code",
   "execution_count": null,
   "metadata": {},
   "outputs": [],
   "source": [
    "fill_ipynb('../../test_proj/nbs/notebook1.ipynb')"
   ]
  }
 ],
 "metadata": {
  "kernelspec": {
   "display_name": "python3",
   "language": "python",
   "name": "python3"
  }
 },
 "nbformat": 4,
 "nbformat_minor": 2
}
