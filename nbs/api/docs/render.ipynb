{
    "cells": [
        {
            "cell_type": "markdown",
            "id": "f6803654",
            "metadata": {},
            "source": [
                "# docs.render"
            ]
        },
        {
            "cell_type": "code",
            "execution_count": null,
            "id": "00a71be7",
            "metadata": {},
            "outputs": [],
            "source": [
                "#|default_exp docs.render"
            ]
        },
        {
            "cell_type": "code",
            "execution_count": null,
            "id": "c979bc8c",
            "metadata": {},
            "outputs": [],
            "source": [
                "#|hide\n",
                "import nblite; from nblite import show_doc; nblite.nbl_export()"
            ]
        },
        {
            "cell_type": "code",
            "execution_count": null,
            "id": "84d9e5cf",
            "metadata": {},
            "outputs": [],
            "source": [
                "#|export\n",
                "from pathlib import Path\n",
                "from typing import Union\n",
                "from tempfile import TemporaryDirectory\n",
                "import yaml\n",
                "import shutil\n",
                "import subprocess\n",
                "import nbformat\n",
                "\n",
                "from nblite.const import nblite_assets_path, format_to_file_exts\n",
                "from nblite.utils import get_project_root_and_config, read_config, _root_path_and_config_helper\n",
                "from nblite.config import CodeLocation, NBLiteConfig\n",
                "from nblite.export import convert_nb, get_cell_with_directives\n",
                "from nblite.docs.cell_docs import render_cell_doc"
            ]
        },
        {
            "cell_type": "code",
            "execution_count": null,
            "id": "72729ee5",
            "metadata": {},
            "outputs": [],
            "source": [
                "#|hide\n",
                "import nblite.docs.render as this_module"
            ]
        },
        {
            "cell_type": "code",
            "execution_count": null,
            "id": "1328ced3",
            "metadata": {},
            "outputs": [],
            "source": [
                "#|hide\n",
                "root_path, config = get_project_root_and_config(Path('../../../test_proj/'))"
            ]
        },
        {
            "cell_type": "code",
            "execution_count": null,
            "id": "b05a904c",
            "metadata": {},
            "outputs": [],
            "source": [
                "#|exporti\n",
                "def process_and_remove_nbdev_directives(nb_path: Path) -> dict:\n",
                "    \"\"\"Processes and removes nbdev directives from a notebook.\"\"\"\n",
                "    nb = nbformat.read(nb_path, as_version=4)\n",
                "\n",
                "    nb['cells'] = [get_cell_with_directives(c) for c in nb['cells']]\n",
                "    proc_cells = []\n",
                "    for cell in nb['cells']:\n",
                "        directive_keys = [d['directive'] for d in cell['directives']]\n",
                "        directive_lines = [d['cell_line'] for d in cell['directives']]\n",
                "        \n",
                "        if 'export' in directive_keys: # Add rendered docstring of all function and class definitions in the cell\n",
                "            doc_cell = nbformat.notebooknode.NotebookNode({\n",
                "                'cell_type': 'markdown',\n",
                "                'metadata': {},\n",
                "                'source': render_cell_doc(cell['source']),\n",
                "            })\n",
                "            proc_cells.append(doc_cell)\n",
                "        if any([d in directive_keys for d in ['hide', 'export', 'exporti']]): continue\n",
                "        \n",
                "        lines_to_remove = [i for i,dk in zip(directive_lines, directive_keys) if not dk.endswith(':')] # All quarto directive keys end with ':'\n",
                "        cell['source'] = '\\n'.join([l for i,l in enumerate(cell['source'].split('\\n')) if i not in lines_to_remove])\n",
                "        del cell['source_without_directives']\n",
                "        del cell['directives']\n",
                "        proc_cells.append(cell)\n",
                "        \n",
                "    nb['cells'] = proc_cells\n",
                "    _, nb = nbformat.validator.normalize(nb)\n",
                "    nbformat.write(nb, nb_path)"
            ]
        },
        {
            "cell_type": "code",
            "execution_count": null,
            "id": "1f10349a",
            "metadata": {},
            "outputs": [],
            "source": [
                "#|exporti\n",
                "def convert_to_ipynb_and_copy_to_folder(dest_folder: Path, root_path: Path, cl: CodeLocation) -> Path:\n",
                "    nbs_folder = root_path / cl.path\n",
                "    cl_file_ext = format_to_file_exts[cl.format]\n",
                "    for f in nbs_folder.glob(f\"**/*\"):\n",
                "        if f.is_dir(): continue\n",
                "        if f.parent.name.startswith('.'): continue\n",
                "        \n",
                "        rel_path = f.relative_to(nbs_folder)\n",
                "        if any(p.startswith('_') for p in rel_path.parts): continue\n",
                "        \n",
                "        if f.name.endswith(cl_file_ext):\n",
                "            if cl.format != \"ipynb\":\n",
                "                file_name = f.name[:-len(cl_file_ext)-1] + \".ipynb\"\n",
                "                dest_path = dest_folder / rel_path.parent / file_name\n",
                "                dest_path.parent.mkdir(parents=True, exist_ok=True)\n",
                "                convert_nb(f, dest_path, cl.format, \"ipynb\")\n",
                "            else:\n",
                "                (dest_folder / rel_path).parent.mkdir(parents=True, exist_ok=True)\n",
                "                dest_path = dest_folder / rel_path\n",
                "                shutil.copy(f, dest_path)\n",
                "            process_and_remove_nbdev_directives(dest_path)\n",
                "        elif f.suffix in ['.md', '.qmd']:\n",
                "            dest_path = dest_folder / rel_path\n",
                "            dest_path.parent.mkdir(parents=True, exist_ok=True)\n",
                "            shutil.copy(f, dest_path)"
            ]
        },
        {
            "cell_type": "code",
            "execution_count": null,
            "id": "cbec117b",
            "metadata": {},
            "outputs": [],
            "source": [
                "#|exporti\n",
                "def __process_subfolder(folder_path: Path, rel_path: Path) -> dict:\n",
                "    contents = {}\n",
                "    contents['section'] = folder_path.name\n",
                "    rel_folder_path = folder_path.relative_to(rel_path)\n",
                "    sub_contents = []\n",
                "    for subfolder_path in folder_path.glob('*'):\n",
                "        if not subfolder_path.is_dir(): continue\n",
                "        if any(p.startswith('_') for p in subfolder_path.relative_to(rel_path).parts): continue\n",
                "        sub_contents.append(__process_subfolder(subfolder_path, rel_path))\n",
                "    if len(sub_contents) > 0:\n",
                "        contents['contents'] = [{'auto': f\"{rel_folder_path}/*\"}, *sub_contents]\n",
                "    else:\n",
                "        contents['contents'] = f\"{rel_folder_path}/*\"\n",
                "    return contents\n",
                "\n",
                "def build_sidebar_section(parent_path: Path) -> dict:\n",
                "    \"\"\"\n",
                "    Recursively build sidebar YAML structure for Quarto from a directory tree.\n",
                "    \"\"\"\n",
                "    contents = [{'auto': f\"/*\"}]\n",
                "    for subfolder_path in parent_path.glob('*'):\n",
                "        if not subfolder_path.is_dir(): continue\n",
                "        if any(p.startswith('_') for p in subfolder_path.relative_to(parent_path).parts): continue\n",
                "        contents.append(__process_subfolder(subfolder_path, parent_path))\n",
                "    return contents"
            ]
        },
        {
            "cell_type": "code",
            "execution_count": null,
            "id": "74dda74c",
            "metadata": {},
            "outputs": [
                {
                    "data": {
                        "text/plain": [
                            "[{'auto': '/*'},\n",
                            " {'section': 'submodule', 'contents': 'submodule/*'},\n",
                            " {'section': 'folder',\n",
                            "  'contents': [{'auto': 'folder/*'},\n",
                            "   {'section': 'subfolder', 'contents': 'folder/subfolder/*'}]}]"
                        ]
                    },
                    "execution_count": null,
                    "metadata": {},
                    "output_type": "execute_result"
                }
            ],
            "source": [
                "#|hide\n",
                "build_sidebar_section(root_path / 'nbs')"
            ]
        },
        {
            "cell_type": "code",
            "execution_count": null,
            "id": "ba7e0a30",
            "metadata": {},
            "outputs": [],
            "source": [
                "#|exporti\n",
                "def generate_quarto_yml(docs_nbs_path: Path, src_path: Path, config: NBLiteConfig) -> dict:\n",
                "    with open(nblite_assets_path / 'docs' / '_quarto.yml', 'r') as file:\n",
                "        quarto_yml = yaml.safe_load(file)\n",
                "    quarto_yml['website']['title'] = config.docs_title\n",
                "    quarto_yml['website']['sidebar']['contents'] = build_sidebar_section(src_path)\n",
                "    with open(docs_nbs_path / '_quarto.yml', 'w') as file:\n",
                "        yaml.dump(quarto_yml, file)"
            ]
        },
        {
            "cell_type": "code",
            "execution_count": null,
            "id": "5ffbeaf7",
            "metadata": {},
            "outputs": [],
            "source": [
                "#|hide\n",
                "with TemporaryDirectory() as tmp_dir:\n",
                "    tmp_dir = Path(tmp_dir)\n",
                "    convert_to_ipynb_and_copy_to_folder(tmp_dir, root_path, config.code_locations['nbs'])\n",
                "    generate_quarto_yml(tmp_dir, root_path / 'nbs', config)"
            ]
        },
        {
            "cell_type": "code",
            "execution_count": null,
            "id": "5ec12c6a",
            "metadata": {},
            "outputs": [],
            "source": [
                "#|exporti\n",
                "def prepare_docs(dest_folder:Path, docs_cl:Union[str,None] = None, root_path:Union[str,None] = None, config_path:Union[str,None] = None):\n",
                "    root_path, config = _root_path_and_config_helper(root_path, config_path)\n",
                "    docs_cl = docs_cl or config.docs_cl\n",
                "    if not docs_cl: raise ValueError(\"No 'docs_cl' provided and no default 'docs_cl' provided in config.\")\n",
                "    cl_path = root_path / config.code_locations[docs_cl].path\n",
                "    if not cl_path.exists(): raise FileNotFoundError(f\"Code location '{docs_cl}' not found.\")\n",
                "    dest_folder = Path(dest_folder)\n",
                "    convert_to_ipynb_and_copy_to_folder(dest_folder, root_path, config.code_locations[docs_cl])\n",
                "    generate_quarto_yml(dest_folder, cl_path, config)\n",
                "    shutil.copy(nblite_assets_path / 'docs' / 'styles.css', dest_folder / 'styles.css')        "
            ]
        },
        {
            "cell_type": "code",
            "execution_count": null,
            "id": "9a5af062",
            "metadata": {},
            "outputs": [
                {
                    "data": {
                        "text/markdown": [
                            "## preview_docs\n",
                            "\n",
                            "```python\n",
                            "preview_docs(\n",
                            "   docs_cl: typing.Optional[str],\n",
                            "   root_path: typing.Optional[str],\n",
                            "   config_path: typing.Optional[str],\n",
                            "   verbose: bool\n",
                            ")\n",
                            "```\n",
                            "\n",
                            "---\n"
                        ],
                        "text/plain": [
                            "<IPython.core.display.Markdown object>"
                        ]
                    },
                    "execution_count": null,
                    "metadata": {},
                    "output_type": "execute_result"
                }
            ],
            "source": [
                "#|hide\n",
                "show_doc(this_module.preview_docs)"
            ]
        },
        {
            "cell_type": "code",
            "execution_count": null,
            "id": "2db7a682",
            "metadata": {},
            "outputs": [],
            "source": [
                "#|export\n",
                "def preview_docs(docs_cl:Union[str,None] = None, root_path:Union[str,None] = None, config_path:Union[str,None] = None, verbose:bool=False):\n",
                "    with TemporaryDirectory() as tmp_dir:\n",
                "        prepare_docs(Path(tmp_dir), docs_cl, root_path, config_path)\n",
                "        if verbose:\n",
                "            subprocess.run(['quarto', 'preview'], cwd=tmp_dir)\n",
                "        else:\n",
                "            subprocess.run(['quarto', 'preview'], cwd=tmp_dir, stdout=subprocess.DEVNULL, stderr=subprocess.DEVNULL)"
            ]
        },
        {
            "cell_type": "code",
            "execution_count": null,
            "id": "3a283a1e",
            "metadata": {},
            "outputs": [
                {
                    "data": {
                        "text/markdown": [
                            "## render_docs\n",
                            "\n",
                            "```python\n",
                            "render_docs(\n",
                            "   output_folder: typing.Optional[str],\n",
                            "   docs_cl: typing.Optional[str],\n",
                            "   root_path: typing.Optional[str],\n",
                            "   config_path: typing.Optional[str],\n",
                            "   verbose: bool\n",
                            ")\n",
                            "```\n",
                            "\n",
                            "---\n"
                        ],
                        "text/plain": [
                            "<IPython.core.display.Markdown object>"
                        ]
                    },
                    "execution_count": null,
                    "metadata": {},
                    "output_type": "execute_result"
                }
            ],
            "source": [
                "#|hide\n",
                "show_doc(this_module.render_docs)"
            ]
        },
        {
            "cell_type": "code",
            "execution_count": null,
            "id": "c3e8c581",
            "metadata": {},
            "outputs": [],
            "source": [
                "#|export\n",
                "def render_docs(output_folder:Union[str,None], docs_cl:Union[str,None] = None, root_path:Union[str,None] = None, config_path:Union[str,None] = None, verbose:bool=False):\n",
                "    root_path, _ = _root_path_and_config_helper(root_path, config_path)\n",
                "    doc_folder_name = Path(output_folder).name # Necessary to get the quarto printouts to be correct\n",
                "    with TemporaryDirectory() as tmp_dir:\n",
                "        prepare_docs(Path(tmp_dir), docs_cl, root_path, config_path)\n",
                "        if verbose:\n",
                "            subprocess.run(['quarto', 'render', '--output-dir', doc_folder_name], cwd=tmp_dir)\n",
                "        else:\n",
                "            subprocess.run(['quarto', 'render', '--output-dir', doc_folder_name], cwd=tmp_dir, stdout=subprocess.DEVNULL, stderr=subprocess.DEVNULL)\n",
                "        shutil.copytree(Path(tmp_dir) / doc_folder_name, output_folder, dirs_exist_ok=True)"
            ]
        },
        {
            "cell_type": "code",
            "execution_count": null,
            "id": "57ae7d59",
            "metadata": {},
            "outputs": [
                {
                    "name": "stderr",
                    "output_type": "stream",
                    "text": [
                        "/var/folders/22/k6clk3m10258k07mjcnlswt40000gn/T/ipykernel_74702/1416230047.py:28: MissingIDFieldWarning: Cell is missing an id field, this will become a hard error in future nbformat versions. You may want to use `normalize()` on your notebooks before validations (available since nbformat 5.1.4). Previous versions of nbformat are fixing this issue transparently, and will stop doing so in the future.\n",
                        "  _, nb = nbformat.validator.normalize(nb)\n"
                    ]
                }
            ],
            "source": [
                "render_docs(root_path / '_docs', root_path=root_path, docs_cl='pcts')"
            ]
        },
        {
            "cell_type": "code",
            "execution_count": null,
            "id": "1badb81b",
            "metadata": {},
            "outputs": [],
            "source": [
                "render_docs(root_path / '_docs', root_path=root_path, docs_cl='nbs')"
            ]
        }
    ],
    "metadata": {
        "kernelspec": {
            "display_name": ".venv",
            "language": "python",
            "name": "python3"
        },
        "language_info": {
            "codemirror_mode": {
                "name": "ipython",
                "version": 3
            },
            "file_extension": ".py",
            "mimetype": "text/x-python",
            "name": "python",
            "nbconvert_exporter": "python",
            "pygments_lexer": "ipython3",
            "version": "3.9.6"
        },
        "nblite_source_hash": "ba2fef68f257a491a30dbf2f4c758f946cbced8bd4f8993b47481d6a7cf3958e"
    },
    "nbformat": 4,
    "nbformat_minor": 5
}