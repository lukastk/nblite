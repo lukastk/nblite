{
    "cells": [
        {
            "cell_type": "markdown",
            "metadata": {},
            "source": [
                "# My module\n",
                "\n",
                "This will be rendered to `README.md`"
            ]
        },
        {
            "cell_type": "code",
            "execution_count": null,
            "metadata": {},
            "outputs": [
                {
                    "name": "stdout",
                    "output_type": "stream",
                    "text": [
                        "This cell and its output will be shown in the README.\n"
                    ]
                }
            ],
            "source": [
                "print(\"This cell and its output will be shown in the README.\")"
            ]
        },
        {
            "cell_type": "code",
            "execution_count": null,
            "metadata": {},
            "outputs": [
                {
                    "name": "stdout",
                    "output_type": "stream",
                    "text": [
                        "This cell will be hidden.\n"
                    ]
                }
            ],
            "source": [
                "#|hide\n",
                "print(\"This cell will be hidden.\")"
            ]
        },
        {
            "cell_type": "markdown",
            "metadata": {},
            "source": [
                "#|hide\n",
                "\n",
                "This cell will also be hidden"
            ]
        }
    ],
    "metadata": {
        "kernelspec": {
            "display_name": ".venv",
            "language": "python",
            "name": "python3"
        },
        "language_info": {
            "codemirror_mode": {
                "name": "ipython",
                "version": 3
            },
            "file_extension": ".py",
            "mimetype": "text/x-python",
            "name": "python",
            "nbconvert_exporter": "python",
            "pygments_lexer": "ipython3",
            "version": "3.9.6"
        },
        "nblite_source_hash": "1e2d03f35eb7f245a295a8713c2cd0a043209a6387739cb2e2ad6d82a3667f7c"
    },
    "nbformat": 4,
    "nbformat_minor": 2
}