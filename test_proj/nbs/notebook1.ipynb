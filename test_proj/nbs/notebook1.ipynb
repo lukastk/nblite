{
    "cells": [
        {
            "cell_type": "markdown",
            "metadata": {},
            "source": [
                "# Notebook 1"
            ]
        },
        {
            "cell_type": "code",
            "execution_count": null,
            "metadata": {},
            "outputs": [],
            "source": [
                "#|default_exp notebook1"
            ]
        },
        {
            "cell_type": "code",
            "execution_count": null,
            "metadata": {},
            "outputs": [],
            "source": [
                "#|hide\n",
                "import nblite; from nblite import show_doc; nblite.nbl_export()"
            ]
        },
        {
            "cell_type": "code",
            "execution_count": null,
            "metadata": {},
            "outputs": [],
            "source": [
                "#|export\n",
                "def foo():\n",
                "    print(\"Hello\")"
            ]
        },
        {
            "cell_type": "code",
            "execution_count": null,
            "metadata": {},
            "outputs": [],
            "source": [
                "a = 1"
            ]
        },
        {
            "cell_type": "code",
            "execution_count": null,
            "metadata": {},
            "outputs": [],
            "source": [
                "b = 2"
            ]
        },
        {
            "cell_type": "code",
            "execution_count": null,
            "metadata": {},
            "outputs": [],
            "source": [
                "#|eval: false\n",
                "# Will not be executed by `nbl fill`\n",
                "a + b"
            ]
        },
        {
            "cell_type": "code",
            "execution_count": null,
            "metadata": {},
            "outputs": [],
            "source": [
                "#|skip_evals\n",
                "# Anything below this cell will not be executed by `nbl fill`, until #|skip_evals_stop is encountered"
            ]
        },
        {
            "cell_type": "code",
            "execution_count": null,
            "metadata": {},
            "outputs": [],
            "source": [
                "1+1   "
            ]
        },
        {
            "cell_type": "code",
            "execution_count": null,
            "metadata": {},
            "outputs": [],
            "source": [
                "#|skip_evals_stop"
            ]
        },
        {
            "cell_type": "code",
            "execution_count": null,
            "metadata": {},
            "outputs": [
                {
                    "data": {
                        "text/plain": [
                            "2"
                        ]
                    },
                    "execution_count": null,
                    "metadata": {},
                    "output_type": "execute_result"
                }
            ],
            "source": [
                "# This cell will be executed by `nbl fill`\n",
                "1+1"
            ]
        },
        {
            "cell_type": "markdown",
            "metadata": {},
            "source": [
                "Testing whether non-exported cells with imports and code execution are handled correctly"
            ]
        },
        {
            "cell_type": "code",
            "execution_count": null,
            "metadata": {},
            "outputs": [
                {
                    "name": "stdout",
                    "output_type": "stream",
                    "text": [
                        "notebook2.ipynb\n",
                        "__notebook6.ipynb\n",
                        "notebook1.ipynb\n",
                        "func_notebook.ipynb\n",
                        "func_notebook2.ipynb\n",
                        "index.ipynb\n",
                        "notebook5.ipynb\n",
                        "notebook3.ipynb\n",
                        "notebook4.ipynb\n",
                        "notebook7.ipynb\n"
                    ]
                }
            ],
            "source": [
                "from pathlib import Path\n",
                "print(\"\\n\".join([p.name for p in Path.cwd().glob(\"**/*.ipynb\")]))"
            ]
        },
        {
            "cell_type": "markdown",
            "metadata": {},
            "source": [
                "Testing whether exported cells with imports and code execution are handled correctly"
            ]
        },
        {
            "cell_type": "code",
            "execution_count": null,
            "metadata": {},
            "outputs": [],
            "source": [
                "#|export\n",
                "from pathlib import Path\n",
                "paths = \"\\n\".join([p.name for p in Path.cwd().glob(\"**/*.ipynb\")])"
            ]
        }
    ],
    "metadata": {
        "kernelspec": {
            "display_name": ".venv",
            "language": "python",
            "name": "python3"
        },
        "language_info": {
            "codemirror_mode": {
                "name": "ipython",
                "version": 3
            },
            "file_extension": ".py",
            "mimetype": "text/x-python",
            "name": "python",
            "nbconvert_exporter": "python",
            "pygments_lexer": "ipython3",
            "version": "3.9.6"
        },
        "nblite_source_hash": "76823e633087548eeba8ca494d5c1a92bc9cbab33c0ff7b7e3ddcbe91f5d6e31"
    },
    "nbformat": 4,
    "nbformat_minor": 4
}