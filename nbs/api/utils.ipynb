{
 "cells": [
  {
   "cell_type": "markdown",
   "metadata": {},
   "source": [
    "# utils"
   ]
  },
  {
   "cell_type": "code",
   "execution_count": null,
   "metadata": {},
   "outputs": [],
   "source": [
    "#|default_exp utils"
   ]
  },
  {
   "cell_type": "code",
   "execution_count": null,
   "metadata": {},
   "outputs": [],
   "source": [
    "#|hide\n",
    "import nbdev; nbdev.nbdev_export()"
   ]
  },
  {
   "cell_type": "code",
   "execution_count": null,
   "metadata": {},
   "outputs": [],
   "source": [
    "#|hide\n",
    "from nbdev.showdoc import show_doc"
   ]
  },
  {
   "cell_type": "code",
   "execution_count": null,
   "metadata": {},
   "outputs": [
    {
     "ename": "ImportError",
     "evalue": "cannot import name 'get_unclean_nbs' from 'nblite.git' (/Users/lukastk/dev-proj/nblite/nblite/git.py)",
     "output_type": "error",
     "traceback": [
      "\u001b[0;31m---------------------------------------------------------------------------\u001b[0m",
      "\u001b[0;31mImportError\u001b[0m                               Traceback (most recent call last)",
      "Cell \u001b[0;32mIn[4], line 9\u001b[0m\n\u001b[1;32m      6\u001b[0m \u001b[38;5;28;01mfrom\u001b[39;00m\u001b[38;5;250m \u001b[39m\u001b[38;5;21;01mtyping_extensions\u001b[39;00m\u001b[38;5;250m \u001b[39m\u001b[38;5;28;01mimport\u001b[39;00m Annotated\n\u001b[1;32m      7\u001b[0m \u001b[38;5;28;01mfrom\u001b[39;00m\u001b[38;5;250m \u001b[39m\u001b[38;5;21;01mtyping\u001b[39;00m\u001b[38;5;250m \u001b[39m\u001b[38;5;28;01mimport\u001b[39;00m Union\n\u001b[0;32m----> 9\u001b[0m \u001b[38;5;28;01mfrom\u001b[39;00m\u001b[38;5;250m \u001b[39m\u001b[38;5;21;01mnblite\u001b[39;00m\u001b[38;5;21;01m.\u001b[39;00m\u001b[38;5;21;01mconfig\u001b[39;00m\u001b[38;5;250m \u001b[39m\u001b[38;5;28;01mimport\u001b[39;00m _find_config_file, read_config, parse_config_dict, NBLiteConfig, get_project_root_and_config, CodeLocation\n\u001b[1;32m     10\u001b[0m \u001b[38;5;28;01mfrom\u001b[39;00m\u001b[38;5;250m \u001b[39m\u001b[38;5;21;01mnblite\u001b[39;00m\u001b[38;5;21;01m.\u001b[39;00m\u001b[38;5;21;01mconst\u001b[39;00m\u001b[38;5;250m \u001b[39m\u001b[38;5;28;01mimport\u001b[39;00m file_exts_to_format, format_to_jupytertext_formats\n",
      "File \u001b[0;32m~/dev-proj/nblite/nblite/__init__.py:8\u001b[0m\n\u001b[1;32m      6\u001b[0m \u001b[38;5;28;01mfrom\u001b[39;00m\u001b[38;5;250m \u001b[39m\u001b[38;5;21;01m.\u001b[39;00m\u001b[38;5;250m \u001b[39m\u001b[38;5;28;01mimport\u001b[39;00m export\n\u001b[1;32m      7\u001b[0m \u001b[38;5;28;01mfrom\u001b[39;00m\u001b[38;5;250m \u001b[39m\u001b[38;5;21;01m.\u001b[39;00m\u001b[38;5;250m \u001b[39m\u001b[38;5;28;01mimport\u001b[39;00m git\n\u001b[0;32m----> 8\u001b[0m \u001b[38;5;28;01mfrom\u001b[39;00m\u001b[38;5;250m \u001b[39m\u001b[38;5;21;01m.\u001b[39;00m\u001b[38;5;250m \u001b[39m\u001b[38;5;28;01mimport\u001b[39;00m cli\n",
      "File \u001b[0;32m~/dev-proj/nblite/nblite/cli.py:22\u001b[0m\n\u001b[1;32m     20\u001b[0m \u001b[38;5;28;01mfrom\u001b[39;00m\u001b[38;5;250m \u001b[39m\u001b[38;5;21;01m.\u001b[39;00m\u001b[38;5;21;01mconfig\u001b[39;00m\u001b[38;5;250m \u001b[39m\u001b[38;5;28;01mimport\u001b[39;00m get_project_root_and_config\n\u001b[1;32m     21\u001b[0m \u001b[38;5;28;01mfrom\u001b[39;00m\u001b[38;5;250m \u001b[39m\u001b[38;5;21;01m.\u001b[39;00m\u001b[38;5;21;01mexport\u001b[39;00m\u001b[38;5;250m \u001b[39m\u001b[38;5;28;01mimport\u001b[39;00m convert_nb\n\u001b[0;32m---> 22\u001b[0m \u001b[38;5;28;01mfrom\u001b[39;00m\u001b[38;5;250m \u001b[39m\u001b[38;5;21;01m.\u001b[39;00m\u001b[38;5;21;01mgit\u001b[39;00m\u001b[38;5;250m \u001b[39m\u001b[38;5;28;01mimport\u001b[39;00m get_unclean_nbs, get_unstaged_nb_twins\n\u001b[1;32m     24\u001b[0m \u001b[38;5;66;03m# %% ../nbs/api/cli.ipynb 8\u001b[39;00m\n\u001b[1;32m     25\u001b[0m \u001b[38;5;28;01mdef\u001b[39;00m\u001b[38;5;250m \u001b[39m\u001b[38;5;21mparse_docstring\u001b[39m(docstring: \u001b[38;5;28mstr\u001b[39m) \u001b[38;5;241m-\u001b[39m\u001b[38;5;241m>\u001b[39m \u001b[38;5;28mtuple\u001b[39m:\n",
      "\u001b[0;31mImportError\u001b[0m: cannot import name 'get_unclean_nbs' from 'nblite.git' (/Users/lukastk/dev-proj/nblite/nblite/git.py)"
     ]
    }
   ],
   "source": [
    "#|export\n",
    "import tempfile\n",
    "import os\n",
    "from pathlib import Path\n",
    "from typer import Argument\n",
    "from typing_extensions import Annotated\n",
    "from typing import Union\n",
    "\n",
    "from nblite.config import _find_config_file, read_config, parse_config_dict, NBLiteConfig, get_project_root_and_config, CodeLocation\n",
    "from nblite.const import file_exts_to_format, format_to_jupytertext_formats"
   ]
  },
  {
   "cell_type": "code",
   "execution_count": null,
   "metadata": {},
   "outputs": [],
   "source": [
    "import nblite.utils"
   ]
  },
  {
   "cell_type": "code",
   "execution_count": null,
   "metadata": {},
   "outputs": [
    {
     "data": {
      "text/markdown": [
       "---\n",
       "\n",
       "### get_nb_format_from_path\n",
       "\n",
       ">      get_nb_format_from_path (path:str)"
      ],
      "text/plain": [
       "---\n",
       "\n",
       "### get_nb_format_from_path\n",
       "\n",
       ">      get_nb_format_from_path (path:str)"
      ]
     },
     "execution_count": null,
     "metadata": {},
     "output_type": "execute_result"
    }
   ],
   "source": [
    "show_doc(nblite.utils.get_nb_format_from_path)"
   ]
  },
  {
   "cell_type": "code",
   "execution_count": null,
   "metadata": {},
   "outputs": [],
   "source": [
    "#|export\n",
    "def get_nb_format_from_path(path: str) -> str:\n",
    "    path = Path(path).as_posix()\n",
    "    for ext, fmt in file_exts_to_format.items():\n",
    "        if path.endswith(f\".{ext}\"): return fmt\n",
    "    return None"
   ]
  },
  {
   "cell_type": "code",
   "execution_count": null,
   "metadata": {},
   "outputs": [
    {
     "data": {
      "text/plain": [
       "'percent'"
      ]
     },
     "execution_count": null,
     "metadata": {},
     "output_type": "execute_result"
    }
   ],
   "source": [
    "get_nb_format_from_path('file.pct.py')"
   ]
  },
  {
   "cell_type": "code",
   "execution_count": null,
   "metadata": {},
   "outputs": [
    {
     "data": {
      "text/markdown": [
       "---\n",
       "\n",
       "### get_nb_path_info\n",
       "\n",
       ">      get_nb_path_info (nb_path:str, root_path:str,\n",
       ">                        config:nblite.config.NBLiteConfig)"
      ],
      "text/plain": [
       "---\n",
       "\n",
       "### get_nb_path_info\n",
       "\n",
       ">      get_nb_path_info (nb_path:str, root_path:str,\n",
       ">                        config:nblite.config.NBLiteConfig)"
      ]
     },
     "execution_count": null,
     "metadata": {},
     "output_type": "execute_result"
    }
   ],
   "source": [
    "show_doc(nblite.utils.get_nb_path_info)"
   ]
  },
  {
   "cell_type": "code",
   "execution_count": null,
   "metadata": {},
   "outputs": [],
   "source": [
    "#|export\n",
    "def get_nb_path_info(nb_path: str, root_path: str, config: NBLiteConfig):\n",
    "    nb_path = Path(nb_path).resolve()\n",
    "    root_path = Path(root_path).resolve()\n",
    "    rel_nb_path = nb_path.relative_to(root_path)\n",
    "    if not rel_nb_path.parts[0] in [loc.path for loc in config.code_locations.values()]:\n",
    "        raise ValueError(f\"Notebook '{nb_path}' is not in a valid code location.\")\n",
    "        \n",
    "    for loc in config.code_locations.values():\n",
    "        if str(rel_nb_path).startswith(loc.path):\n",
    "            file_ext = loc.file_ext\n",
    "            if not str(rel_nb_path).endswith(file_ext):\n",
    "                raise ValueError(f\"Notebook '{nb_path}' has an invalid file extension.\")\n",
    "            name = Path(str(rel_nb_path)[:-len(f\".{file_ext}\")])\n",
    "            return {\n",
    "                \"name\": name,\n",
    "                \"cl_name\": Path(*name.parts[1:]),\n",
    "                \"basename\": Path(name).stem,\n",
    "                \"format\": loc.format,\n",
    "                \"file_ext\": file_ext,\n",
    "                \"cl_path\": loc.path,\n",
    "            }"
   ]
  },
  {
   "cell_type": "code",
   "execution_count": null,
   "metadata": {},
   "outputs": [
    {
     "data": {
      "text/plain": [
       "{'name': Path('nbs/notebook1'),\n",
       " 'cl_name': Path('notebook1'),\n",
       " 'basename': 'notebook1',\n",
       " 'format': 'ipynb',\n",
       " 'file_ext': 'ipynb',\n",
       " 'cl_path': 'nbs'}"
      ]
     },
     "execution_count": null,
     "metadata": {},
     "output_type": "execute_result"
    }
   ],
   "source": [
    "root_path = '../../test_proj'\n",
    "root_path, config = get_project_root_and_config(root_path)\n",
    "get_nb_path_info('../../test_proj/nbs/notebook1.ipynb', '../../test_proj', config)"
   ]
  },
  {
   "cell_type": "code",
   "execution_count": null,
   "metadata": {},
   "outputs": [
    {
     "data": {
      "text/markdown": [
       "---\n",
       "\n",
       "### get_nb_module_export_name\n",
       "\n",
       ">      get_nb_module_export_name (nb_path:str, lib_path:str)"
      ],
      "text/plain": [
       "---\n",
       "\n",
       "### get_nb_module_export_name\n",
       "\n",
       ">      get_nb_module_export_name (nb_path:str, lib_path:str)"
      ]
     },
     "execution_count": null,
     "metadata": {},
     "output_type": "execute_result"
    }
   ],
   "source": [
    "show_doc(nblite.utils.get_nb_module_export_name)"
   ]
  },
  {
   "cell_type": "code",
   "execution_count": null,
   "metadata": {},
   "outputs": [],
   "source": [
    "#|export\n",
    "def get_nb_module_export_name(nb_path: str, lib_path: str) -> str:\n",
    "    import nbdev.export\n",
    "    exp = nbdev.export.ExportModuleProc()\n",
    "    nb = nbdev.export.NBProcessor(nb_path, [exp], debug=False)\n",
    "    nb.process()\n",
    "    for mod,cells in exp.modules.items():\n",
    "        if nbdev.export.first(1 for o in cells if o.cell_type=='code'):\n",
    "            all_cells = exp.in_all[mod]\n",
    "            nm = getattr(exp, 'default_exp', None) if mod=='#' else mod\n",
    "            return nm\n",
    "    return None\n",
    "    return (Path(lib_path)/(nm + \".py\")).resolve().as_posix()"
   ]
  },
  {
   "cell_type": "code",
   "execution_count": null,
   "metadata": {},
   "outputs": [
    {
     "data": {
      "text/plain": [
       "'submodule.notebook3'"
      ]
     },
     "execution_count": null,
     "metadata": {},
     "output_type": "execute_result"
    }
   ],
   "source": [
    "get_nb_module_export_name('../../test_proj/nbs/submodule/notebook3.ipynb', '../../test_proj/my_module')"
   ]
  },
  {
   "cell_type": "code",
   "execution_count": null,
   "metadata": {},
   "outputs": [
    {
     "data": {
      "text/markdown": [
       "---\n",
       "\n",
       "### get_nb_module_export_path\n",
       "\n",
       ">      get_nb_module_export_path (nb_path:str, lib_path:str)"
      ],
      "text/plain": [
       "---\n",
       "\n",
       "### get_nb_module_export_path\n",
       "\n",
       ">      get_nb_module_export_path (nb_path:str, lib_path:str)"
      ]
     },
     "execution_count": null,
     "metadata": {},
     "output_type": "execute_result"
    }
   ],
   "source": [
    "show_doc(nblite.utils.get_nb_module_export_path)"
   ]
  },
  {
   "cell_type": "code",
   "execution_count": null,
   "metadata": {},
   "outputs": [],
   "source": [
    "#|export\n",
    "def get_nb_module_export_path(nb_path: str, lib_path: str) -> str:\n",
    "    nb_mod_export_name = get_nb_module_export_name(nb_path, lib_path)\n",
    "    return (Path(lib_path) / nb_mod_export_name.replace('.', '/')).with_suffix('.py').resolve()"
   ]
  },
  {
   "cell_type": "code",
   "execution_count": null,
   "metadata": {},
   "outputs": [
    {
     "data": {
      "text/plain": [
       "Path('/Users/lukastk/dev-proj/nblite/test_proj/my_module/submodule/notebook3.py')"
      ]
     },
     "execution_count": null,
     "metadata": {},
     "output_type": "execute_result"
    }
   ],
   "source": [
    "get_nb_module_export_path('../../test_proj/nbs/submodule/notebook3.ipynb', '../../test_proj/my_module')"
   ]
  },
  {
   "cell_type": "code",
   "execution_count": null,
   "metadata": {},
   "outputs": [
    {
     "data": {
      "text/markdown": [
       "---\n",
       "\n",
       "### is_code_loc_nb\n",
       "\n",
       ">      is_code_loc_nb (nb_path:str, root_path:str,\n",
       ">                      config:nblite.config.NBLiteConfig)\n",
       "\n",
       "*Returns True if the notebook is a notebook associated with a code location.*"
      ],
      "text/plain": [
       "---\n",
       "\n",
       "### is_code_loc_nb\n",
       "\n",
       ">      is_code_loc_nb (nb_path:str, root_path:str,\n",
       ">                      config:nblite.config.NBLiteConfig)\n",
       "\n",
       "*Returns True if the notebook is a notebook associated with a code location.*"
      ]
     },
     "execution_count": null,
     "metadata": {},
     "output_type": "execute_result"
    }
   ],
   "source": [
    "show_doc(nblite.utils.is_code_loc_nb)"
   ]
  },
  {
   "cell_type": "code",
   "execution_count": null,
   "metadata": {},
   "outputs": [],
   "source": [
    "#|export\n",
    "def is_code_loc_nb(nb_path: str, root_path: str, config: NBLiteConfig):\n",
    "    \"\"\"Returns True if the notebook is a notebook associated with a code location.\"\"\"\n",
    "    nb_path = Path(nb_path).resolve()\n",
    "    root_path = Path(root_path).resolve()\n",
    "    try:\n",
    "        rel_nb_path = nb_path.relative_to(root_path)\n",
    "        for loc in config.code_locations.values():\n",
    "            if str(rel_nb_path).startswith(loc.path):\n",
    "                in_cl = True\n",
    "                is_nb = str(rel_nb_path).endswith(loc.file_ext)\n",
    "                return in_cl and is_nb\n",
    "        return False\n",
    "    except ValueError:\n",
    "        return False"
   ]
  },
  {
   "cell_type": "code",
   "execution_count": null,
   "metadata": {},
   "outputs": [
    {
     "name": "stdout",
     "output_type": "stream",
     "text": [
      "True\n",
      "False\n",
      "False\n"
     ]
    }
   ],
   "source": [
    "root_path = '../../test_proj'\n",
    "print(is_code_loc_nb('../../test_proj/nbs/notebook1.ipynb', root_path, config))\n",
    "print(is_code_loc_nb('../../test_proj/nbs/notebook1.pct.py', root_path, config))\n",
    "print(is_code_loc_nb('../../test_proj/test.txt', root_path, config))"
   ]
  },
  {
   "cell_type": "code",
   "execution_count": null,
   "metadata": {},
   "outputs": [
    {
     "data": {
      "text/markdown": [
       "---\n",
       "\n",
       "### get_nb_twin_paths\n",
       "\n",
       ">      get_nb_twin_paths (nb_path:str, root_path:str)\n",
       "\n",
       "*For a given notebook in a code location, returns the paths to all its 'twins' (the corresponding notebooks in the other code locations).\n",
       "The original given notebook path is also returned.*"
      ],
      "text/plain": [
       "---\n",
       "\n",
       "### get_nb_twin_paths\n",
       "\n",
       ">      get_nb_twin_paths (nb_path:str, root_path:str)\n",
       "\n",
       "*For a given notebook in a code location, returns the paths to all its 'twins' (the corresponding notebooks in the other code locations).\n",
       "The original given notebook path is also returned.*"
      ]
     },
     "execution_count": null,
     "metadata": {},
     "output_type": "execute_result"
    }
   ],
   "source": [
    "show_doc(nblite.utils.get_nb_twin_paths)"
   ]
  },
  {
   "cell_type": "code",
   "execution_count": null,
   "metadata": {},
   "outputs": [],
   "source": [
    "#|export\n",
    "def get_nb_twin_paths(nb_path: str, root_path: str):\n",
    "    \"\"\"For a given notebook in a code location, returns the paths to all its 'twins' (the corresponding notebooks in the other code locations).\n",
    "    The original given notebook path is also returned.\"\"\"\n",
    "    root_path, config = get_project_root_and_config(root_path)\n",
    "    nb_path = Path(nb_path).resolve()\n",
    "    cl_nb_name = get_nb_path_info(nb_path, root_path, config)['cl_name']\n",
    "    \n",
    "    nb_twins = []\n",
    "    for loc in config.code_locations.values():\n",
    "        if loc.format == 'module':\n",
    "            twin_path = Path(get_nb_module_export_path(nb_path, root_path / loc.path))\n",
    "        else:\n",
    "            twin_path = root_path / loc.path / cl_nb_name.with_suffix('.' + loc.file_ext)\n",
    "        nb_twins.append(twin_path)\n",
    "        \n",
    "    nb_twins = tuple(sorted([fp.as_posix() for fp in nb_twins]))\n",
    "    return nb_twins"
   ]
  },
  {
   "cell_type": "code",
   "execution_count": null,
   "metadata": {},
   "outputs": [
    {
     "data": {
      "text/plain": [
       "('/Users/lukastk/dev-proj/nblite/test_proj/lgts/folder/notebook4.lgt.py',\n",
       " '/Users/lukastk/dev-proj/nblite/test_proj/my_module/notebook4.py',\n",
       " '/Users/lukastk/dev-proj/nblite/test_proj/nbs/folder/notebook4.ipynb',\n",
       " '/Users/lukastk/dev-proj/nblite/test_proj/pcts/folder/notebook4.pct.py')"
      ]
     },
     "execution_count": null,
     "metadata": {},
     "output_type": "execute_result"
    }
   ],
   "source": [
    "get_nb_twin_paths('../../test_proj/nbs/folder/notebook4.ipynb', '../../test_proj')"
   ]
  },
  {
   "cell_type": "code",
   "execution_count": null,
   "metadata": {},
   "outputs": [
    {
     "data": {
      "text/markdown": [
       "---\n",
       "\n",
       "### get_code_locations_nbs\n",
       "\n",
       ">      get_code_locations_nbs (root_path:str, cl:nblite.config.CodeLocation,\n",
       ">                              ignore_underscores:bool=True)\n",
       "\n",
       "*Returns all notebooks in a code location. If ignore_underscores is True,\n",
       "notebooks with underscores in their names, or notebooks in folders that start with underscores, are ignored.*"
      ],
      "text/plain": [
       "---\n",
       "\n",
       "### get_code_locations_nbs\n",
       "\n",
       ">      get_code_locations_nbs (root_path:str, cl:nblite.config.CodeLocation,\n",
       ">                              ignore_underscores:bool=True)\n",
       "\n",
       "*Returns all notebooks in a code location. If ignore_underscores is True,\n",
       "notebooks with underscores in their names, or notebooks in folders that start with underscores, are ignored.*"
      ]
     },
     "execution_count": null,
     "metadata": {},
     "output_type": "execute_result"
    }
   ],
   "source": [
    "show_doc(nblite.utils.get_code_location_nbs)"
   ]
  },
  {
   "cell_type": "code",
   "execution_count": null,
   "metadata": {},
   "outputs": [],
   "source": [
    "#|export\n",
    "def get_code_location_nbs(root_path: str, cl: CodeLocation, ignore_underscores: bool = True):\n",
    "    \"\"\"Returns all notebooks in a code location. If ignore_underscores is True,\n",
    "    notebooks with underscores in their names, or notebooks in folders that start with underscores, are ignored.\"\"\"\n",
    "    \n",
    "    cl_path = Path(root_path) / cl.path\n",
    "    if not cl_path.exists(): raise ValueError(f\"Code location path '{cl_path}' does not exist.\")\n",
    "    \n",
    "    nbs = []\n",
    "    for fp in cl_path.glob('**/*'):\n",
    "        rel_fp = fp.relative_to(cl_path)\n",
    "        if fp.is_file() and fp.name.endswith(cl.file_ext):\n",
    "            if ignore_underscores and any(p.startswith('_') for p in rel_fp.parts): continue\n",
    "            nbs.append(fp)\n",
    "    return nbs"
   ]
  },
  {
   "cell_type": "code",
   "execution_count": null,
   "metadata": {},
   "outputs": [
    {
     "data": {
      "text/plain": [
       "[Path('../../test_proj/nbs/notebook2.ipynb'),\n",
       " Path('../../test_proj/nbs/notebook1.ipynb'),\n",
       " Path('../../test_proj/nbs/submodule/notebook3.ipynb'),\n",
       " Path('../../test_proj/nbs/folder/notebook4.ipynb')]"
      ]
     },
     "execution_count": null,
     "metadata": {},
     "output_type": "execute_result"
    }
   ],
   "source": [
    "get_code_location_nbs('../../test_proj', CodeLocation(path='nbs', format='ipynb'))"
   ]
  },
  {
   "cell_type": "code",
   "execution_count": null,
   "metadata": {},
   "outputs": [
    {
     "data": {
      "text/plain": [
       "[Path('../../test_proj/nbs/notebook2.ipynb'),\n",
       " Path('../../test_proj/nbs/notebook1.ipynb'),\n",
       " Path('../../test_proj/nbs/_notebook6.ipynb'),\n",
       " Path('../../test_proj/nbs/submodule/notebook3.ipynb'),\n",
       " Path('../../test_proj/nbs/folder/notebook4.ipynb'),\n",
       " Path('../../test_proj/nbs/_scratch/notebook5.ipynb')]"
      ]
     },
     "execution_count": null,
     "metadata": {},
     "output_type": "execute_result"
    }
   ],
   "source": [
    "get_code_location_nbs('../../test_proj', CodeLocation(path='nbs', format='ipynb'), ignore_underscores=False)"
   ]
  },
  {
   "cell_type": "code",
   "execution_count": null,
   "metadata": {},
   "outputs": [
    {
     "data": {
      "text/markdown": [
       "---\n",
       "\n",
       "### does_nb_have_metadata\n",
       "\n",
       ">      does_nb_have_metadata (nb_path:str)"
      ],
      "text/plain": [
       "---\n",
       "\n",
       "### does_nb_have_metadata\n",
       "\n",
       ">      does_nb_have_metadata (nb_path:str)"
      ]
     },
     "metadata": {},
     "output_type": "display_data"
    }
   ],
   "source": [
    "show_doc(nblite.utils.does_nb_have_metadata)"
   ]
  },
  {
   "cell_type": "code",
   "execution_count": null,
   "metadata": {},
   "outputs": [],
   "source": [
    "#|export\n",
    "def does_nb_have_metadata(nb_path:str):\n",
    "    import nbformat\n",
    "    from nbconvert.preprocessors import ExecutePreprocessor\n",
    "\n",
    "    nb_path = Path(nb_path)\n",
    "    if not nb_path.as_posix().endswith('.ipynb'):\n",
    "        raise ValueError(f\"Error: '{nb_path}' is not a Jupyter notebook file.\")\n",
    "\n",
    "    with open(nb_path) as f:\n",
    "        nb = nbformat.read(f, as_version=4)\n",
    "\n",
    "    for cell in nb.cells:\n",
    "        if cell['cell_type'] != 'code': continue\n",
    "        if cell['execution_count'] is not None: return True\n",
    "        if cell.metadata: return True\n",
    "\n",
    "    return False"
   ]
  },
  {
   "cell_type": "code",
   "execution_count": null,
   "metadata": {},
   "outputs": [
    {
     "data": {
      "text/plain": [
       "False"
      ]
     },
     "metadata": {},
     "output_type": "display_data"
    }
   ],
   "source": [
    "does_nb_have_metadata('../../test_proj/nbs/notebook1.ipynb')"
   ]
  },
  {
   "cell_type": "code",
   "execution_count": null,
   "metadata": {},
   "outputs": [
    {
     "data": {
      "text/markdown": [
       "---\n",
       "\n",
       "### check_nbs_cleaned\n",
       "\n",
       ">      check_nbs_cleaned (root_path:str=None, ignore_underscores:bool=False)\n",
       "\n",
       "*Check if all notebooks in the project are clean.\n",
       "\n",
       "Returns:\n",
       "    bool: True if all notebooks are clean, False otherwise.*"
      ],
      "text/plain": [
       "---\n",
       "\n",
       "### check_nbs_cleaned\n",
       "\n",
       ">      check_nbs_cleaned (root_path:str=None, ignore_underscores:bool=False)\n",
       "\n",
       "*Check if all notebooks in the project are clean.\n",
       "\n",
       "Returns:\n",
       "    bool: True if all notebooks are clean, False otherwise.*"
      ]
     },
     "metadata": {},
     "output_type": "display_data"
    }
   ],
   "source": [
    "show_doc(nblite.utils.get_unclean_nbs)"
   ]
  },
  {
   "cell_type": "code",
   "execution_count": null,
   "metadata": {},
   "outputs": [],
   "source": [
    "#|export\n",
    "def get_unclean_nbs(root_path: str = None, ignore_underscores: bool = False):\n",
    "    \"\"\"\n",
    "    Get all notebooks that have metadata or execution count.\n",
    "    \n",
    "    Returns:\n",
    "        bool: True if all notebooks are clean, False otherwise.\n",
    "    \"\"\"\n",
    "    root_path, config = get_project_root_and_config(root_path)\n",
    "    \n",
    "    unclean_nbs = []\n",
    "    for cl in config.code_locations.values():\n",
    "        if not cl.format == 'ipynb': continue\n",
    "        cl_nbs = get_code_location_nbs(root_path, cl, ignore_underscores=ignore_underscores)\n",
    "        unclean_nbs.extend([nb_path.relative_to(root_path) for nb_path in cl_nbs if does_nb_have_metadata(nb_path)])\n",
    "    return unclean_nbs"
   ]
  },
  {
   "cell_type": "code",
   "execution_count": null,
   "metadata": {},
   "outputs": [
    {
     "data": {
      "text/plain": [
       "[Path('nbs/notebook1.ipynb')]"
      ]
     },
     "metadata": {},
     "output_type": "display_data"
    }
   ],
   "source": [
    "get_unclean_nbs('../../test_proj')"
   ]
  }
 ],
 "metadata": {
  "kernelspec": {
   "display_name": "python3",
   "language": "python",
   "name": "python3"
  }
 },
 "nbformat": 4,
 "nbformat_minor": 2
}
