{
 "cells": [
  {
   "cell_type": "markdown",
   "metadata": {},
   "source": [
    "# git"
   ]
  },
  {
   "cell_type": "code",
   "execution_count": null,
   "metadata": {},
   "outputs": [],
   "source": [
    "#|default_exp git"
   ]
  },
  {
   "cell_type": "code",
   "execution_count": null,
   "metadata": {},
   "outputs": [],
   "source": [
    "#|hide\n",
    "import nbdev; nbdev.nbdev_export()"
   ]
  },
  {
   "cell_type": "code",
   "execution_count": null,
   "metadata": {},
   "outputs": [],
   "source": [
    "#|hide\n",
    "from nbdev.showdoc import show_doc"
   ]
  },
  {
   "cell_type": "code",
   "execution_count": null,
   "metadata": {},
   "outputs": [],
   "source": [
    "#|export\n",
    "import subprocess\n",
    "from pathlib import Path\n",
    "\n",
    "from nblite.const import nblite_config_file_name\n",
    "from nblite.config import get_project_root_and_config, read_config\n",
    "from nblite.utils import get_code_location_nbs, is_code_loc_nb, get_nb_twin_paths"
   ]
  },
  {
   "cell_type": "code",
   "execution_count": null,
   "metadata": {},
   "outputs": [],
   "source": [
    "import nblite.git"
   ]
  },
  {
   "cell_type": "code",
   "execution_count": null,
   "metadata": {},
   "outputs": [
    {
     "data": {
      "text/markdown": [
       "---\n",
       "\n",
       "### has_unstaged_changes\n",
       "\n",
       ">      has_unstaged_changes (file_path)\n",
       "\n",
       "*Check if the given file has unstaged changes.\n",
       "\n",
       "Args:\n",
       "    file_path (str): The path to the file to check.\n",
       "\n",
       "Returns:\n",
       "    bool: True if there are unstaged changes, False otherwise.*"
      ],
      "text/plain": [
       "---\n",
       "\n",
       "### has_unstaged_changes\n",
       "\n",
       ">      has_unstaged_changes (file_path)\n",
       "\n",
       "*Check if the given file has unstaged changes.\n",
       "\n",
       "Args:\n",
       "    file_path (str): The path to the file to check.\n",
       "\n",
       "Returns:\n",
       "    bool: True if there are unstaged changes, False otherwise.*"
      ]
     },
     "execution_count": null,
     "metadata": {},
     "output_type": "execute_result"
    }
   ],
   "source": [
    "show_doc(nblite.git.has_unstaged_changes)"
   ]
  },
  {
   "cell_type": "code",
   "execution_count": null,
   "metadata": {},
   "outputs": [],
   "source": [
    "#|export\n",
    "def has_unstaged_changes(file_path):\n",
    "    \"\"\"Check if the given file has unstaged changes.\n",
    "    \n",
    "    Args:\n",
    "        file_path (str): The path to the file to check.\n",
    "    \n",
    "    Returns:\n",
    "        bool: True if there are unstaged changes, False otherwise.\n",
    "    \"\"\"\n",
    "    result = subprocess.run(['git', 'status', '--porcelain', file_path], capture_output=True, text=True)\n",
    "    result = [l for l in result.stdout.split('\\n') if l.strip()]\n",
    "    assert len(result) <= 1, \"Something went wrong.\"\n",
    "    if len(result) == 0: return False\n",
    "    return result[0][1] != ' '"
   ]
  },
  {
   "cell_type": "code",
   "execution_count": null,
   "metadata": {},
   "outputs": [
    {
     "name": "stdout",
     "output_type": "stream",
     "text": [
      "../../test_proj/nbs/notebook1.ipynb False\n",
      "../../test_proj/nbs/notebook2.ipynb False\n",
      "../../test_proj/nbs/submodule/notebook3.ipynb False\n"
     ]
    }
   ],
   "source": [
    "fps = [\n",
    "    '../../test_proj/nbs/notebook1.ipynb',\n",
    "    '../../test_proj/nbs/notebook2.ipynb',\n",
    "    '../../test_proj/nbs/submodule/notebook3.ipynb',\n",
    "]\n",
    "for fp in fps:\n",
    "    print(fp, has_unstaged_changes(fp))"
   ]
  },
  {
   "cell_type": "code",
   "execution_count": null,
   "metadata": {},
   "outputs": [
    {
     "data": {
      "text/markdown": [
       "---\n",
       "\n",
       "### get_git_root\n",
       "\n",
       ">      get_git_root ()\n",
       "\n",
       "*Get the root directory of the current git repository.\n",
       "\n",
       "Returns:\n",
       "    str: The path to the git root directory.*"
      ],
      "text/plain": [
       "---\n",
       "\n",
       "### get_git_root\n",
       "\n",
       ">      get_git_root ()\n",
       "\n",
       "*Get the root directory of the current git repository.\n",
       "\n",
       "Returns:\n",
       "    str: The path to the git root directory.*"
      ]
     },
     "execution_count": null,
     "metadata": {},
     "output_type": "execute_result"
    }
   ],
   "source": [
    "show_doc(nblite.git.get_git_root)"
   ]
  },
  {
   "cell_type": "code",
   "execution_count": null,
   "metadata": {},
   "outputs": [],
   "source": [
    "#|export\n",
    "def get_git_root():\n",
    "    \"\"\"\n",
    "    Get the root directory of the current git repository.\n",
    "    \n",
    "    Returns:\n",
    "        str: The path to the git root directory.\n",
    "    \"\"\"\n",
    "    result = subprocess.run(['git', 'rev-parse', '--show-toplevel'], capture_output=True, text=True)\n",
    "    return result.stdout.strip()"
   ]
  },
  {
   "cell_type": "code",
   "execution_count": null,
   "metadata": {},
   "outputs": [
    {
     "data": {
      "text/plain": [
       "'/Users/lukastk/dev-proj/nblite'"
      ]
     },
     "execution_count": null,
     "metadata": {},
     "output_type": "execute_result"
    }
   ],
   "source": [
    "get_git_root()"
   ]
  },
  {
   "cell_type": "code",
   "execution_count": null,
   "metadata": {},
   "outputs": [
    {
     "data": {
      "text/markdown": [
       "---\n",
       "\n",
       "### list_staged_files\n",
       "\n",
       ">      list_staged_files ()\n",
       "\n",
       "*List all currently staged files.\n",
       "\n",
       "Returns:\n",
       "    list: A list of staged file paths.*"
      ],
      "text/plain": [
       "---\n",
       "\n",
       "### list_staged_files\n",
       "\n",
       ">      list_staged_files ()\n",
       "\n",
       "*List all currently staged files.\n",
       "\n",
       "Returns:\n",
       "    list: A list of staged file paths.*"
      ]
     },
     "execution_count": null,
     "metadata": {},
     "output_type": "execute_result"
    }
   ],
   "source": [
    "show_doc(nblite.git.list_staged_files)"
   ]
  },
  {
   "cell_type": "code",
   "execution_count": null,
   "metadata": {},
   "outputs": [],
   "source": [
    "#|export\n",
    "def list_staged_files():\n",
    "    \"\"\"\n",
    "    List all currently staged files.\n",
    "    \n",
    "    Returns:\n",
    "        list: A list of staged file paths.\n",
    "    \"\"\"\n",
    "    result = subprocess.run(['git', 'diff', '--name-only', '--cached'], capture_output=True, text=True)\n",
    "    return result.stdout.strip().split('\\n')"
   ]
  },
  {
   "cell_type": "code",
   "execution_count": null,
   "metadata": {},
   "outputs": [
    {
     "data": {
      "text/markdown": [
       "---\n",
       "\n",
       "### list_unstaged_and_untracked_files\n",
       "\n",
       ">      list_unstaged_and_untracked_files ()\n",
       "\n",
       "*List all currently unstaged and untracked files.\n",
       "\n",
       "Returns:\n",
       "    list: A list of unstaged and untracked file paths.*"
      ],
      "text/plain": [
       "---\n",
       "\n",
       "### list_unstaged_and_untracked_files\n",
       "\n",
       ">      list_unstaged_and_untracked_files ()\n",
       "\n",
       "*List all currently unstaged and untracked files.\n",
       "\n",
       "Returns:\n",
       "    list: A list of unstaged and untracked file paths.*"
      ]
     },
     "execution_count": null,
     "metadata": {},
     "output_type": "execute_result"
    }
   ],
   "source": [
    "show_doc(nblite.git.list_unstaged_and_untracked_files)"
   ]
  },
  {
   "cell_type": "code",
   "execution_count": null,
   "metadata": {},
   "outputs": [],
   "source": [
    "#|export\n",
    "def list_unstaged_and_untracked_files():\n",
    "    \"\"\"\n",
    "    List all currently unstaged and untracked files.\n",
    "\n",
    "    Returns:\n",
    "        list: A list of unstaged and untracked file paths.\n",
    "    \"\"\"\n",
    "    result = subprocess.run(['git', 'status', '--porcelain'], capture_output=True, text=True)\n",
    "    files = []\n",
    "    for line in result.stdout.strip().split('\\n'):\n",
    "        if line and (line[0] == ' ' or line[0] == '?'):\n",
    "            files.append(line[3:])\n",
    "    return files"
   ]
  },
  {
   "cell_type": "code",
   "execution_count": null,
   "metadata": {},
   "outputs": [
    {
     "data": {
      "text/plain": [
       "['nbs/api/git.ipynb',\n",
       " 'nblite.toml',\n",
       " 'nblite/defaults/pre-commit.sh',\n",
       " 'todo.md']"
      ]
     },
     "execution_count": null,
     "metadata": {},
     "output_type": "execute_result"
    }
   ],
   "source": [
    "list_unstaged_and_untracked_files()"
   ]
  },
  {
   "cell_type": "code",
   "execution_count": null,
   "metadata": {},
   "outputs": [
    {
     "data": {
      "text/markdown": [
       "---\n",
       "\n",
       "### is_file_staged\n",
       "\n",
       ">      is_file_staged (file_path)\n",
       "\n",
       "*Check if the given file is staged.\n",
       "\n",
       "Args:\n",
       "    file_path (str): The path to the file to check.\n",
       "\n",
       "Returns:\n",
       "    bool: True if the file is staged, False otherwise.*"
      ],
      "text/plain": [
       "---\n",
       "\n",
       "### is_file_staged\n",
       "\n",
       ">      is_file_staged (file_path)\n",
       "\n",
       "*Check if the given file is staged.\n",
       "\n",
       "Args:\n",
       "    file_path (str): The path to the file to check.\n",
       "\n",
       "Returns:\n",
       "    bool: True if the file is staged, False otherwise.*"
      ]
     },
     "execution_count": null,
     "metadata": {},
     "output_type": "execute_result"
    }
   ],
   "source": [
    "show_doc(nblite.git.is_file_staged)"
   ]
  },
  {
   "cell_type": "code",
   "execution_count": null,
   "metadata": {},
   "outputs": [],
   "source": [
    "#|export\n",
    "def is_file_staged(file_path):\n",
    "    \"\"\"\n",
    "    Check if the given file is staged.\n",
    "\n",
    "    Args:\n",
    "        file_path (str): The path to the file to check.\n",
    "\n",
    "    Returns:\n",
    "        bool: True if the file is staged, False otherwise.\n",
    "    \"\"\"\n",
    "    result = subprocess.run(['git', 'status', '--porcelain', file_path], capture_output=True, text=True)\n",
    "    result = [l for l in result.stdout.split('\\n') if l.strip()]\n",
    "    assert len(result) <= 1, \"Something went wrong.\"\n",
    "    if len(result) == 0: return False\n",
    "    return result[0][0] == 'A' or result[0][0] == 'M'"
   ]
  },
  {
   "cell_type": "code",
   "execution_count": null,
   "metadata": {},
   "outputs": [
    {
     "name": "stdout",
     "output_type": "stream",
     "text": [
      "../../test_proj/nbs/notebook1.ipynb False\n",
      "../../test_proj/nbs/notebook2.ipynb False\n",
      "../../test_proj/nbs/submodule/notebook3.ipynb False\n",
      "../../test_proj/nbs/asdadads False\n"
     ]
    }
   ],
   "source": [
    "fps = [\n",
    "    '../../test_proj/nbs/notebook1.ipynb',\n",
    "    '../../test_proj/nbs/notebook2.ipynb',\n",
    "    '../../test_proj/nbs/submodule/notebook3.ipynb',\n",
    "    '../../test_proj/nbs/asdadads',\n",
    "]\n",
    "for fp in fps:\n",
    "    print(fp, is_file_staged(fp))"
   ]
  },
  {
   "cell_type": "code",
   "execution_count": null,
   "metadata": {},
   "outputs": [
    {
     "data": {
      "text/markdown": [
       "---\n",
       "\n",
       "### get_unstaged_nb_twins\n",
       "\n",
       ">      get_unstaged_nb_twins (root_path:str=None)\n",
       "\n",
       "*Get all notebook twins for which at least one is unstaged.\n",
       "\n",
       "Returns:\n",
       "    list: A list of dictionaries, each containing 'staged' and 'unstaged' lists of twin paths.*"
      ],
      "text/plain": [
       "---\n",
       "\n",
       "### get_unstaged_nb_twins\n",
       "\n",
       ">      get_unstaged_nb_twins (root_path:str=None)\n",
       "\n",
       "*Get all notebook twins for which at least one is unstaged.\n",
       "\n",
       "Returns:\n",
       "    list: A list of dictionaries, each containing 'staged' and 'unstaged' lists of twin paths.*"
      ]
     },
     "execution_count": null,
     "metadata": {},
     "output_type": "execute_result"
    }
   ],
   "source": [
    "show_doc(nblite.git.get_unstaged_nb_twins)"
   ]
  },
  {
   "cell_type": "code",
   "execution_count": null,
   "metadata": {},
   "outputs": [],
   "source": [
    "#|export\n",
    "def get_unstaged_nb_twins(root_path: str = None):\n",
    "    \"\"\"\n",
    "    Get all notebook twins for which at least one is unstaged.\n",
    "    \n",
    "    Returns:\n",
    "        list: A list of dictionaries, each containing 'staged' and 'unstaged' lists of twin paths.\n",
    "    \"\"\"\n",
    "    if root_path is None:\n",
    "        root_path, config = get_project_root_and_config()\n",
    "    else:\n",
    "        root_path = Path(root_path)\n",
    "        config = read_config(root_path / nblite_config_file_name)\n",
    "    git_root_path = Path(get_git_root())\n",
    "\n",
    "    # Find all twins for which at least one is staged\n",
    "    staged_twin_nbs = set()\n",
    "    for cl in config.code_locations.values():\n",
    "        cl_nbs = get_code_location_nbs(root_path, cl, ignore_underscores=True)\n",
    "        for nb_path in cl_nbs:\n",
    "            if is_file_staged(nb_path):\n",
    "                staged_twin_nbs.add(get_nb_twin_paths(nb_path, root_path))\n",
    "\n",
    "    # Check that each notebook in each twin group does not have unstaged changes\n",
    "    unstaged_twins = []\n",
    "    for twins in staged_twin_nbs:\n",
    "        if any(has_unstaged_changes(nb_path) for nb_path in twins):\n",
    "            unstaged_twins.append({\n",
    "                'staged': [Path(nb_path).relative_to(git_root_path) for nb_path in twins if is_file_staged(nb_path)],\n",
    "                'unstaged': [Path(nb_path).relative_to(git_root_path) for nb_path in twins if has_unstaged_changes(nb_path)],\n",
    "            })\n",
    "            \n",
    "    return unstaged_twins"
   ]
  },
  {
   "cell_type": "code",
   "execution_count": null,
   "metadata": {},
   "outputs": [
    {
     "data": {
      "text/plain": [
       "[]"
      ]
     },
     "execution_count": null,
     "metadata": {},
     "output_type": "execute_result"
    }
   ],
   "source": [
    "get_unstaged_nb_twins('../../test_proj')"
   ]
  }
 ],
 "metadata": {
  "kernelspec": {
   "display_name": "python3",
   "language": "python",
   "name": "python3"
  }
 },
 "nbformat": 4,
 "nbformat_minor": 2
}
