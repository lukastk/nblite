{
    "cells": [
        {
            "cell_type": "markdown",
            "metadata": {},
            "source": [
                "# Notebook 5\n",
                "\n",
                "Because the folder this notebook is in starts with a `_`, it will not be exported to a `my_module` (but will be exported to `pcs` and `lgts`)."
            ]
        },
        {
            "cell_type": "code",
            "execution_count": null,
            "metadata": {},
            "outputs": [],
            "source": [
                "#| default_exp notebook5"
            ]
        },
        {
            "cell_type": "code",
            "execution_count": null,
            "metadata": {},
            "outputs": [],
            "source": [
                "#| hide\n",
                "from nbdev.showdoc import *"
            ]
        },
        {
            "cell_type": "code",
            "execution_count": null,
            "metadata": {},
            "outputs": [],
            "source": [
                "#| export\n",
                "from my_module.notebook1 import foo\n",
                "from my_module.notebook2 import bar"
            ]
        },
        {
            "cell_type": "code",
            "execution_count": null,
            "metadata": {},
            "outputs": [],
            "source": [
                "#| export\n",
                "def foobar():\n",
                "    foo()\n",
                "    bar()"
            ]
        }
    ],
    "metadata": {},
    "nbformat": 4,
    "nbformat_minor": 2
}