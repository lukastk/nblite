{
    "cells": [
        {
            "cell_type": "markdown",
            "metadata": {},
            "source": [
                "# func_notebook"
            ]
        },
        {
            "cell_type": "code",
            "execution_count": null,
            "metadata": {},
            "outputs": [],
            "source": [
                "#|default_exp test_func_nb\n",
                "#|export_as_func true"
            ]
        },
        {
            "cell_type": "code",
            "execution_count": null,
            "metadata": {},
            "outputs": [],
            "source": [
                "#|hide\n",
                "import nblite; from nblite import show_doc; nblite.nbl_export()"
            ]
        },
        {
            "cell_type": "code",
            "execution_count": null,
            "metadata": {},
            "outputs": [],
            "source": [
                "#|top_export\n",
                "def a_decorator(func):\n",
                "    def wrapper(*args, **kwargs):\n",
                "        print(\"Function is being called\")\n",
                "        result = func(*args, **kwargs)\n",
                "        print(\"Function has been called\")\n",
                "        return result\n",
                "    return wrapper"
            ]
        },
        {
            "cell_type": "code",
            "execution_count": null,
            "metadata": {},
            "outputs": [],
            "source": [
                "#|set_func_signature\n",
                "@a_decorator\n",
                "def nb_func(): ..."
            ]
        },
        {
            "cell_type": "code",
            "execution_count": null,
            "metadata": {},
            "outputs": [
                {
                    "name": "stdout",
                    "output_type": "stream",
                    "text": [
                        "This will be in the body of the function.\n"
                    ]
                }
            ],
            "source": [
                "#|export\n",
                "print(\"This will be in the body of the function.\")\n",
                "my_val = \"Hello, world!\""
            ]
        },
        {
            "cell_type": "code",
            "execution_count": null,
            "metadata": {},
            "outputs": [
                {
                    "data": {
                        "text/plain": [
                            "'Hello, world!'"
                        ]
                    },
                    "execution_count": null,
                    "metadata": {},
                    "output_type": "execute_result"
                }
            ],
            "source": [
                "#|func_return\n",
                "my_val"
            ]
        }
    ],
    "metadata": {
        "kernelspec": {
            "display_name": ".venv",
            "language": "python",
            "name": "python3"
        },
        "language_info": {
            "codemirror_mode": {
                "name": "ipython",
                "version": 3
            },
            "file_extension": ".py",
            "mimetype": "text/x-python",
            "name": "python",
            "nbconvert_exporter": "python",
            "pygments_lexer": "ipython3",
            "version": "3.9.6"
        },
        "nblite_source_hash": "6f999a81d33eff0543bcb4529adba2987dea6b66730785ad17eb5d1627a799d8"
    },
    "nbformat": 4,
    "nbformat_minor": 2
}