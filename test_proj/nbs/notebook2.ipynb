{
    "cells": [
        {
            "cell_type": "markdown",
            "metadata": {},
            "source": [
                "# Notebook 2"
            ]
        },
        {
            "cell_type": "code",
            "execution_count": null,
            "metadata": {},
            "outputs": [],
            "source": [
                "#|default_exp notebook2"
            ]
        },
        {
            "cell_type": "code",
            "execution_count": null,
            "metadata": {},
            "outputs": [],
            "source": [
                "#|hide\n",
                "from nbdev.showdoc import *"
            ]
        },
        {
            "cell_type": "code",
            "execution_count": null,
            "metadata": {},
            "outputs": [
                {
                    "name": "stdout",
                    "output_type": "stream",
                    "text": [
                        "/Users/lukastk/dev-proj/nblite/test_proj/nbs/notebook2.ipynb\n",
                        "/Users/lukastk/dev-proj/nblite/test_proj/nbs/notebook1.ipynb\n",
                        "/Users/lukastk/dev-proj/nblite/test_proj/nbs/func_notebook.ipynb\n",
                        "/Users/lukastk/dev-proj/nblite/test_proj/nbs/_notebook6.ipynb\n",
                        "/Users/lukastk/dev-proj/nblite/test_proj/nbs/index.ipynb\n",
                        "/Users/lukastk/dev-proj/nblite/test_proj/nbs/submodule/notebook3.ipynb\n",
                        "/Users/lukastk/dev-proj/nblite/test_proj/nbs/folder/notebook4.ipynb\n",
                        "/Users/lukastk/dev-proj/nblite/test_proj/nbs/folder/subfolder/notebook7.ipynb\n",
                        "/Users/lukastk/dev-proj/nblite/test_proj/nbs/_scratch/notebook5.ipynb\n"
                    ]
                }
            ],
            "source": [
                "#|export\n",
                "from my_module.notebook1 import foo"
            ]
        },
        {
            "cell_type": "code",
            "execution_count": null,
            "metadata": {},
            "outputs": [],
            "source": [
                "#| export\n",
                "def bar():\n",
                "    foo()\n",
                "    print(\"world\")"
            ]
        }
    ],
    "metadata": {},
    "nbformat": 4,
    "nbformat_minor": 4
}