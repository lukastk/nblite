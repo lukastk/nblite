{
    "cells": [
        {
            "cell_type": "markdown",
            "metadata": {},
            "source": [
                "# const"
            ]
        },
        {
            "cell_type": "code",
            "execution_count": null,
            "metadata": {},
            "outputs": [],
            "source": [
                "#|default_exp const"
            ]
        },
        {
            "cell_type": "code",
            "execution_count": null,
            "metadata": {},
            "outputs": [],
            "source": [
                "#|hide\n",
                "import nblite; from nbdev.showdoc import show_doc; nblite.nbl_export()"
            ]
        },
        {
            "cell_type": "code",
            "execution_count": null,
            "metadata": {},
            "outputs": [],
            "source": [
                "#|export\n",
                "nblite_config_file_name = \"nblite.toml\"\n",
                "\n",
                "format_to_file_exts = {\n",
                "    'module' : 'py',\n",
                "    'ipynb' : 'ipynb',\n",
                "    'percent' : 'pct.py',\n",
                "    'light' : 'lgt.py',\n",
                "    'sphinx' : 'spx.py',\n",
                "    'myst' : 'myst.md',\n",
                "    'pandoc' : 'pandoc.md',\n",
                "}\n",
                "\n",
                "file_exts_to_format = {v: k for k, v in format_to_file_exts.items()}\n",
                "\n",
                "nb_formats = list(format_to_file_exts.keys()) + ['module']\n",
                "\n",
                "format_to_jupytext_format = {\n",
                "    'module' : 'py',\n",
                "    'ipynb' : 'ipynb',\n",
                "    'percent' : 'py:percent',\n",
                "    'light' : 'py:light',\n",
                "    'sphinx' : 'py:sphinx',\n",
                "    'myst' : 'md:myst',\n",
                "    'mpandoc' : 'md:pandoc',\n",
                "}\n",
                "\n",
                "code_loc_key_to_default_formats = {\n",
                "    'nbs': 'ipynb',\n",
                "    'pts': 'percent',\n",
                "    'test_nbs': 'ipynb',\n",
                "    'test_pts': 'percent',\n",
                "    'lib': 'module',\n",
                "    'test_lib': 'module',\n",
                "}"
            ]
        }
    ],
    "metadata": {},
    "nbformat": 4,
    "nbformat_minor": 2
}