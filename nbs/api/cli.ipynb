{
    "cells": [
        {
            "cell_type": "markdown",
            "metadata": {},
            "source": [
                "# cli"
            ]
        },
        {
            "cell_type": "code",
            "execution_count": null,
            "metadata": {},
            "outputs": [],
            "source": [
                "#|default_exp cli"
            ]
        },
        {
            "cell_type": "code",
            "execution_count": null,
            "metadata": {},
            "outputs": [],
            "source": [
                "#|hide\n",
                "import nblite; from nblite import show_doc; nblite.nbl_export()"
            ]
        },
        {
            "cell_type": "code",
            "execution_count": null,
            "metadata": {},
            "outputs": [],
            "source": [
                "#|export\n",
                "import typer\n",
                "from typer import Argument, Option\n",
                "from typing_extensions import Annotated\n",
                "from types import FunctionType\n",
                "from typing import Callable, Union, List, Optional\n",
                "import inspect\n",
                "import re\n",
                "from pathlib import Path\n",
                "import tempfile\n",
                "import importlib.resources as resources\n",
                "import sys\n",
                "import subprocess\n",
                "import importlib.metadata\n",
                "from jinja2 import Template\n",
                "import os\n",
                "\n",
                "from nblite.const import nblite_config_file_name, nblite_assets_path, DISABLE_NBLITE_EXPORT_ENV_VAR\n",
                "from nblite.config import get_project_root_and_config, read_config, get_downstream_module, get_top_level_code_locations\n",
                "from nblite.export import convert_nb, generate_readme, get_nb_twin_paths, clear_code_location, clear_downstream_code_locations, get_nb_source_and_output_hash, generate_md_file\n",
                "from nblite.utils import get_code_location_nbs, is_nb_unclean, get_relative_path, is_code_loc_nb, get_code_location_nbs\n",
                "from nblite.git import get_unstaged_nb_twins, get_git_root, is_file_staged, has_unstaged_changes\n",
                "from nblite.docs import render_docs, preview_docs"
            ]
        },
        {
            "cell_type": "code",
            "execution_count": null,
            "metadata": {},
            "outputs": [],
            "source": [
                "import nblite.cli as this_module"
            ]
        },
        {
            "cell_type": "markdown",
            "metadata": {},
            "source": [
                "# Helper functions"
            ]
        },
        {
            "cell_type": "code",
            "execution_count": null,
            "metadata": {},
            "outputs": [
                {
                    "data": {
                        "text/markdown": [
                            "## parse_docstring\n",
                            "\n",
                            "```python\n",
                            "parse_docstring(docstring: str) -> tuple\n",
                            "```\n",
                            "\n",
                            "Parses a docstring to extract argument descriptions and return value description.\n",
                            "\n",
                            "**Arguments:**\n",
                            "- `docstring`: The docstring to parse.\n",
                            "\n",
                            "**Returns:**: A tuple containing three elements: \n",
                            "1. The function summary as a string.\n",
                            "2. A dictionary of argument descriptions.\n",
                            "3. The return value description as a string.\n",
                            "\n",
                            "---\n"
                        ],
                        "text/plain": [
                            "<IPython.core.display.Markdown object>"
                        ]
                    },
                    "execution_count": null,
                    "metadata": {},
                    "output_type": "execute_result"
                }
            ],
            "source": [
                "#|hide\n",
                "show_doc(this_module.parse_docstring)"
            ]
        },
        {
            "cell_type": "code",
            "execution_count": null,
            "metadata": {},
            "outputs": [],
            "source": [
                "#|exporti\n",
                "def parse_docstring(docstring: str) -> tuple:\n",
                "    \"\"\"Parses a docstring to extract argument descriptions and return value description.\n",
                "\n",
                "    Args:\n",
                "        docstring: The docstring to parse.\n",
                "\n",
                "    Returns:\n",
                "        A tuple containing three elements: \n",
                "        1. The function summary as a string.\n",
                "        2. A dictionary of argument descriptions.\n",
                "        3. The return value description as a string.\n",
                "    \"\"\"\n",
                "    _docstring = docstring.split('Args:', 1)\n",
                "    func_summary, _docstring = _docstring if len(_docstring) == 2 else (docstring, '')\n",
                "    arg_docstring, return_docstring = _docstring.split('Returns:', 1) if 'Returns:' in _docstring else (_docstring, '')\n",
                "    \n",
                "    # Use regex to find argument descriptions\n",
                "    pattern = r'(\\w+): (.+)'\n",
                "    matches = re.findall(pattern, arg_docstring)\n",
                "    args = {arg: desc.strip() for arg, desc in matches}\n",
                "    \n",
                "    return func_summary.strip(), args, return_docstring.strip()"
            ]
        },
        {
            "cell_type": "code",
            "execution_count": null,
            "metadata": {},
            "outputs": [
                {
                    "name": "stdout",
                    "output_type": "stream",
                    "text": [
                        "Parses a docstring to extract argument descriptions and return value description.\n",
                        "{'docstring': 'The docstring to parse.'}\n",
                        "A tuple containing three elements: \n",
                        "        1. The function summary as a string.\n",
                        "        2. A dictionary of argument descriptions.\n",
                        "        3. The return value description as a string.\n"
                    ]
                }
            ],
            "source": [
                "#|hide\n",
                "func_summary, arg_docs, return_doc = parse_docstring(parse_docstring.__doc__)\n",
                "print(func_summary)\n",
                "print(arg_docs)\n",
                "print(return_doc)"
            ]
        },
        {
            "cell_type": "code",
            "execution_count": null,
            "metadata": {},
            "outputs": [
                {
                    "data": {
                        "text/markdown": [
                            "## derive_cli_meta\n",
                            "\n",
                            "```python\n",
                            "derive_cli_meta(source_func: function) -> typing.Callable\n",
                            "```\n",
                            "\n",
                            "A decorator factory that transfers docstring and argument annotations from a source functio and turns\n",
                            "\n",
                            "them into a typer annotations for the target function.\n",
                            "\n",
                            "**Arguments:**\n",
                            "- `source_func`: The function from which to derive the docstring and argument annotations.\n",
                            "\n",
                            "---\n"
                        ],
                        "text/plain": [
                            "<IPython.core.display.Markdown object>"
                        ]
                    },
                    "execution_count": null,
                    "metadata": {},
                    "output_type": "execute_result"
                }
            ],
            "source": [
                "#|hide\n",
                "show_doc(this_module.derive_cli_meta)"
            ]
        },
        {
            "cell_type": "code",
            "execution_count": null,
            "metadata": {},
            "outputs": [],
            "source": [
                "#|export\n",
                "def derive_cli_meta(source_func: FunctionType) -> Callable:\n",
                "    \"\"\"\n",
                "    A decorator factory that transfers docstring and argument annotations from a source functio and turns\n",
                "    them into a typer annotations for the target function.\n",
                "\n",
                "    Args:\n",
                "        source_func: The function from which to derive the docstring and argument annotations.\n",
                "    \"\"\"\n",
                "    def decorator(target_func: FunctionType) -> FunctionType:\n",
                "        func_summary, arg_docs, return_doc = parse_docstring(source_func.__doc__)\n",
                "        target_func.__doc__ = func_summary\n",
                "        if return_doc.strip():\n",
                "            target_func.__doc__ += f\"\\n\\nReturns:\\n{return_doc}\"\n",
                "        target_func.__doc__ = inspect.cleandoc(\"\\n\".join([l.strip() for l in target_func.__doc__.split(\"\\n\") if l.strip()]))\n",
                "        typer_annotations = {\n",
                "            arg_key: Annotated[arg_type, Argument(help=arg_docs[arg_key] if arg_key in arg_docs else '')]\n",
                "            for arg_key, arg_type in source_func.__annotations__.items()\n",
                "        }\n",
                "        target_func.__annotations__.update(typer_annotations)\n",
                "        return target_func\n",
                "    return decorator"
            ]
        },
        {
            "cell_type": "markdown",
            "metadata": {},
            "source": [
                "# Define CLIs"
            ]
        },
        {
            "cell_type": "code",
            "execution_count": null,
            "metadata": {},
            "outputs": [],
            "source": [
                "#|export\n",
                "app = typer.Typer(invoke_without_command=True)\n",
                "\n",
                "@app.callback()\n",
                "def entrypoint(\n",
                "    ctx: typer.Context,\n",
                "    version: bool = typer.Option(False, \"--version\", help=\"Show the version and exit\")\n",
                "):\n",
                "    if version:\n",
                "        version = importlib.metadata.version('nblite')\n",
                "        typer.echo(f\"nblite version {version}\")\n",
                "        raise typer.Exit()\n",
                "    \n",
                "    # If no subcommand is provided, show the help\n",
                "    if ctx.invoked_subcommand is None:\n",
                "        typer.echo(ctx.get_help())\n",
                "            \n",
                "def main():\n",
                "    app()"
            ]
        },
        {
            "cell_type": "code",
            "execution_count": null,
            "metadata": {},
            "outputs": [],
            "source": [
                "#|export\n",
                "from nblite.export import export, clean_ipynb, fill_ipynb"
            ]
        },
        {
            "cell_type": "markdown",
            "metadata": {},
            "source": [
                "## `nbl export`"
            ]
        },
        {
            "cell_type": "code",
            "execution_count": null,
            "metadata": {},
            "outputs": [],
            "source": [
                "#|export\n",
                "@app.command(name='export')\n",
                "def cli_export(\n",
                "    root_path: Annotated[Union[str,None], Option(help=\"Path to the root folder of the nblite project.\")] = None,\n",
                "    config_path: Annotated[Union[str,None], Option(help=\"Path to the nblite.toml config file. Will be used instead of the config file in the root folder if provided.\")] = None,\n",
                "    export_pipeline: Annotated[Union[str,None], Option(help=\" The export pipeline to use. E.g. 'nbs->pts,pts->lib'.\")] = None,\n",
                "    nb_paths: Annotated[Union[List[str],None], Option(help=\"If provided, only the notebooks specified in the paths will be exported.\")] = None,\n",
                "):\n",
                "    \"\"\"\n",
                "    Export notebooks in an nblite project, as specified in the nblite.toml config file.\n",
                "    \n",
                "    If the `root_path` is not provided, nblite will search for a nblite.toml file in the current directory\n",
                "    and all parent directories, and use the directory containing the nblite.toml file as the root folder.\n",
                "    \"\"\"\n",
                "    export(root_path, config_path, export_pipeline, nb_paths)"
            ]
        },
        {
            "cell_type": "markdown",
            "metadata": {},
            "source": [
                "## `nbl to-md`"
            ]
        },
        {
            "cell_type": "code",
            "execution_count": null,
            "metadata": {},
            "outputs": [],
            "source": [
                "#|export\n",
                "@app.command(name='to-md')\n",
                "@derive_cli_meta(generate_md_file)\n",
                "def cli_to_md(nb_path, out_path, nb_format=None):\n",
                "    generate_md_file(nb_path, out_path, nb_format)"
            ]
        },
        {
            "cell_type": "markdown",
            "metadata": {},
            "source": [
                "## `nbl readme`"
            ]
        },
        {
            "cell_type": "code",
            "execution_count": null,
            "metadata": {},
            "outputs": [],
            "source": [
                "#|export\n",
                "@app.command(name='readme')\n",
                "@derive_cli_meta(generate_readme)\n",
                "def cli_readme(root_path=None):\n",
                "    generate_readme(root_path)"
            ]
        },
        {
            "cell_type": "markdown",
            "metadata": {},
            "source": [
                "## `nbl convert`"
            ]
        },
        {
            "cell_type": "code",
            "execution_count": null,
            "metadata": {},
            "outputs": [],
            "source": [
                "#|export\n",
                "@app.command(name='convert')\n",
                "@derive_cli_meta(convert_nb)\n",
                "def cli_convert(nb_path, dest_path, nb_format=None, dest_format=None):\n",
                "    convert_nb(nb_path, dest_path, nb_format, dest_format)"
            ]
        },
        {
            "cell_type": "markdown",
            "metadata": {},
            "source": [
                "## `nbl init`"
            ]
        },
        {
            "cell_type": "code",
            "execution_count": null,
            "metadata": {},
            "outputs": [],
            "source": [
                "#|export\n",
                "@app.command(name='init')\n",
                "def cli_init(\n",
                "    module_name: Annotated[Union[str,None], Option(help=\"The name of the module to create\")] = None,\n",
                "    root_path: Annotated[Union[str,None], Option(help=\"The root path of the project\")] = None,\n",
                "    use_defaults: Annotated[bool, Option(help=\"Use default values for module name and root path\")] = False,\n",
                "):\n",
                "    \"\"\"\n",
                "    Initialize a new nblite project.\n",
                "    \"\"\"\n",
                "    if module_name is None:\n",
                "        default_module_name = Path('.').resolve().name\n",
                "        if not use_defaults:\n",
                "            module_name = typer.prompt(f\"Enter the name of the module to create\", default=default_module_name)\n",
                "        else:\n",
                "            module_name = default_module_name\n",
                "            \n",
                "    module_name_slug = module_name.replace('-', '_')\n",
                "    \n",
                "    if root_path is None:\n",
                "        root_path = Path('.').resolve()\n",
                "    \n",
                "    nblite_toml_template_path = nblite_assets_path / \"default_nblite.toml.jinja\"\n",
                "    nblite_toml_template = Template(nblite_toml_template_path.read_text())\n",
                "    nblite_toml_str = nblite_toml_template.render(module_name=module_name, module_name_slug=module_name_slug)\n",
                "    \n",
                "    toml_path = root_path / 'nblite.toml'\n",
                "    if toml_path.exists():\n",
                "        typer.echo(f\"Error: {toml_path} already exists\")\n",
                "        raise typer.Abort()\n",
                "    \n",
                "    with open(toml_path, 'w') as f:\n",
                "        f.write(nblite_toml_str)\n",
                "        \n",
                "    typer.echo(f\"Created {toml_path}.\")\n",
                "    typer.echo()\n",
                "    typer.echo(\"Run `nbl new {CODE_LOCATION}/{NB_NAME}.{NB_FILE_EXT}` to create a new notebook. E.g. `nbl new nbs/main.ipynb`.\")"
            ]
        },
        {
            "cell_type": "markdown",
            "metadata": {},
            "source": [
                "## `nbl new`"
            ]
        },
        {
            "cell_type": "code",
            "execution_count": null,
            "metadata": {},
            "outputs": [],
            "source": [
                "#|export\n",
                "@app.command(name='new')\n",
                "def cli_new(\n",
                "    nb_path: Annotated[str, Argument(help=\"The notebook to create.\")],\n",
                "    mod_name: Annotated[Union[str,None], Option(\"-n\", \"--name\", help=\"The name of the exported module. Defaults to the notebook path relative to the code location root.\")] = None,\n",
                "    nb_title: Annotated[Union[str,None], Option(\"-t\", \"--title\", help=\"The display title of the notebook. Defaults to the notebook path stem.\")] = None,\n",
                "    root_path: Annotated[Union[str,None], Option(\"-r\", \"--root\", help=\"The root path of the project. If not provided, the project root will be determined by searching for a nblite.toml file.\")] = None,\n",
                "):\n",
                "    \"Create a new notebook in a code location.\"\n",
                "    nb_path = Path(nb_path).resolve()\n",
                "    if root_path is None:\n",
                "        root_path, config = get_project_root_and_config(nb_path.parent)\n",
                "    else:\n",
                "        root_path = Path(root_path)\n",
                "        config = read_config(root_path / nblite_config_file_name)\n",
                "\n",
                "    if nb_title is None:\n",
                "        nb_title = nb_path.stem\n",
                "\n",
                "    nb_format = None\n",
                "    cl_key = None\n",
                "    for _cl_key, loc in config.code_locations.items():\n",
                "        cl_path = (root_path / loc.path).resolve()\n",
                "        if nb_path.is_relative_to(cl_path):\n",
                "            cl_key = _cl_key\n",
                "            nb_format = loc.format\n",
                "            if not nb_path.name.endswith(loc.file_ext):\n",
                "                nb_path = Path(nb_path.as_posix() + '.' + loc.file_ext)\n",
                "            if mod_name is None:\n",
                "                rel_path = str(nb_path.relative_to(cl_path).parent)\n",
                "                if rel_path == '.':\n",
                "                    mod_name = nb_path.stem\n",
                "                else:\n",
                "                    mod_name = rel_path.replace('/', '.') + '.' + nb_path.stem\n",
                "            break\n",
                "\n",
                "    if nb_format is None:\n",
                "        typer.echo(f\"Error: '{nb_path}' is not inside any code location.\")\n",
                "        raise typer.Abort()\n",
                "\n",
                "    if nb_path.exists():\n",
                "        typer.echo(f\"Error: '{nb_path}' already exists.\")\n",
                "        raise typer.Abort()\n",
                "\n",
                "    with tempfile.NamedTemporaryFile(suffix='.pct.py') as tmp_nb:\n",
                "        lib_cl_key = get_downstream_module(config, cl_key)\n",
                "        lib_name = Path(config.code_locations[lib_cl_key].path).stem if lib_cl_key is not None else None\n",
                "        import_path = None if lib_name is None else f\"{lib_name}.{mod_name}\"\n",
                "            \n",
                "        pct_template_path = nblite_assets_path / \"default_nb.pct.py.jinja\"\n",
                "        pct_template = Template(pct_template_path.read_text())\n",
                "        pct_content = pct_template.render(\n",
                "            nb_title=nb_title,\n",
                "            mod_name=mod_name,\n",
                "            import_path=import_path,\n",
                "        )\n",
                "        \n",
                "        tmp_nb.write(pct_content.encode())\n",
                "        tmp_nb.flush()\n",
                "        nb_path.parent.mkdir(parents=True, exist_ok=True)\n",
                "        convert_nb(tmp_nb.name, nb_path, nb_format=\"percent\", dest_format=nb_format)\n",
                "        \n",
                "    typer.echo(f\"Created {nb_path}\")"
            ]
        },
        {
            "cell_type": "code",
            "execution_count": null,
            "metadata": {},
            "outputs": [
                {
                    "name": "stdout",
                    "output_type": "stream",
                    "text": [
                        "Created /Users/lukastk/dev/2025-03-05_00__nblite/test_proj/nbs/test.ipynb\n"
                    ]
                }
            ],
            "source": [
                "#|hide\n",
                "cli_new(\n",
                "    '../../test_proj/nbs/test.ipynb',\n",
                "    root_path='../../test_proj'\n",
                ")"
            ]
        },
        {
            "cell_type": "code",
            "execution_count": null,
            "metadata": {},
            "outputs": [],
            "source": [
                "#|hide\n",
                "!rm ../../test_proj/nbs/test.ipynb"
            ]
        },
        {
            "cell_type": "markdown",
            "metadata": {},
            "source": [
                "## `nbl clean`"
            ]
        },
        {
            "cell_type": "code",
            "execution_count": null,
            "metadata": {},
            "outputs": [],
            "source": [
                "#|export\n",
                "@app.command(name='clean')\n",
                "def cli_clean(\n",
                "    nb_paths: Annotated[Union[List[str], None], Argument(help=\"Specify the jupyter notebooks to clean. If omitted, all ipynb files in the project's code locations will be cleaned.\")] = None,\n",
                "    remove_outputs: Annotated[bool, Option(help=\"Remove the outputs from the notebook.\")]=False,\n",
                "    remove_cell_metadata: Annotated[bool, Option(help=\"Remove the metadata from the notebook.\")]=True,\n",
                "    remove_top_metadata: Annotated[bool, Option(help=\"Remove the top-level metadata from the notebook.\")]=False,\n",
                "    root_path: Annotated[Union[str,None], Option(\"-r\", \"--root\", help=\"The root path of the project. If not provided, the project root will be determined by searching for a nblite.toml file.\")] = None,\n",
                "    ignore_underscores: Annotated[bool, Option(\"-i\", \"--ignore-underscores\", help=\"Ignore notebooks that begin with an underscore in their filenames or in their parent folders.\")] = False,\n",
                "):\n",
                "    \"\"\"\n",
                "    Clean notebooks in an nblite project by removing outputs and metadata.\n",
                "    \n",
                "    If `nb_path` is not provided, all notebooks in the project will be cleaned.\n",
                "    \"\"\"\n",
                "    if root_path is None:\n",
                "        if nb_paths is not None: root_path = Path(nb_paths[0]).parent\n",
                "        root_path, config = get_project_root_and_config(root_path)\n",
                "    else:\n",
                "        root_path = Path(root_path)\n",
                "        config = read_config(root_path / nblite_config_file_name)\n",
                "    \n",
                "    if nb_paths is None:\n",
                "        nb_paths = []\n",
                "        for cl in config.code_locations.values():\n",
                "            if cl.format != 'ipynb': continue\n",
                "            nb_paths.extend(get_code_location_nbs(root_path, cl, ignore_underscores=ignore_underscores))\n",
                "\n",
                "    for nb_path in nb_paths:\n",
                "        clean_ipynb(nb_path=nb_path, remove_outputs=remove_outputs, remove_cell_metadata=remove_cell_metadata, remove_top_metadata=remove_top_metadata)"
            ]
        },
        {
            "cell_type": "markdown",
            "metadata": {},
            "source": [
                "## `nbl fill`"
            ]
        },
        {
            "cell_type": "code",
            "execution_count": null,
            "metadata": {},
            "outputs": [],
            "source": [
                "#|export\n",
                "@app.command(name='fill')\n",
                "def cli_fill(\n",
                "    nb_paths: Annotated[Union[List[str], None], Argument(help=\"Specify the jupyter notebooks to fill. If omitted, all ipynb files in the project's code locations will be filled.\")] = None,\n",
                "    remove_prev_outputs: Annotated[bool, Option(\"-r\", \"--remove-prev-outputs\", help=\"Remove the pre-existing outputs from the notebooks.\")]=False,\n",
                "    remove_cell_metadata: Annotated[bool, Option(\"-m\", \"--remove-metadata\", help=\"Remove the metadata from notebook cells.\")]=True,\n",
                "    root_path: Annotated[Union[str,None], Option(\"-r\", \"--root\", help=\"The root path of the project. If not provided, the project root will be determined by searching for a nblite.toml file.\")] = None,\n",
                "    cell_exec_timeout: Annotated[Union[int,None], Option(\"-t\", \"--timeout\", help=\"The timeout for the cell execution.\")] = None,\n",
                "    ignore_underscores: Annotated[bool, Option(\"-i\", \"--ignore-underscores\", help=\"Ignore notebooks that begin with an underscore in their filenames or in their parent folders.\")] = False,\n",
                "    ignore_periods: Annotated[bool, Option(\"-p\", \"--ignore-periods\", help=\"Ignore notebooks that begin with a period in their filenames or in their parent folders.\")] = True,\n",
                "    dry_run: Annotated[bool, Option(help=\"Dry run the command.\")] = False,\n",
                "    n_workers: Annotated[int, Option(\"-n\", \"--n-workers\", help=\"The number of workers to use.\")] = 4,\n",
                "    allow_export_during: Annotated[bool, Option(\"--allow-export-during\", help=\"Allow export during the command.\")] = False,\n",
                "    fill_unchanged: Annotated[bool, Option(\"-f\", \"--fill-unchanged\", help=\"Fill the notebook even if the source has not changed.\")] = False,\n",
                "):\n",
                "    \"\"\"\n",
                "    Clean notebooks in an nblite project by removing outputs and metadata.\n",
                "    \n",
                "    If `nb_path` is not provided, all notebooks in the project will be cleaned.\n",
                "    \"\"\"\n",
                "    \n",
                "    if not allow_export_during:\n",
                "        os.environ[DISABLE_NBLITE_EXPORT_ENV_VAR] = 'false' # Disable export for the duration of the command, as it can interfere with the execution of the notebooks\n",
                "    \n",
                "    if root_path is None:\n",
                "        if nb_paths is not None: root_path = Path(nb_paths[0]).parent\n",
                "        root_path, config = get_project_root_and_config(root_path)\n",
                "    else:\n",
                "        root_path = Path(root_path)\n",
                "        config = read_config(root_path / nblite_config_file_name)\n",
                "    \n",
                "    if nb_paths is None:\n",
                "        nb_paths = []\n",
                "        for cl in config.code_locations.values():\n",
                "            if cl.format != 'ipynb': continue\n",
                "            nb_paths.extend(get_code_location_nbs(root_path, cl, ignore_underscores=ignore_underscores, ignore_periods=ignore_periods))\n",
                "    nb_paths = [Path(p).resolve() for p in nb_paths]\n",
                "    nb_paths.sort()\n",
                "        \n",
                "    nb_exceptions = {}\n",
                "        \n",
                "    def process_notebook(nb_path):\n",
                "        task_statuses[nb_path] = ('\u25b6\ufe0f', 'Executing')\n",
                "        rel_path = nb_path.relative_to(root_path)\n",
                "        \n",
                "        try:\n",
                "            fill_ipynb(nb_path, cell_exec_timeout, remove_prev_outputs, remove_cell_metadata, dry_run=dry_run)\n",
                "        except BaseException as e:\n",
                "            task_statuses[nb_path] = ('\u274c', 'Error')\n",
                "            nb_exceptions[nb_path] = e\n",
                "            return\n",
                "        task_statuses[nb_path] = ('\u2705', 'Filled')\n",
                "    \n",
                "    import rich\n",
                "    from rich.live import Live\n",
                "    from rich.table import Table\n",
                "    from rich.panel import Panel\n",
                "    from concurrent.futures import ThreadPoolExecutor, as_completed\n",
                "    \n",
                "    tasks = nb_paths.copy()\n",
                "    task_statuses = {task: ('\u2026', 'In queue') for task in tasks}\n",
                "    \n",
                "    # Remove notebooks that have not changed\n",
                "    if not fill_unchanged:\n",
                "        for nb_path in nb_paths:\n",
                "            _, has_changed = get_nb_source_and_output_hash(nb_path)\n",
                "            if not has_changed:\n",
                "                task_statuses[nb_path] = ('\u23ed\ufe0f', 'Skipped (unchanged)')\n",
                "                tasks.remove(nb_path)\n",
                "    \n",
                "    def make_table():\n",
                "        table = Table(title=\"Filling notebooks\") if not dry_run else Table(title=\"Filling notebooks (dry run)\")\n",
                "        table.add_column(\"Notebook\")\n",
                "        table.add_column(\"Status\")\n",
                "        table.add_column(\"Status (desc)\")\n",
                "        for nb_path in nb_paths:\n",
                "            table.add_row(nb_path.relative_to(root_path).as_posix(), *task_statuses[nb_path])\n",
                "        return table\n",
                "    \n",
                "    with Live(make_table(), refresh_per_second=4) as live:\n",
                "        with ThreadPoolExecutor(max_workers=n_workers) as executor:\n",
                "            futures = {executor.submit(process_notebook, task): task for task in tasks}\n",
                "            for future in as_completed(futures):\n",
                "                live.update(make_table())\n",
                "               \n",
                "    if nb_exceptions: print('\\n\\n')\n",
                "    for nb_path, e in nb_exceptions.items():\n",
                "        rich.print(Panel(f\"[bold purple]Error in '{nb_path.relative_to(root_path).as_posix()}'\", expand=False))\n",
                "        typer.echo(e)\n",
                "        typer.echo('\\n')"
            ]
        },
        {
            "cell_type": "markdown",
            "metadata": {},
            "source": [
                "## `nbl test`"
            ]
        },
        {
            "cell_type": "code",
            "execution_count": null,
            "metadata": {},
            "outputs": [],
            "source": [
                "#|export\n",
                "@app.command(name='test')\n",
                "def cli_test(\n",
                "    nb_paths: Annotated[Union[List[str], None], Argument(help=\"Specify the jupyter notebooks to fill. If omitted, all ipynb files in the project's code locations will be filled.\")] = None,\n",
                "    root_path: Annotated[Union[str,None], Option(\"-r\", \"--root\", help=\"The root path of the project. If not provided, the project root will be determined by searching for a nblite.toml file.\")] = None,\n",
                "    cell_exec_timeout: Annotated[Union[int,None], Option(\"-t\", \"--timeout\", help=\"The timeout for the cell execution.\")] = None,\n",
                "    ignore_underscores: Annotated[bool, Option(\"-i\", \"--ignore-underscores\", help=\"Ignore notebooks that begin with an underscore in their filenames or in their parent folders.\")] = False,\n",
                "):\n",
                "    \"\"\"\n",
                "    Alias for `nbl fill --dry-run`. Used to test that all cells in the notebooks can be executed without errors.\n",
                "    \"\"\"\n",
                "    cli_fill(nb_paths=nb_paths, root_path=root_path, dry_run=True, cell_exec_timeout=cell_exec_timeout, ignore_underscores=ignore_underscores)"
            ]
        },
        {
            "cell_type": "markdown",
            "metadata": {},
            "source": [
                "## `nbl validate-staging`"
            ]
        },
        {
            "cell_type": "code",
            "execution_count": null,
            "metadata": {},
            "outputs": [],
            "source": [
                "#|export\n",
                "@app.command(name='validate-staging')\n",
                "def cli_validate_staging(\n",
                "    root_path: Annotated[Union[str,None], Option(\"-r\", \"--root\", help=\"The root path of the project. If not provided, the project root will be determined by searching for a nblite.toml file.\")] = None\n",
                "):\n",
                "    \"\"\"\n",
                "    Validate the staging of the project.\n",
                "    \n",
                "    The staging is valid if all notebooks are clean and the twins of all notebooks that are staged have no unstaged changes.\n",
                "    \n",
                "    The command will exit with code 1 if the staging is invalid.\n",
                "    \"\"\"\n",
                "    \n",
                "    if root_path is None:\n",
                "        root_path, config = get_project_root_and_config()\n",
                "    else:\n",
                "        root_path = Path(root_path)\n",
                "        config = read_config(root_path / nblite_config_file_name)\n",
                "    \n",
                "    unclean_nbs = []\n",
                "    for cl in config.code_locations.values():\n",
                "        if cl.format != 'ipynb': continue\n",
                "        cl_nbs = get_code_location_nbs(root_path, cl, ignore_underscores=False)\n",
                "        for nb_path in cl_nbs:\n",
                "            if not is_file_staged(nb_path): continue\n",
                "            with tempfile.NamedTemporaryFile(suffix='.ipynb') as tmp_file:\n",
                "                rel_nb_path = get_relative_path('.', nb_path)\n",
                "                subprocess.run(['git', 'show', f':{rel_nb_path}'], stdout=tmp_file)\n",
                "                if is_nb_unclean(tmp_file.name):\n",
                "                    unclean_nbs.append(nb_path)\n",
                "            \n",
                "    if unclean_nbs:\n",
                "        unclean_nbs_str = \"\\n\".join([f\" - {fp}\" for fp in unclean_nbs])\n",
                "        typer.echo(f\"Error: The following staged notebooks are not clean:\\n{unclean_nbs_str}\\n\", err=True)\n",
                "        typer.echo(\"Please run `nbl clean` and re-stage the notebooks.\")\n",
                "        raise typer.Exit(code=1)\n",
                "        \n",
                "    unstaged_nb_twins = get_unstaged_nb_twins()\n",
                "    if unstaged_nb_twins:\n",
                "        typer.echo(\"There are staged notebooks that have unstaged twins.\\n\", err=True)\n",
                "        \n",
                "        for tg in unstaged_nb_twins:\n",
                "            staged_str = \"\\n\".join([f' - {fp}' for fp in tg['staged']])\n",
                "            unstaged_str = \"\\n\".join([f' - {fp}' for fp in tg['unstaged']])\n",
                "            typer.echo(f\"The following staged notebooks...\\n{staged_str}\")\n",
                "            typer.echo(f\"have the corresponding unstaged twins:\\n{unstaged_str}\")\n",
                "            typer.echo()\n",
                "            \n",
                "        typer.echo(\"Remember to run `nbl clean` before git adding notebooks.\")\n",
                "            \n",
                "        raise typer.Exit(code=1)"
            ]
        },
        {
            "cell_type": "markdown",
            "metadata": {},
            "source": [
                "## `nbl install-hooks`"
            ]
        },
        {
            "cell_type": "code",
            "execution_count": null,
            "metadata": {},
            "outputs": [],
            "source": [
                "#|export\n",
                "@app.command(name='install-hooks')\n",
                "def cli_install_hooks(\n",
                "    root_path: Annotated[Union[str,None], Option(\"-r\", \"--root\", help=\"The root path of the project. If not provided, the project root will be determined by searching for a nblite.toml file.\")] = None\n",
                "):\n",
                "    \"\"\"\n",
                "    Install the git hooks for the project.\n",
                "    \"\"\"\n",
                "    if root_path is None:\n",
                "        root_path, _ = get_project_root_and_config()\n",
                "    root_path = Path(root_path)\n",
                "    git_root_path = Path(get_git_root())\n",
                "    \n",
                "    if root_path.resolve().as_posix() != git_root_path.resolve().as_posix():\n",
                "        typer.echo(\"Error: The project root is not the git root.\")\n",
                "        raise typer.Abort()\n",
                "    \n",
                "    hooks_path = git_root_path / '.git/hooks'\n",
                "    pre_commit_hook_path = hooks_path / 'pre-commit'\n",
                "    \n",
                "    if pre_commit_hook_path.exists():\n",
                "        typer.echo(f\"Error: A pre-commit hook at {pre_commit_hook_path} already exists.\")\n",
                "        raise typer.Abort()\n",
                "    \n",
                "    with open(pre_commit_hook_path, 'w') as f:\n",
                "        f.write((nblite_assets_path / \"pre-commit.sh\").read_text())\n",
                "        \n",
                "    # Make the pre-commit hook executable\n",
                "    pre_commit_hook_path.chmod(pre_commit_hook_path.stat().st_mode | 0o111)"
            ]
        },
        {
            "cell_type": "markdown",
            "metadata": {},
            "source": [
                "## `nbl git-add`"
            ]
        },
        {
            "cell_type": "code",
            "execution_count": null,
            "metadata": {},
            "outputs": [],
            "source": [
                "#|exporti\n",
                "def _get_nbs(ctx: typer.Context):\n",
                "    root_path, config = get_project_root_and_config()\n",
                "    top_cl_keys = get_top_level_code_locations(config)\n",
                "    top_level_nbs = []\n",
                "    for cl_key in top_cl_keys:\n",
                "        cl = config.code_locations[cl_key]\n",
                "        nbs = get_code_location_nbs(root_path, cl)\n",
                "        for nb in nbs:\n",
                "            yield Path(nb).relative_to(root_path).as_posix()"
            ]
        },
        {
            "cell_type": "code",
            "execution_count": null,
            "metadata": {},
            "outputs": [],
            "source": [
                "#|export\n",
                "@app.command(name='git-add')\n",
                "def cli_git_add(\n",
                "    file_paths: Annotated[List[str], Argument(help=\"The file paths to add to the staging area.\", autocompletion=_get_nbs)],\n",
                "    extra_args: Annotated[List[str], Option(\"--\", help=\"Extra arguments to pass to git add.\")] = [],\n",
                "):\n",
                "    \"\"\"\n",
                "    Like `git add`, but also runs `nbl export`, cleans any notebooks that are passed, and stages their twins.\n",
                "    \"\"\"\n",
                "    \n",
                "    root_path, config = get_project_root_and_config()\n",
                "    cli_export()\n",
                "    \n",
                "    for fp in list(file_paths):\n",
                "        if not is_code_loc_nb(fp, root_path, config): continue\n",
                "        if not Path(fp).exists():\n",
                "            typer.echo(f\"Error: The file {fp} does not exist.\")\n",
                "            raise typer.Abort()\n",
                "        file_paths.remove(fp)\n",
                "        twin_paths = get_nb_twin_paths(fp, root_path)\n",
                "        for twin_path in twin_paths:\n",
                "            if not Path(twin_path).as_posix().endswith('.ipynb'): continue\n",
                "            clean_ipynb(twin_path)\n",
                "        twin_paths = [p for p in twin_paths if has_unstaged_changes(p)]\n",
                "        file_paths.extend(twin_paths)\n",
                "    \n",
                "    subprocess.run(['git', 'add', *file_paths, *extra_args])"
            ]
        },
        {
            "cell_type": "markdown",
            "metadata": {},
            "source": [
                "## `nbl clear`"
            ]
        },
        {
            "cell_type": "code",
            "execution_count": null,
            "metadata": {},
            "outputs": [],
            "source": [
                "#|export\n",
                "@app.command(name='clear')\n",
                "def cli_clear_downstream(\n",
                "    code_location: Annotated[Optional[str], Argument(help=\"The code location to clear downstream from.\")] = None,\n",
                "    all: Annotated[bool, Option(help=\"Clear all downstream notebooks.\")] = False\n",
                "):\n",
                "    \"\"\"\n",
                "    Clear a code location or all code locations downstream from the top-level code location.\n",
                "    \"\"\"\n",
                "    root_path, config = get_project_root_and_config()\n",
                "    \n",
                "    if not all and code_location is None:\n",
                "        typer.echo(\"Error: Either --all or a code location must be provided.\")\n",
                "        raise typer.Abort()\n",
                "    \n",
                "    if not all:\n",
                "        clear_code_location(code_location, root_path)\n",
                "    else:\n",
                "        clear_downstream_code_locations(root_path)\n"
            ]
        },
        {
            "cell_type": "markdown",
            "metadata": {},
            "source": [
                "## `nbl prepare`"
            ]
        },
        {
            "cell_type": "code",
            "execution_count": null,
            "metadata": {},
            "outputs": [],
            "source": [
                "#|export\n",
                "@app.command(name='prepare')\n",
                "def cli_prepare(\n",
                "    root_path: Annotated[Union[str,None], Option(\"-r\", \"--root\", help=\"The root path of the project. If not provided, the project root will be determined by searching for a nblite.toml file.\")] = None,\n",
                "    cell_exec_timeout: Annotated[Union[int,None], Option(\"-t\", \"--timeout\", help=\"The timeout for the cell execution.\")] = None,\n",
                "    ignore_underscores: Annotated[bool, Option(\"-i\", \"--ignore-underscores\", help=\"Ignore notebooks that begin with an underscore in their filenames or in their parent folders.\")] = False,\n",
                "    dry_run: Annotated[bool, Option(help=\"Dry run the command.\")] = False,\n",
                "    n_workers: Annotated[int, Option(\"-n\", \"--n-workers\", help=\"The number of workers to use.\")] = 4,\n",
                "    allow_export_during: Annotated[bool, Option(\"--allow-export-during\", help=\"Allow export during the command.\")] = False,\n",
                "    fill_unchanged: Annotated[bool, Option(\"-f\", \"--fill-unchanged\", help=\"Fill the notebook even if the source has not changed.\")] = False,\n",
                "):\n",
                "    \"\"\"\n",
                "    Export, clean, and fill the notebooks in the project.\n",
                "    \"\"\"\n",
                "    typer.echo(\"Exporting notebooks...\")\n",
                "    cli_export(root_path=root_path)\n",
                "    typer.echo(\"Cleaning notebooks...\")\n",
                "    cli_clean(root_path=root_path)\n",
                "    typer.echo(\"Filling notebooks...\")\n",
                "    cli_fill(\n",
                "        root_path=root_path,\n",
                "        allow_export_during=allow_export_during,\n",
                "        cell_exec_timeout=cell_exec_timeout,\n",
                "        ignore_underscores=ignore_underscores,\n",
                "        dry_run=dry_run,\n",
                "        n_workers=n_workers,\n",
                "        fill_unchanged=fill_unchanged,\n",
                "    )\n",
                "    typer.echo(\"Generating README.md...\")\n",
                "    cli_readme(root_path=root_path)"
            ]
        },
        {
            "cell_type": "markdown",
            "metadata": {},
            "source": [
                "## `nbl render-docs`"
            ]
        },
        {
            "cell_type": "code",
            "execution_count": null,
            "metadata": {},
            "outputs": [],
            "source": [
                "#|export\n",
                "@app.command(name='render-docs')\n",
                "def cli_render_docs(\n",
                "    root_path: Annotated[Union[str,None], Option(\"-r\", \"--root\", help=\"The root path of the project. If not provided, the project root will be determined by searching for a nblite.toml file.\")] = None,\n",
                "    docs_cl: Annotated[Optional[str], Option(\"-d\", \"--docs-cl\", help=\"The code location to render the documentation for. If not provided, the code location will be retrieved from the nblite.toml file.\")] = None,\n",
                "    output_folder: Annotated[Optional[str], Option(\"-o\", \"--output-folder\", help=\"The folder to output the documentation to. Default is '_docs'.\")] = '_docs',\n",
                "):\n",
                "    \"\"\"\n",
                "    Render the documentation for the project using Quarto.\n",
                "    \"\"\"\n",
                "    render_docs(output_folder, docs_cl, root_path, verbose=True)"
            ]
        },
        {
            "cell_type": "markdown",
            "metadata": {},
            "source": [
                "## `nbl preview-docs`"
            ]
        },
        {
            "cell_type": "code",
            "execution_count": null,
            "metadata": {},
            "outputs": [],
            "source": [
                "#|export\n",
                "@app.command(name='preview-docs')\n",
                "def cli_render_docs(\n",
                "    root_path: Annotated[Union[str,None], Option(\"-r\", \"--root\", help=\"The root path of the project. If not provided, the project root will be determined by searching for a nblite.toml file.\")] = None,\n",
                "    docs_cl: Annotated[Optional[str], Option(\"-d\", \"--docs-cl\", help=\"The code location to render the documentation for. If not provided, the code location will be retrieved from the nblite.toml file.\")] = None,\n",
                "):\n",
                "    \"\"\"\n",
                "    Preview the documentation for the project using Quarto.\n",
                "    \"\"\"\n",
                "    preview_docs(docs_cl, root_path, verbose=True)"
            ]
        }
    ],
    "metadata": {
        "kernelspec": {
            "display_name": ".venv",
            "language": "python",
            "name": "python3"
        },
        "language_info": {
            "codemirror_mode": {
                "name": "ipython",
                "version": 3
            },
            "file_extension": ".py",
            "mimetype": "text/x-python",
            "name": "python",
            "nbconvert_exporter": "python",
            "pygments_lexer": "ipython3",
            "version": "3.9.6"
        },
        "nblite_source_hash": "53b1a05c3e9cc643ab938e2d6a4c971ae77e651eff140cd81f34c2abf9d63d0f"
    },
    "nbformat": 4,
    "nbformat_minor": 2
}