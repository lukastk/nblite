{
    "cells": [
        {
            "cell_type": "markdown",
            "metadata": {},
            "source": [
                "# nblite\n",
                "\n",
                "> "
            ]
        },
        {
            "cell_type": "markdown",
            "metadata": {},
            "source": [
                "`nblite` is a wrapper around [`nbdev`](https://github.com/AnswerDotAI/nbdev)"
            ]
        }
    ],
    "metadata": {
        "language_info": {
            "codemirror_mode": {
                "name": "ipython",
                "version": 3
            },
            "file_extension": ".py",
            "mimetype": "text/x-python",
            "name": "python",
            "nbconvert_exporter": "python",
            "pygments_lexer": "ipython3",
            "version": "3.9.6"
        },
        "nblite_source_hash": "4f53cda18c2baa0c0354bb5f9a3ecbe5ed12ab4d8e11ba873c2f11161202b945"
    },
    "nbformat": 4,
    "nbformat_minor": 4
}