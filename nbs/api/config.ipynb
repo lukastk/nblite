{
 "cells": [
  {
   "cell_type": "markdown",
   "metadata": {},
   "source": [
    "# config"
   ]
  },
  {
   "cell_type": "code",
   "execution_count": null,
   "metadata": {},
   "outputs": [],
   "source": [
    "#|default_exp config"
   ]
  },
  {
   "cell_type": "code",
   "execution_count": null,
   "metadata": {},
   "outputs": [],
   "source": [
    "#|hide\n",
    "import nbdev; nbdev.nbdev_export()"
   ]
  },
  {
   "cell_type": "code",
   "execution_count": null,
   "metadata": {},
   "outputs": [],
   "source": [
    "#|hide\n",
    "from nbdev.showdoc import show_doc"
   ]
  },
  {
   "cell_type": "code",
   "execution_count": null,
   "metadata": {},
   "outputs": [],
   "source": [
    "#|export\n",
    "import toml\n",
    "from pydantic import BaseModel, field_validator\n",
    "from typing import List, Dict, Union\n",
    "from pathlib import Path\n",
    "\n",
    "from nblite.const import code_loc_key_to_default_formats, nb_formats, nblite_config_file_name, format_to_file_exts, format_to_jupytertext_formats"
   ]
  },
  {
   "cell_type": "code",
   "execution_count": null,
   "metadata": {},
   "outputs": [],
   "source": [
    "import nblite.config"
   ]
  },
  {
   "cell_type": "code",
   "execution_count": null,
   "metadata": {},
   "outputs": [
    {
     "data": {
      "text/markdown": [
       "---\n",
       "\n",
       "### NBLiteConfig\n",
       "\n",
       ">      NBLiteConfig (export_pipeline:List[nblite.config.ExportRule],\n",
       ">                    code_locations:Dict[str,nblite.config.CodeLocation])\n",
       "\n",
       "*Configuration for the NBLite export pipeline.*"
      ],
      "text/plain": [
       "---\n",
       "\n",
       "### NBLiteConfig\n",
       "\n",
       ">      NBLiteConfig (export_pipeline:List[nblite.config.ExportRule],\n",
       ">                    code_locations:Dict[str,nblite.config.CodeLocation])\n",
       "\n",
       "*Configuration for the NBLite export pipeline.*"
      ]
     },
     "execution_count": null,
     "metadata": {},
     "output_type": "execute_result"
    }
   ],
   "source": [
    "show_doc(nblite.config.NBLiteConfig)"
   ]
  },
  {
   "cell_type": "code",
   "execution_count": null,
   "metadata": {},
   "outputs": [],
   "source": [
    "#|export\n",
    "class ExportRule(BaseModel):\n",
    "    from_key: str\n",
    "    to_key: str\n",
    "\n",
    "class CodeLocation(BaseModel):\n",
    "    path: str\n",
    "    format: str\n",
    "    \n",
    "    @property\n",
    "    def file_ext(self) -> str:\n",
    "        return format_to_file_exts[self.format]\n",
    "    \n",
    "    @property\n",
    "    def jupyter_text_format(self) -> str:\n",
    "        return format_to_jupytertext_formats[self.format]\n",
    "\n",
    "class NBLiteConfig(BaseModel):\n",
    "    \"\"\"\n",
    "    Configuration for the NBLite export pipeline.\n",
    "    \"\"\"\n",
    "    export_pipeline: List[ExportRule]\n",
    "    code_locations: Dict[str, CodeLocation]\n",
    "    \n",
    "    def __init__(self, **kwargs):\n",
    "        super().__init__(**kwargs)\n",
    "        self.__post_process()\n",
    "           \n",
    "    @classmethod     \n",
    "    def _has_cycle(cls, rules: List[ExportRule]) -> bool:\n",
    "        # Create a graph from the export rules\n",
    "        graph = {}\n",
    "        for rule in rules:\n",
    "            if rule.from_key not in graph:\n",
    "                graph[rule.from_key] = []\n",
    "            graph[rule.from_key].append(rule.to_key)\n",
    "\n",
    "        visited = set()\n",
    "        rec_stack = set()\n",
    "\n",
    "        def dfs(node: str) -> bool:\n",
    "            if node not in visited:\n",
    "                visited.add(node)\n",
    "                rec_stack.add(node)\n",
    "\n",
    "                for neighbor in graph.get(node, []):\n",
    "                    if neighbor not in visited and dfs(neighbor):\n",
    "                        return True\n",
    "                    elif neighbor in rec_stack:\n",
    "                        return True\n",
    "\n",
    "                rec_stack.remove(node)\n",
    "            return False\n",
    "\n",
    "        for node in graph:\n",
    "            if dfs(node):\n",
    "                return True\n",
    "\n",
    "        return False\n",
    "    \n",
    "    @classmethod\n",
    "    def _order_pipeline(cls, pipeline: List[ExportRule]) -> List[ExportRule]:\n",
    "        ordered_pipeline = []\n",
    "        _pipeline = list(pipeline)\n",
    "        while _pipeline:\n",
    "            next_found = False\n",
    "            for rule in _pipeline:\n",
    "                if all([r.to_key != rule.from_key for r in _pipeline]):\n",
    "                    ordered_pipeline.append(rule)\n",
    "                    _pipeline.remove(rule)\n",
    "                    next_found = True\n",
    "                    break\n",
    "            if not next_found:\n",
    "                raise RuntimeError(\"Cycle in pipeline\")\n",
    "        return ordered_pipeline\n",
    "    \n",
    "    def __post_process(self):\n",
    "        for rule in self.export_pipeline:\n",
    "            # Verify that all export rules from_keys and to_keys are in code_locations\n",
    "            if rule.from_key not in self.code_locations:\n",
    "                raise ValueError(f'\"{rule.from_key}\" not found in code_locations')\n",
    "            if rule.to_key not in self.code_locations:\n",
    "                raise ValueError(f'\"{rule.to_key}\" not found in code_locations')\n",
    "            \n",
    "            # Verify that no export rule is from a module to a notebook\n",
    "            if self.code_locations[rule.from_key].format == \"module\":\n",
    "                raise ValueError(f'Modules can only be exported to, not from.')\n",
    "            \n",
    "        for cl in self.code_locations.values():\n",
    "            if cl.format not in nb_formats:\n",
    "                raise ValueError(f'\"{cl.format}\" is not a valid format')\n",
    "            \n",
    "        if self._has_cycle(self.export_pipeline):\n",
    "            raise ValueError(\"Export pipeline contains a cycle.\")\n",
    "        \n",
    "        self.export_pipeline = self._order_pipeline(self.export_pipeline)"
   ]
  },
  {
   "cell_type": "code",
   "execution_count": null,
   "metadata": {},
   "outputs": [],
   "source": [
    "conf = NBLiteConfig(\n",
    "    export_pipeline=[\n",
    "        ExportRule(from_key=\"nbs\", to_key=\"pts\"),\n",
    "        ExportRule(from_key=\"pts\", to_key=\"lib\"),\n",
    "        ExportRule(from_key=\"test_nbs\", to_key=\"test_pts\"),\n",
    "        ExportRule(from_key=\"test_pts\", to_key=\"test_lib\"),\n",
    "    ],\n",
    "    code_locations={\n",
    "        \"nbs\": CodeLocation(path=\"nbs\", format=\"ipynb\"),\n",
    "        \"pts\": CodeLocation(path=\"pts\", format=\"percent\"),\n",
    "        \"test_nbs\": CodeLocation(path=\"test_nbs\", format=\"ipynb\"),\n",
    "        \"test_pts\": CodeLocation(path=\"test_pts\", format=\"percent\"),\n",
    "        \"lib\": CodeLocation(path=\"my_module\", format=\"module\"),\n",
    "        \"test_lib\": CodeLocation(path=\"test_module\", format=\"module\"),\n",
    "    }\n",
    ")"
   ]
  },
  {
   "cell_type": "code",
   "execution_count": null,
   "metadata": {},
   "outputs": [
    {
     "data": {
      "text/markdown": [
       "---\n",
       "\n",
       "### parse_config_dict\n",
       "\n",
       ">      parse_config_dict (config_dict)"
      ],
      "text/plain": [
       "---\n",
       "\n",
       "### parse_config_dict\n",
       "\n",
       ">      parse_config_dict (config_dict)"
      ]
     },
     "execution_count": null,
     "metadata": {},
     "output_type": "execute_result"
    }
   ],
   "source": [
    "show_doc(nblite.config.parse_config_dict)"
   ]
  },
  {
   "cell_type": "code",
   "execution_count": null,
   "metadata": {},
   "outputs": [],
   "source": [
    "#|export\n",
    "def parse_config_dict(config_dict) -> NBLiteConfig:\n",
    "    if 'export_pipeline' not in config_dict:\n",
    "        raise ValueError(\"'export_pipeline' not found in config\")\n",
    "\n",
    "    # Change key name to match the Pydantic model\n",
    "    if 'cl' in config_dict:\n",
    "        config_dict['code_locations'] = config_dict.pop('cl')\n",
    "    elif 'code_locations' not in config_dict:\n",
    "        config_dict['code_locations'] = {}\n",
    "        \n",
    "    # Process the export pipeline\n",
    "    if isinstance(config_dict['export_pipeline'], str):\n",
    "        _export_pipeline = [rule.strip() for rule in config_dict['export_pipeline'].replace('\\n', ',').split(',') if rule.strip()]\n",
    "        config_dict['export_pipeline'] = [\n",
    "            ExportRule(from_key=rule_str.strip().split('->')[0].strip(), to_key=rule_str.strip().split('->')[1].strip())\n",
    "            for rule_str in _export_pipeline\n",
    "            if rule_str.strip() and not rule_str.strip().startswith('#')\n",
    "        ]\n",
    "    else:\n",
    "        config_dict['export_pipeline'] = [ExportRule(**rule) for rule in config_dict['export_pipeline']]\n",
    "    \n",
    "    # Add default code locations inferred from the export pipeline if they don't exist\n",
    "    for rule in config_dict['export_pipeline']:\n",
    "        if rule.from_key not in config_dict['code_locations'] and rule.from_key in code_loc_key_to_default_formats:\n",
    "            config_dict['code_locations'][rule.from_key] = {}\n",
    "        if rule.to_key not in config_dict['code_locations'] and rule.to_key in code_loc_key_to_default_formats:\n",
    "            config_dict['code_locations'][rule.to_key] = {}\n",
    "\n",
    "    # Fill in path and format of code locations, if possible to infer\n",
    "    for code_loc_key, code_loc_config in config_dict['code_locations'].items():\n",
    "        if 'path' not in code_loc_config:\n",
    "            code_loc_config['path'] = code_loc_key\n",
    "        if 'format' not in code_loc_config:\n",
    "            if code_loc_key in code_loc_key_to_default_formats:\n",
    "                code_loc_config['format'] = code_loc_key_to_default_formats[code_loc_key]\n",
    "            else:\n",
    "                raise ValueError(f\"No default format for code location '{code_loc_key}'\")\n",
    "    \n",
    "    config = NBLiteConfig(**config_dict)\n",
    "    return config"
   ]
  },
  {
   "cell_type": "code",
   "execution_count": null,
   "metadata": {},
   "outputs": [
    {
     "data": {
      "text/plain": [
       "{'export_pipeline': [{'from_key': 'pts', 'to_key': 'lib'},\n",
       "  {'from_key': 'test_nbs', 'to_key': 'test_pts'},\n",
       "  {'from_key': 'test_pts', 'to_key': 'test_lib'}],\n",
       " 'code_locations': {'lib': {'path': 'my_module', 'format': 'module'},\n",
       "  'test_lib': {'path': 'test', 'format': 'module'},\n",
       "  'nbs': {'path': 'nbs', 'format': 'ipynb'},\n",
       "  'pts': {'path': 'pts', 'format': 'percent'},\n",
       "  'test': {'path': 'test', 'format': 'module'},\n",
       "  'test_nbs': {'path': 'test_nbs', 'format': 'ipynb'},\n",
       "  'test_pts': {'path': 'test_pts', 'format': 'percent'}}}"
      ]
     },
     "execution_count": null,
     "metadata": {},
     "output_type": "execute_result"
    }
   ],
   "source": [
    "toml_string = '''\n",
    "export_pipeline = \"\"\"\n",
    "    #nbs->pts\n",
    "    pts ->lib\n",
    "    test_nbs-> test_pts, test_pts->test_lib\n",
    "\"\"\"\n",
    "\n",
    "[cl.lib]\n",
    "path = \"my_module\"\n",
    "format = \"module\"\n",
    "\n",
    "[cl.test_lib]\n",
    "path = \"test\"\n",
    "\n",
    "[cl.nbs]\n",
    "format = \"ipynb\"\n",
    "\n",
    "[cl.pts]\n",
    "format = \"percent\"\n",
    "\n",
    "[cl.test]\n",
    "format = \"module\"\n",
    "\n",
    "[cl.test_nbs]\n",
    "format = \"ipynb\"\n",
    "\n",
    "[cl.test_pts]\n",
    "'''\n",
    "\n",
    "parse_config_dict(toml.loads(toml_string)).model_dump()"
   ]
  },
  {
   "cell_type": "code",
   "execution_count": null,
   "metadata": {},
   "outputs": [
    {
     "data": {
      "text/plain": [
       "{'export_pipeline': [{'from_key': 'pts', 'to_key': 'lib'}],\n",
       " 'code_locations': {'pts': {'path': 'pts', 'format': 'percent'},\n",
       "  'lib': {'path': 'lib', 'format': 'module'}}}"
      ]
     },
     "execution_count": null,
     "metadata": {},
     "output_type": "execute_result"
    }
   ],
   "source": [
    "toml_string = '''\n",
    "export_pipeline = \"\"\"\n",
    "    pts ->lib\n",
    "\"\"\"\n",
    "'''\n",
    "\n",
    "parse_config_dict(toml.loads(toml_string)).model_dump()"
   ]
  },
  {
   "cell_type": "code",
   "execution_count": null,
   "metadata": {},
   "outputs": [
    {
     "data": {
      "text/markdown": [
       "---\n",
       "\n",
       "### _find_config_file\n",
       "\n",
       ">      _find_config_file (curr_folder:pathlib.Path)"
      ],
      "text/plain": [
       "---\n",
       "\n",
       "### _find_config_file\n",
       "\n",
       ">      _find_config_file (curr_folder:pathlib.Path)"
      ]
     },
     "execution_count": null,
     "metadata": {},
     "output_type": "execute_result"
    }
   ],
   "source": [
    "show_doc(nblite.config._find_config_file)"
   ]
  },
  {
   "cell_type": "code",
   "execution_count": null,
   "metadata": {},
   "outputs": [],
   "source": [
    "#|exporti\n",
    "def _find_config_file(curr_folder: Path) -> str:\n",
    "    curr_folder = curr_folder.resolve()\n",
    "    if (curr_folder / nblite_config_file_name).exists():\n",
    "        return curr_folder / nblite_config_file_name\n",
    "    else:\n",
    "        if curr_folder.parent == curr_folder or curr_folder == Path('~').expanduser():\n",
    "            return None\n",
    "        else:\n",
    "            return _find_config_file(curr_folder.parent)\n"
   ]
  },
  {
   "cell_type": "code",
   "execution_count": null,
   "metadata": {},
   "outputs": [
    {
     "data": {
      "text/plain": [
       "Path('/Users/lukastk/dev-proj/nblite/test_proj/nblite.toml')"
      ]
     },
     "execution_count": null,
     "metadata": {},
     "output_type": "execute_result"
    }
   ],
   "source": [
    "_find_config_file(Path('../../test_proj'))"
   ]
  },
  {
   "cell_type": "code",
   "execution_count": null,
   "metadata": {},
   "outputs": [
    {
     "data": {
      "text/markdown": [
       "---\n",
       "\n",
       "### read_config\n",
       "\n",
       ">      read_config (path)"
      ],
      "text/plain": [
       "---\n",
       "\n",
       "### read_config\n",
       "\n",
       ">      read_config (path)"
      ]
     },
     "execution_count": null,
     "metadata": {},
     "output_type": "execute_result"
    }
   ],
   "source": [
    "show_doc(nblite.config.read_config)"
   ]
  },
  {
   "cell_type": "code",
   "execution_count": null,
   "metadata": {},
   "outputs": [],
   "source": [
    "#|export\n",
    "def read_config(path) -> NBLiteConfig:\n",
    "    with open(path, 'r') as f:\n",
    "        return parse_config_dict(toml.loads(f.read()))"
   ]
  },
  {
   "cell_type": "code",
   "execution_count": null,
   "metadata": {},
   "outputs": [
    {
     "data": {
      "text/plain": [
       "NBLiteConfig(export_pipeline=[ExportRule(from_key='nbs', to_key='pcts'), ExportRule(from_key='pcts', to_key='lgts'), ExportRule(from_key='lgts', to_key='lib')], code_locations={'lib': CodeLocation(path='my_module', format='module'), 'pcts': CodeLocation(path='pcts', format='percent'), 'lgts': CodeLocation(path='lgts', format='light'), 'nbs': CodeLocation(path='nbs', format='ipynb')})"
      ]
     },
     "execution_count": null,
     "metadata": {},
     "output_type": "execute_result"
    }
   ],
   "source": [
    "read_config('../../test_proj/nblite.toml')"
   ]
  },
  {
   "cell_type": "code",
   "execution_count": null,
   "metadata": {},
   "outputs": [
    {
     "data": {
      "text/markdown": [
       "---\n",
       "\n",
       "### get_project_root_and_config\n",
       "\n",
       ">      get_project_root_and_config (curr_folder:Optional[pathlib.Path]=None)"
      ],
      "text/plain": [
       "---\n",
       "\n",
       "### get_project_root_and_config\n",
       "\n",
       ">      get_project_root_and_config (curr_folder:Optional[pathlib.Path]=None)"
      ]
     },
     "execution_count": null,
     "metadata": {},
     "output_type": "execute_result"
    }
   ],
   "source": [
    "show_doc(nblite.config.get_project_root_and_config)"
   ]
  },
  {
   "cell_type": "code",
   "execution_count": null,
   "metadata": {},
   "outputs": [],
   "source": [
    "#|export\n",
    "def get_project_root_and_config(curr_folder:Union[Path, None] = None) -> Path:\n",
    "    curr_folder = Path(curr_folder) if curr_folder is not None else Path('.')\n",
    "    config_path = _find_config_file(curr_folder)\n",
    "    if config_path is None:\n",
    "        raise ValueError(\"No nblite.toml found in the current or any parent directory\")\n",
    "    else:\n",
    "        return config_path.parent, read_config(config_path)"
   ]
  },
  {
   "cell_type": "code",
   "execution_count": null,
   "metadata": {},
   "outputs": [
    {
     "name": "stdout",
     "output_type": "stream",
     "text": [
      "/Users/lukastk/dev-proj/nblite/test_proj\n"
     ]
    }
   ],
   "source": [
    "root_path, config = get_project_root_and_config('../../test_proj')\n",
    "print(root_path)"
   ]
  }
 ],
 "metadata": {
  "kernelspec": {
   "display_name": "python3",
   "language": "python",
   "name": "python3"
  }
 },
 "nbformat": 4,
 "nbformat_minor": 2
}
