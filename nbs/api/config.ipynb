{
    "cells": [
        {
            "cell_type": "markdown",
            "metadata": {},
            "source": [
                "# config"
            ]
        },
        {
            "cell_type": "code",
            "execution_count": null,
            "metadata": {},
            "outputs": [],
            "source": [
                "#|default_exp config"
            ]
        },
        {
            "cell_type": "code",
            "execution_count": null,
            "metadata": {},
            "outputs": [],
            "source": [
                "#|hide\n",
                "import nblite; from nblite import show_doc; nblite.nbl_export()"
            ]
        },
        {
            "cell_type": "code",
            "execution_count": null,
            "metadata": {},
            "outputs": [],
            "source": [
                "#|export\n",
                "import toml\n",
                "from pydantic import BaseModel, field_validator\n",
                "from typing import List, Dict, Union, Optional\n",
                "from pathlib import Path\n",
                "\n",
                "from nblite.const import code_loc_key_to_default_formats, nb_formats, nblite_config_file_name, format_to_file_exts, format_to_jupytext_format"
            ]
        },
        {
            "cell_type": "code",
            "execution_count": null,
            "metadata": {},
            "outputs": [],
            "source": [
                "import nblite.config as this_module"
            ]
        },
        {
            "cell_type": "code",
            "execution_count": null,
            "metadata": {},
            "outputs": [
                {
                    "data": {
                        "text/markdown": [
                            "## NBLiteConfig\n",
                            "\n",
                            "*Inherits from*: `BaseModel`\n",
                            "\n",
                            "---\n",
                            "\n",
                            "<h3>Methods</h3>\n",
                            "\n",
                            "#### __post_process\n",
                            "\n",
                            "```python\n",
                            "__post_process(self)\n",
                            "```\n",
                            "\n",
                            "---\n",
                            "\n",
                            "#### __init__\n",
                            "\n",
                            "```python\n",
                            "__init__(self, **kwargs)\n",
                            "```\n",
                            "\n",
                            "Create a new model by parsing and validating input data from keyword arguments.\n",
                            "\n",
                            "Raises [`ValidationError`][pydantic_core.ValidationError] if the input data cannot be\n",
                            "validated to form a valid model.\n",
                            "\n",
                            "`self` is explicitly positional-only to allow `self` as a field name.\n",
                            "\n",
                            "---\n"
                        ],
                        "text/plain": [
                            "<IPython.core.display.Markdown object>"
                        ]
                    },
                    "execution_count": null,
                    "metadata": {},
                    "output_type": "execute_result"
                }
            ],
            "source": [
                "#|hide\n",
                "show_doc(this_module.NBLiteConfig)"
            ]
        },
        {
            "cell_type": "code",
            "execution_count": null,
            "metadata": {},
            "outputs": [],
            "source": [
                "#|export\n",
                "class ExportRule(BaseModel):\n",
                "    from_key: str\n",
                "    to_key: str\n",
                "\n",
                "class CodeLocation(BaseModel):\n",
                "    path: str\n",
                "    format: str\n",
                "    \n",
                "    @property\n",
                "    def file_ext(self) -> str:\n",
                "        return format_to_file_exts[self.format]\n",
                "    \n",
                "    @property\n",
                "    def jupytext_format(self) -> str:\n",
                "        return format_to_jupytext_format[self.format]\n",
                "\n",
                "class NBLiteConfig(BaseModel):\n",
                "    \"\"\"\n",
                "    Configuration for the NBLite export pipeline.\n",
                "    \"\"\"\n",
                "    export_pipeline: List[ExportRule]\n",
                "    code_locations: Dict[str, CodeLocation]\n",
                "    \n",
                "    docs_cl: Optional[str] = None\n",
                "    docs_title: Optional[str] = None\n",
                "    \n",
                "    def __init__(self, **kwargs):\n",
                "        super().__init__(**kwargs)\n",
                "        self.__post_process()\n",
                "           \n",
                "    @classmethod     \n",
                "    def _has_cycle(cls, rules: List[ExportRule]) -> bool:\n",
                "        # Create a graph from the export rules\n",
                "        graph = {}\n",
                "        for rule in rules:\n",
                "            if rule.from_key not in graph:\n",
                "                graph[rule.from_key] = []\n",
                "            graph[rule.from_key].append(rule.to_key)\n",
                "\n",
                "        visited = set()\n",
                "        rec_stack = set()\n",
                "\n",
                "        def dfs(node: str) -> bool:\n",
                "            if node not in visited:\n",
                "                visited.add(node)\n",
                "                rec_stack.add(node)\n",
                "\n",
                "                for neighbor in graph.get(node, []):\n",
                "                    if neighbor not in visited and dfs(neighbor):\n",
                "                        return True\n",
                "                    elif neighbor in rec_stack:\n",
                "                        return True\n",
                "\n",
                "                rec_stack.remove(node)\n",
                "            return False\n",
                "\n",
                "        for node in graph:\n",
                "            if dfs(node):\n",
                "                return True\n",
                "\n",
                "        return False\n",
                "    \n",
                "    @classmethod\n",
                "    def _order_pipeline(cls, pipeline: List[ExportRule]) -> List[ExportRule]:\n",
                "        ordered_pipeline = []\n",
                "        _pipeline = list(pipeline)\n",
                "        while _pipeline:\n",
                "            next_found = False\n",
                "            for rule in _pipeline:\n",
                "                if all([r.to_key != rule.from_key for r in _pipeline]):\n",
                "                    ordered_pipeline.append(rule)\n",
                "                    _pipeline.remove(rule)\n",
                "                    next_found = True\n",
                "                    break\n",
                "            if not next_found:\n",
                "                raise RuntimeError(\"Cycle in pipeline\")\n",
                "        return ordered_pipeline\n",
                "    \n",
                "    def __post_process(self):\n",
                "        for rule in self.export_pipeline:\n",
                "            # Verify that all export rules from_keys and to_keys are in code_locations\n",
                "            if rule.from_key not in self.code_locations:\n",
                "                raise ValueError(f'\"{rule.from_key}\" not found in code_locations')\n",
                "            if rule.to_key not in self.code_locations:\n",
                "                raise ValueError(f'\"{rule.to_key}\" not found in code_locations')\n",
                "            \n",
                "            # Verify that no export rule is from a module to a notebook\n",
                "            if self.code_locations[rule.from_key].format == \"module\":\n",
                "                raise ValueError(f'Modules can only be exported to, not from.')\n",
                "            \n",
                "        for cl in self.code_locations.values():\n",
                "            if cl.format not in nb_formats:\n",
                "                raise ValueError(f'\"{cl.format}\" is not a valid format')\n",
                "            \n",
                "        if self._has_cycle(self.export_pipeline):\n",
                "            raise ValueError(\"Export pipeline contains a cycle.\")\n",
                "        \n",
                "        self.export_pipeline = self._order_pipeline(self.export_pipeline)"
            ]
        },
        {
            "cell_type": "code",
            "execution_count": null,
            "metadata": {},
            "outputs": [],
            "source": [
                "conf = NBLiteConfig(\n",
                "    docs_cl=\"nbs\",\n",
                "    export_pipeline=[\n",
                "        ExportRule(from_key=\"nbs\", to_key=\"pts\"),\n",
                "        ExportRule(from_key=\"pts\", to_key=\"lib\"),\n",
                "        ExportRule(from_key=\"test_nbs\", to_key=\"test_pts\"),\n",
                "        ExportRule(from_key=\"test_pts\", to_key=\"test_lib\"),\n",
                "    ],\n",
                "    code_locations={\n",
                "        \"nbs\": CodeLocation(path=\"nbs\", format=\"ipynb\"),\n",
                "        \"pts\": CodeLocation(path=\"pts\", format=\"percent\"),\n",
                "        \"test_nbs\": CodeLocation(path=\"test_nbs\", format=\"ipynb\"),\n",
                "        \"test_pts\": CodeLocation(path=\"test_pts\", format=\"percent\"),\n",
                "        \"lib\": CodeLocation(path=\"my_module\", format=\"module\"),\n",
                "        \"test_lib\": CodeLocation(path=\"test_module\", format=\"module\"),\n",
                "    }\n",
                ")"
            ]
        },
        {
            "cell_type": "code",
            "execution_count": null,
            "metadata": {},
            "outputs": [
                {
                    "data": {
                        "text/markdown": [
                            "## parse_config_dict\n",
                            "\n",
                            "```python\n",
                            "parse_config_dict(config_dict) -> NBLiteConfig\n",
                            "```\n",
                            "\n",
                            "---\n"
                        ],
                        "text/plain": [
                            "<IPython.core.display.Markdown object>"
                        ]
                    },
                    "execution_count": null,
                    "metadata": {},
                    "output_type": "execute_result"
                }
            ],
            "source": [
                "#|hide\n",
                "show_doc(this_module.parse_config_dict)"
            ]
        },
        {
            "cell_type": "code",
            "execution_count": null,
            "metadata": {},
            "outputs": [],
            "source": [
                "#|export\n",
                "def parse_config_dict(config_dict) -> NBLiteConfig:\n",
                "    if 'export_pipeline' not in config_dict:\n",
                "        raise ValueError(\"'export_pipeline' not found in config\")\n",
                "\n",
                "    # Change key name to match the Pydantic model\n",
                "    if 'cl' in config_dict:\n",
                "        config_dict['code_locations'] = config_dict.pop('cl')\n",
                "    elif 'code_locations' not in config_dict:\n",
                "        config_dict['code_locations'] = {}\n",
                "        \n",
                "    # Process the export pipeline\n",
                "    if isinstance(config_dict['export_pipeline'], str):\n",
                "        _export_pipeline = [rule.strip() for rule in config_dict['export_pipeline'].replace('\\n', ',').split(',') if rule.strip()]\n",
                "        config_dict['export_pipeline'] = [\n",
                "            ExportRule(from_key=rule_str.strip().split('->')[0].strip(), to_key=rule_str.strip().split('->')[1].strip())\n",
                "            for rule_str in _export_pipeline\n",
                "            if rule_str.strip() and not rule_str.strip().startswith('#')\n",
                "        ]\n",
                "    else:\n",
                "        config_dict['export_pipeline'] = [ExportRule(**rule) for rule in config_dict['export_pipeline']]\n",
                "    \n",
                "    # Add default code locations inferred from the export pipeline if they don't exist\n",
                "    for rule in config_dict['export_pipeline']:\n",
                "        if rule.from_key not in config_dict['code_locations'] and rule.from_key in code_loc_key_to_default_formats:\n",
                "            config_dict['code_locations'][rule.from_key] = {}\n",
                "        if rule.to_key not in config_dict['code_locations'] and rule.to_key in code_loc_key_to_default_formats:\n",
                "            config_dict['code_locations'][rule.to_key] = {}\n",
                "\n",
                "    # Fill in path and format of code locations, if possible to infer\n",
                "    for code_loc_key, code_loc_config in config_dict['code_locations'].items():\n",
                "        if 'path' not in code_loc_config:\n",
                "            code_loc_config['path'] = code_loc_key\n",
                "        if 'format' not in code_loc_config:\n",
                "            if code_loc_key in code_loc_key_to_default_formats:\n",
                "                code_loc_config['format'] = code_loc_key_to_default_formats[code_loc_key]\n",
                "            else:\n",
                "                raise ValueError(f\"No default format for code location '{code_loc_key}'\")\n",
                "    \n",
                "    config = NBLiteConfig(**config_dict)\n",
                "    return config"
            ]
        },
        {
            "cell_type": "code",
            "execution_count": null,
            "metadata": {},
            "outputs": [
                {
                    "data": {
                        "text/plain": [
                            "{'export_pipeline': [{'from_key': 'pts', 'to_key': 'lib'},\n",
                            "  {'from_key': 'test_nbs', 'to_key': 'test_pts'},\n",
                            "  {'from_key': 'test_pts', 'to_key': 'test_lib'}],\n",
                            " 'code_locations': {'lib': {'path': 'my_module', 'format': 'module'},\n",
                            "  'test_lib': {'path': 'test', 'format': 'module'},\n",
                            "  'nbs': {'path': 'nbs', 'format': 'ipynb'},\n",
                            "  'pts': {'path': 'pts', 'format': 'percent'},\n",
                            "  'test': {'path': 'test', 'format': 'module'},\n",
                            "  'test_nbs': {'path': 'test_nbs', 'format': 'ipynb'},\n",
                            "  'test_pts': {'path': 'test_pts', 'format': 'percent'}},\n",
                            " 'docs_cl': 'nbs',\n",
                            " 'docs_title': None}"
                        ]
                    },
                    "execution_count": null,
                    "metadata": {},
                    "output_type": "execute_result"
                }
            ],
            "source": [
                "toml_string = '''\n",
                "export_pipeline = \"\"\"\n",
                "    #nbs->pts\n",
                "    pts ->lib\n",
                "    test_nbs-> test_pts, test_pts->test_lib\n",
                "\"\"\"\n",
                "docs_cl = \"nbs\"\n",
                "\n",
                "[cl.lib]\n",
                "path = \"my_module\"\n",
                "format = \"module\"\n",
                "\n",
                "[cl.test_lib]\n",
                "path = \"test\"\n",
                "\n",
                "[cl.nbs]\n",
                "format = \"ipynb\"\n",
                "\n",
                "[cl.pts]\n",
                "format = \"percent\"\n",
                "\n",
                "[cl.test]\n",
                "format = \"module\"\n",
                "\n",
                "[cl.test_nbs]\n",
                "format = \"ipynb\"\n",
                "\n",
                "[cl.test_pts]\n",
                "'''\n",
                "\n",
                "parse_config_dict(toml.loads(toml_string)).model_dump()"
            ]
        },
        {
            "cell_type": "code",
            "execution_count": null,
            "metadata": {},
            "outputs": [
                {
                    "data": {
                        "text/plain": [
                            "{'export_pipeline': [{'from_key': 'pts', 'to_key': 'lib'}],\n",
                            " 'code_locations': {'pts': {'path': 'pts', 'format': 'percent'},\n",
                            "  'lib': {'path': 'lib', 'format': 'module'}},\n",
                            " 'docs_cl': 'nbs',\n",
                            " 'docs_title': None}"
                        ]
                    },
                    "execution_count": null,
                    "metadata": {},
                    "output_type": "execute_result"
                }
            ],
            "source": [
                "toml_string = '''\n",
                "export_pipeline = \"\"\"\n",
                "    pts ->lib\n",
                "\"\"\"\n",
                "docs_cl = \"nbs\"\n",
                "'''\n",
                "\n",
                "parse_config_dict(toml.loads(toml_string)).model_dump()"
            ]
        },
        {
            "cell_type": "code",
            "execution_count": null,
            "metadata": {},
            "outputs": [
                {
                    "data": {
                        "text/markdown": [
                            "## _find_config_file\n",
                            "\n",
                            "```python\n",
                            "_find_config_file(curr_folder: Path) -> str\n",
                            "```\n",
                            "\n",
                            "---\n"
                        ],
                        "text/plain": [
                            "<IPython.core.display.Markdown object>"
                        ]
                    },
                    "execution_count": null,
                    "metadata": {},
                    "output_type": "execute_result"
                }
            ],
            "source": [
                "#|hide\n",
                "show_doc(this_module._find_config_file)"
            ]
        },
        {
            "cell_type": "code",
            "execution_count": null,
            "metadata": {},
            "outputs": [],
            "source": [
                "#|exporti\n",
                "def _find_config_file(curr_folder: Path) -> str:\n",
                "    curr_folder = curr_folder.resolve()\n",
                "    if (curr_folder / nblite_config_file_name).exists():\n",
                "        return curr_folder / nblite_config_file_name\n",
                "    else:\n",
                "        if curr_folder.parent == curr_folder or curr_folder == Path('~').expanduser():\n",
                "            return None\n",
                "        else:\n",
                "            return _find_config_file(curr_folder.parent)\n"
            ]
        },
        {
            "cell_type": "code",
            "execution_count": null,
            "metadata": {},
            "outputs": [
                {
                    "data": {
                        "text/plain": [
                            "Path('/Users/lukastk/dev-proj/nblite/test_proj/nblite.toml')"
                        ]
                    },
                    "execution_count": null,
                    "metadata": {},
                    "output_type": "execute_result"
                }
            ],
            "source": [
                "_find_config_file(Path('../../test_proj'))"
            ]
        },
        {
            "cell_type": "code",
            "execution_count": null,
            "metadata": {},
            "outputs": [
                {
                    "data": {
                        "text/markdown": [
                            "## read_config\n",
                            "\n",
                            "```python\n",
                            "read_config(path) -> NBLiteConfig\n",
                            "```\n",
                            "\n",
                            "---\n"
                        ],
                        "text/plain": [
                            "<IPython.core.display.Markdown object>"
                        ]
                    },
                    "execution_count": null,
                    "metadata": {},
                    "output_type": "execute_result"
                }
            ],
            "source": [
                "#|hide\n",
                "show_doc(this_module.read_config)"
            ]
        },
        {
            "cell_type": "code",
            "execution_count": null,
            "metadata": {},
            "outputs": [],
            "source": [
                "#|export\n",
                "def read_config(path) -> NBLiteConfig:\n",
                "    with open(path, 'r') as f:\n",
                "        return parse_config_dict(toml.loads(f.read()))"
            ]
        },
        {
            "cell_type": "code",
            "execution_count": null,
            "metadata": {},
            "outputs": [
                {
                    "data": {
                        "text/plain": [
                            "NBLiteConfig(export_pipeline=[ExportRule(from_key='nbs', to_key='pcts'), ExportRule(from_key='pcts', to_key='lgts'), ExportRule(from_key='lgts', to_key='lib')], code_locations={'lib': CodeLocation(path='my_module', format='module'), 'pcts': CodeLocation(path='pcts', format='percent'), 'lgts': CodeLocation(path='lgts', format='light'), 'nbs': CodeLocation(path='nbs', format='ipynb')}, docs_cl='pcts', docs_title='nblite')"
                        ]
                    },
                    "execution_count": null,
                    "metadata": {},
                    "output_type": "execute_result"
                }
            ],
            "source": [
                "read_config('../../test_proj/nblite.toml')"
            ]
        },
        {
            "cell_type": "code",
            "execution_count": null,
            "metadata": {},
            "outputs": [
                {
                    "data": {
                        "text/markdown": [
                            "## get_project_root_and_config\n",
                            "\n",
                            "```python\n",
                            "get_project_root_and_config(curr_folder: typing.Optional[pathlib.Path]) -> Path\n",
                            "```\n",
                            "\n",
                            "---\n"
                        ],
                        "text/plain": [
                            "<IPython.core.display.Markdown object>"
                        ]
                    },
                    "execution_count": null,
                    "metadata": {},
                    "output_type": "execute_result"
                }
            ],
            "source": [
                "#|hide\n",
                "show_doc(this_module.get_project_root_and_config)"
            ]
        },
        {
            "cell_type": "code",
            "execution_count": null,
            "metadata": {},
            "outputs": [],
            "source": [
                "#|export\n",
                "def get_project_root_and_config(curr_folder:Union[Path, None] = None) -> Path:\n",
                "    curr_folder = Path(curr_folder) if curr_folder is not None else Path('.')\n",
                "    if not curr_folder.exists(): raise ValueError(f\"Directory '{curr_folder}' does not exist\")\n",
                "    config_path = _find_config_file(curr_folder)\n",
                "    if config_path is None:\n",
                "        raise ValueError(\"No nblite.toml found in the current or any parent directory\")\n",
                "    else:\n",
                "        return config_path.parent, read_config(config_path)"
            ]
        },
        {
            "cell_type": "code",
            "execution_count": null,
            "metadata": {},
            "outputs": [
                {
                    "name": "stdout",
                    "output_type": "stream",
                    "text": [
                        "/Users/lukastk/dev-proj/nblite/test_proj\n"
                    ]
                }
            ],
            "source": [
                "root_path, config = get_project_root_and_config('../../test_proj')\n",
                "print(root_path)"
            ]
        },
        {
            "cell_type": "code",
            "execution_count": null,
            "metadata": {},
            "outputs": [
                {
                    "data": {
                        "text/markdown": [
                            "## get_top_level_code_locations\n",
                            "\n",
                            "```python\n",
                            "get_top_level_code_locations(config: NBLiteConfig) -> typing.List[str]\n",
                            "```\n",
                            "\n",
                            "Returns the top level code locations in the export pipeline.\n",
                            "\n",
                            "---\n"
                        ],
                        "text/plain": [
                            "<IPython.core.display.Markdown object>"
                        ]
                    },
                    "execution_count": null,
                    "metadata": {},
                    "output_type": "execute_result"
                }
            ],
            "source": [
                "#|hide\n",
                "#|hide\n",
                "show_doc(this_module.get_top_level_code_locations)"
            ]
        },
        {
            "cell_type": "code",
            "execution_count": null,
            "metadata": {},
            "outputs": [],
            "source": [
                "#|export\n",
                "def get_top_level_code_locations(config: NBLiteConfig) -> List[str]:\n",
                "    \"\"\"\n",
                "    Returns the top level code locations in the export pipeline.\n",
                "    \"\"\"\n",
                "    all_to_keys = set([rule.to_key for rule in config.export_pipeline])\n",
                "    return [rule.from_key for rule in config.export_pipeline if rule.from_key not in all_to_keys]"
            ]
        },
        {
            "cell_type": "code",
            "execution_count": null,
            "metadata": {},
            "outputs": [
                {
                    "data": {
                        "text/plain": [
                            "['nbs']"
                        ]
                    },
                    "execution_count": null,
                    "metadata": {},
                    "output_type": "execute_result"
                }
            ],
            "source": [
                "root_path, config = get_project_root_and_config('../../test_proj')\n",
                "get_top_level_code_locations(config)"
            ]
        },
        {
            "cell_type": "code",
            "execution_count": null,
            "metadata": {},
            "outputs": [
                {
                    "data": {
                        "text/markdown": [
                            "## get_downstream_module\n",
                            "\n",
                            "```python\n",
                            "get_downstream_module(config: NBLiteConfig, starting_code_loc_key: str) -> str\n",
                            "```\n",
                            "\n",
                            "Finds the first downstream code location in the export pipeline that is of format 'module'.\n",
                            "\n",
                            "**Arguments:**\n",
                            "- `config` (*NBLiteConfig*): The configuration object containing the export pipeline and code locations.\n",
                            "- `starting_code_loc_key` (*str*): The key of the starting code location.\n",
                            "\n",
                            "**Returns:** *str*: The key of the first downstream code location with format 'module', or None if not found.\n",
                            "\n",
                            "---\n"
                        ],
                        "text/plain": [
                            "<IPython.core.display.Markdown object>"
                        ]
                    },
                    "execution_count": null,
                    "metadata": {},
                    "output_type": "execute_result"
                }
            ],
            "source": [
                "#|hide\n",
                "show_doc(this_module.get_downstream_module)"
            ]
        },
        {
            "cell_type": "code",
            "execution_count": null,
            "metadata": {},
            "outputs": [],
            "source": [
                "#|exporti\n",
                "def get_downstream_module(config: NBLiteConfig, starting_code_loc_key: str) -> str:\n",
                "    \"\"\"\n",
                "    Finds the first downstream code location in the export pipeline that is of format 'module'.\n",
                "\n",
                "    Args:\n",
                "        config (NBLiteConfig): The configuration object containing the export pipeline and code locations.\n",
                "        starting_code_loc_key (str): The key of the starting code location.\n",
                "\n",
                "    Returns:\n",
                "        str: The key of the first downstream code location with format 'module', or None if not found.\n",
                "\n",
                "    Raises:\n",
                "        ValueError: If the starting code location key is not found in the configuration.\n",
                "    \"\"\"\n",
                "    def get_next_cl(curr_cl: str) -> ExportRule:\n",
                "        for rule in config.export_pipeline:\n",
                "            if rule.from_key == curr_cl:\n",
                "                return rule.to_key\n",
                "        return None\n",
                "    \n",
                "    if not starting_code_loc_key in config.code_locations:\n",
                "        raise ValueError(f\"Starting code location '{starting_code_loc_key}' not found in config.\")\n",
                "    \n",
                "    curr_cl = starting_code_loc_key\n",
                "    while curr_cl is not None:\n",
                "        if config.code_locations[curr_cl].format == \"module\":\n",
                "            return curr_cl\n",
                "        curr_cl = get_next_cl(curr_cl)\n",
                "    \n",
                "    return None\n"
            ]
        },
        {
            "cell_type": "code",
            "execution_count": null,
            "metadata": {},
            "outputs": [
                {
                    "data": {
                        "text/plain": [
                            "'lib'"
                        ]
                    },
                    "execution_count": null,
                    "metadata": {},
                    "output_type": "execute_result"
                }
            ],
            "source": [
                "config = read_config('../../test_proj/nblite.toml')\n",
                "get_downstream_module(config, 'nbs')"
            ]
        }
    ],
    "metadata": {
        "language_info": {
            "codemirror_mode": {
                "name": "ipython",
                "version": 3
            },
            "file_extension": ".py",
            "mimetype": "text/x-python",
            "name": "python",
            "nbconvert_exporter": "python",
            "pygments_lexer": "ipython3",
            "version": "3.9.6"
        },
        "nblite_source_hash": "48871a0eec6abf89ea0cf65c76b12d810baa723949efa3299cde79cfcf7a90ef"
    },
    "nbformat": 4,
    "nbformat_minor": 2
}