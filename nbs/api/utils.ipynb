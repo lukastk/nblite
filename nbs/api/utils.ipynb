{
    "cells": [
        {
            "cell_type": "markdown",
            "metadata": {},
            "source": [
                "# utils"
            ]
        },
        {
            "cell_type": "code",
            "execution_count": null,
            "metadata": {},
            "outputs": [],
            "source": [
                "#|default_exp utils"
            ]
        },
        {
            "cell_type": "code",
            "execution_count": null,
            "metadata": {},
            "outputs": [],
            "source": [
                "#|hide\n",
                "import nblite; from nblite import show_doc; nblite.nbl_export()"
            ]
        },
        {
            "cell_type": "code",
            "execution_count": null,
            "metadata": {},
            "outputs": [],
            "source": [
                "#|export\n",
                "from pathlib import Path\n",
                "from typing import Union \n",
                "import os\n",
                "\n",
                "from nblite.config import NBLiteConfig, get_project_root_and_config, CodeLocation, read_config\n",
                "from nblite.const import file_exts_to_format, nblite_config_file_name"
            ]
        },
        {
            "cell_type": "code",
            "execution_count": null,
            "metadata": {},
            "outputs": [],
            "source": [
                "import nblite.utils as this_module"
            ]
        },
        {
            "cell_type": "code",
            "execution_count": null,
            "metadata": {},
            "outputs": [
                {
                    "data": {
                        "text/markdown": [
                            "## get_nb_format_from_path\n",
                            "\n",
                            "```python\n",
                            "get_nb_format_from_path(path: str) -> str\n",
                            "```\n",
                            "\n",
                            "---\n"
                        ],
                        "text/plain": [
                            "<IPython.core.display.Markdown object>"
                        ]
                    },
                    "execution_count": null,
                    "metadata": {},
                    "output_type": "execute_result"
                }
            ],
            "source": [
                "#|hide\n",
                "show_doc(this_module.get_nb_format_from_path)"
            ]
        },
        {
            "cell_type": "code",
            "execution_count": null,
            "metadata": {},
            "outputs": [],
            "source": [
                "#|export\n",
                "def get_nb_format_from_path(path: str) -> str:\n",
                "    path = Path(path).as_posix()\n",
                "    for ext, fmt in file_exts_to_format.items():\n",
                "        if path.endswith(f\".{ext}\"): return fmt\n",
                "    return None"
            ]
        },
        {
            "cell_type": "code",
            "execution_count": null,
            "metadata": {},
            "outputs": [
                {
                    "data": {
                        "text/plain": [
                            "'module'"
                        ]
                    },
                    "execution_count": null,
                    "metadata": {},
                    "output_type": "execute_result"
                }
            ],
            "source": [
                "get_nb_format_from_path('file.pct.py')"
            ]
        },
        {
            "cell_type": "code",
            "execution_count": null,
            "metadata": {},
            "outputs": [
                {
                    "data": {
                        "text/markdown": [
                            "## get_nb_path_info\n",
                            "\n",
                            "```python\n",
                            "get_nb_path_info(nb_path: str, root_path: str, config: NBLiteConfig)\n",
                            "```\n",
                            "\n",
                            "---\n"
                        ],
                        "text/plain": [
                            "<IPython.core.display.Markdown object>"
                        ]
                    },
                    "execution_count": null,
                    "metadata": {},
                    "output_type": "execute_result"
                }
            ],
            "source": [
                "#|hide\n",
                "show_doc(this_module.get_nb_path_info)"
            ]
        },
        {
            "cell_type": "code",
            "execution_count": null,
            "metadata": {},
            "outputs": [],
            "source": [
                "#|export\n",
                "def get_nb_path_info(nb_path: str, root_path: str, config: NBLiteConfig):\n",
                "    nb_path = Path(nb_path).resolve()\n",
                "    root_path = Path(root_path).resolve()\n",
                "    rel_nb_path = nb_path.relative_to(root_path)\n",
                "    if not rel_nb_path.parts[0] in [loc.path for loc in config.code_locations.values()]:\n",
                "        raise ValueError(f\"Notebook '{nb_path}' is not in a valid code location.\")\n",
                "        \n",
                "    for loc in config.code_locations.values():\n",
                "        if str(rel_nb_path).startswith(loc.path):\n",
                "            file_ext = loc.file_ext\n",
                "            if not str(rel_nb_path).endswith(file_ext):\n",
                "                raise ValueError(f\"Notebook '{nb_path}' has an invalid file extension.\")\n",
                "            name = Path(str(rel_nb_path)[:-len(f\".{file_ext}\")])\n",
                "            return {\n",
                "                \"name\": name,\n",
                "                \"cl_name\": Path(*name.parts[1:]),\n",
                "                \"basename\": Path(name).stem,\n",
                "                \"format\": loc.format,\n",
                "                \"file_ext\": file_ext,\n",
                "                \"cl_path\": loc.path,\n",
                "            }"
            ]
        },
        {
            "cell_type": "code",
            "execution_count": null,
            "metadata": {},
            "outputs": [
                {
                    "data": {
                        "text/plain": [
                            "{'name': Path('nbs/notebook1'),\n",
                            " 'cl_name': Path('notebook1'),\n",
                            " 'basename': 'notebook1',\n",
                            " 'format': 'ipynb',\n",
                            " 'file_ext': 'ipynb',\n",
                            " 'cl_path': 'nbs'}"
                        ]
                    },
                    "execution_count": null,
                    "metadata": {},
                    "output_type": "execute_result"
                }
            ],
            "source": [
                "root_path = '../../test_proj'\n",
                "root_path, config = get_project_root_and_config(root_path)\n",
                "get_nb_path_info('../../test_proj/nbs/notebook1.ipynb', '../../test_proj', config)"
            ]
        },
        {
            "cell_type": "code",
            "execution_count": null,
            "metadata": {},
            "outputs": [
                {
                    "data": {
                        "text/markdown": [
                            "## is_code_loc_nb\n",
                            "\n",
                            "```python\n",
                            "is_code_loc_nb(nb_path: str, root_path: str, config: NBLiteConfig)\n",
                            "```\n",
                            "\n",
                            "Returns True if the notebook is a notebook associated with a code location.\n",
                            "\n",
                            "---\n"
                        ],
                        "text/plain": [
                            "<IPython.core.display.Markdown object>"
                        ]
                    },
                    "execution_count": null,
                    "metadata": {},
                    "output_type": "execute_result"
                }
            ],
            "source": [
                "#|hide\n",
                "show_doc(this_module.is_code_loc_nb)"
            ]
        },
        {
            "cell_type": "code",
            "execution_count": null,
            "metadata": {},
            "outputs": [],
            "source": [
                "#|export\n",
                "def is_code_loc_nb(nb_path: str, root_path: str, config: NBLiteConfig):\n",
                "    \"\"\"Returns True if the notebook is a notebook associated with a code location.\"\"\"\n",
                "    nb_path = Path(nb_path).resolve()\n",
                "    root_path = Path(root_path).resolve()\n",
                "    try:\n",
                "        rel_nb_path = nb_path.relative_to(root_path)\n",
                "        for loc in config.code_locations.values():\n",
                "            if str(rel_nb_path).startswith(loc.path):\n",
                "                in_cl = True\n",
                "                is_nb = str(rel_nb_path).endswith(loc.file_ext)\n",
                "                return in_cl and is_nb\n",
                "        return False\n",
                "    except ValueError:\n",
                "        return False"
            ]
        },
        {
            "cell_type": "code",
            "execution_count": null,
            "metadata": {},
            "outputs": [
                {
                    "name": "stdout",
                    "output_type": "stream",
                    "text": [
                        "True\n",
                        "False\n",
                        "False\n"
                    ]
                }
            ],
            "source": [
                "root_path = '../../test_proj'\n",
                "print(is_code_loc_nb('../../test_proj/nbs/notebook1.ipynb', root_path, config))\n",
                "print(is_code_loc_nb('../../test_proj/nbs/notebook1.pct.py', root_path, config))\n",
                "print(is_code_loc_nb('../../test_proj/test.txt', root_path, config))"
            ]
        },
        {
            "cell_type": "code",
            "execution_count": null,
            "metadata": {},
            "outputs": [
                {
                    "data": {
                        "text/markdown": [
                            "## get_code_location_nbs\n",
                            "\n",
                            "```python\n",
                            "get_code_location_nbs(\n",
                            "   root_path: str,\n",
                            "   cl: CodeLocation,\n",
                            "   ignore_underscores: bool\n",
                            ")\n",
                            "```\n",
                            "\n",
                            "Returns all notebooks in a code location. If ignore_underscores is True,\n",
                            "\n",
                            "notebooks with underscores in their names, or notebooks in folders that start with underscores, are ignored.\n",
                            "\n",
                            "---\n"
                        ],
                        "text/plain": [
                            "<IPython.core.display.Markdown object>"
                        ]
                    },
                    "execution_count": null,
                    "metadata": {},
                    "output_type": "execute_result"
                }
            ],
            "source": [
                "#|hide\n",
                "show_doc(this_module.get_code_location_nbs)"
            ]
        },
        {
            "cell_type": "code",
            "execution_count": null,
            "metadata": {},
            "outputs": [],
            "source": [
                "#|export\n",
                "def get_code_location_nbs(root_path: str, cl: CodeLocation, ignore_underscores: bool = True):\n",
                "    \"\"\"Returns all notebooks in a code location. If ignore_underscores is True,\n",
                "    notebooks with underscores in their names, or notebooks in folders that start with underscores, are ignored.\"\"\"\n",
                "    \n",
                "    cl_path = Path(root_path) / cl.path\n",
                "    if not cl_path.exists(): raise ValueError(f\"Code location path '{cl_path}' does not exist.\")\n",
                "    \n",
                "    nbs = []\n",
                "    for fp in cl_path.glob('**/*'):\n",
                "        rel_fp = fp.relative_to(cl_path)\n",
                "        if fp.is_file() and fp.name.endswith(cl.file_ext):\n",
                "            if '.ipynb_checkpoints' in rel_fp.parts: continue\n",
                "            if ignore_underscores and any(p.startswith('_') for p in rel_fp.parts): continue\n",
                "            nbs.append(fp)\n",
                "    return nbs"
            ]
        },
        {
            "cell_type": "code",
            "execution_count": null,
            "metadata": {},
            "outputs": [
                {
                    "data": {
                        "text/plain": [
                            "[Path('../../test_proj/nbs/notebook2.ipynb'),\n",
                            " Path('../../test_proj/nbs/notebook1.ipynb'),\n",
                            " Path('../../test_proj/nbs/func_notebook.ipynb'),\n",
                            " Path('../../test_proj/nbs/index.ipynb'),\n",
                            " Path('../../test_proj/nbs/submodule/notebook3.ipynb'),\n",
                            " Path('../../test_proj/nbs/folder/notebook4.ipynb'),\n",
                            " Path('../../test_proj/nbs/folder/subfolder/notebook7.ipynb')]"
                        ]
                    },
                    "execution_count": null,
                    "metadata": {},
                    "output_type": "execute_result"
                }
            ],
            "source": [
                "get_code_location_nbs('../../test_proj', CodeLocation(path='nbs', format='ipynb'))"
            ]
        },
        {
            "cell_type": "code",
            "execution_count": null,
            "metadata": {},
            "outputs": [
                {
                    "data": {
                        "text/plain": [
                            "[Path('../../test_proj/nbs/notebook2.ipynb'),\n",
                            " Path('../../test_proj/nbs/notebook1.ipynb'),\n",
                            " Path('../../test_proj/nbs/func_notebook.ipynb'),\n",
                            " Path('../../test_proj/nbs/_notebook6.ipynb'),\n",
                            " Path('../../test_proj/nbs/index.ipynb'),\n",
                            " Path('../../test_proj/nbs/submodule/notebook3.ipynb'),\n",
                            " Path('../../test_proj/nbs/folder/notebook4.ipynb'),\n",
                            " Path('../../test_proj/nbs/folder/subfolder/notebook7.ipynb'),\n",
                            " Path('../../test_proj/nbs/_scratch/notebook5.ipynb')]"
                        ]
                    },
                    "execution_count": null,
                    "metadata": {},
                    "output_type": "execute_result"
                }
            ],
            "source": [
                "get_code_location_nbs('../../test_proj', CodeLocation(path='nbs', format='ipynb'), ignore_underscores=False)"
            ]
        },
        {
            "cell_type": "code",
            "execution_count": null,
            "metadata": {},
            "outputs": [
                {
                    "data": {
                        "text/markdown": [
                            "## is_nb_unclean\n",
                            "\n",
                            "```python\n",
                            "is_nb_unclean(\n",
                            "   nb_path: typing.Optional[str],\n",
                            "   file_content: typing.Optional[str],\n",
                            "   include_top_metadata: bool\n",
                            ")\n",
                            "```\n",
                            "\n",
                            "---\n"
                        ],
                        "text/plain": [
                            "<IPython.core.display.Markdown object>"
                        ]
                    },
                    "execution_count": null,
                    "metadata": {},
                    "output_type": "execute_result"
                }
            ],
            "source": [
                "#|hide\n",
                "show_doc(this_module.is_nb_unclean)"
            ]
        },
        {
            "cell_type": "code",
            "execution_count": null,
            "metadata": {},
            "outputs": [],
            "source": [
                "#|export\n",
                "def is_nb_unclean(nb_path:Union[str, None]=None, file_content:Union[str, None]=None, include_top_metadata:bool=False):\n",
                "    import nbformat\n",
                "    from nbconvert.preprocessors import ExecutePreprocessor\n",
                "\n",
                "    if nb_path is not None and file_content is not None:\n",
                "        raise ValueError(\"Only one of nb_path or file_content can be provided.\")\n",
                "    \n",
                "    if nb_path is None and file_content is None:\n",
                "        raise ValueError(\"Either nb_path or file_content must be provided.\")\n",
                "\n",
                "    if nb_path:\n",
                "        nb_path = Path(nb_path)\n",
                "        if not nb_path.as_posix().endswith('.ipynb'):\n",
                "            raise ValueError(f\"Error: '{nb_path}' is not a Jupyter notebook file.\")\n",
                "\n",
                "        with open(nb_path) as f:\n",
                "            nb = nbformat.read(f, as_version=4)\n",
                "    else:\n",
                "        nb = nbformat.reads(file_content, as_version=4)\n",
                "\n",
                "    if include_top_metadata: # If `include_top_metadata` is True, the notebook will be considered unclean if it has top-level metadata\n",
                "        if nb.metadata: return True\n",
                "\n",
                "    for cell in nb.cells:\n",
                "        if cell['cell_type'] != 'code': continue\n",
                "        if cell['execution_count'] is not None: return True\n",
                "        if cell.metadata: return True\n",
                "        for output in cell.get('outputs', []):\n",
                "            if 'execution_count' in output and output['execution_count'] is not None: return True\n",
                "            if 'metadata' in output and output['metadata']: return True\n",
                "\n",
                "    return False"
            ]
        },
        {
            "cell_type": "code",
            "execution_count": null,
            "metadata": {},
            "outputs": [
                {
                    "data": {
                        "text/plain": [
                            "False"
                        ]
                    },
                    "execution_count": null,
                    "metadata": {},
                    "output_type": "execute_result"
                }
            ],
            "source": [
                "is_nb_unclean(file_content='{\"cells\":[]}')"
            ]
        },
        {
            "cell_type": "code",
            "execution_count": null,
            "metadata": {},
            "outputs": [
                {
                    "data": {
                        "text/plain": [
                            "False"
                        ]
                    },
                    "execution_count": null,
                    "metadata": {},
                    "output_type": "execute_result"
                }
            ],
            "source": [
                "is_nb_unclean('../../test_proj/nbs/notebook1.ipynb')"
            ]
        },
        {
            "cell_type": "code",
            "execution_count": null,
            "metadata": {},
            "outputs": [
                {
                    "data": {
                        "text/markdown": [
                            "## get_unclean_nbs\n",
                            "\n",
                            "```python\n",
                            "get_unclean_nbs(root_path: str, ignore_underscores: bool)\n",
                            "```\n",
                            "\n",
                            "Get all notebooks that have metadata or execution count.\n",
                            "\n",
                            "**Returns:** *bool*: True if all notebooks are clean, False otherwise.\n",
                            "\n",
                            "---\n"
                        ],
                        "text/plain": [
                            "<IPython.core.display.Markdown object>"
                        ]
                    },
                    "execution_count": null,
                    "metadata": {},
                    "output_type": "execute_result"
                }
            ],
            "source": [
                "#|hide\n",
                "show_doc(this_module.get_unclean_nbs)"
            ]
        },
        {
            "cell_type": "code",
            "execution_count": null,
            "metadata": {},
            "outputs": [],
            "source": [
                "#|export\n",
                "def get_unclean_nbs(root_path: str = None, ignore_underscores: bool = False):\n",
                "    \"\"\"\n",
                "    Get all notebooks that have metadata or execution count.\n",
                "    \n",
                "    Returns:\n",
                "        bool: True if all notebooks are clean, False otherwise.\n",
                "    \"\"\"\n",
                "    if root_path is None:\n",
                "        root_path, config = get_project_root_and_config()\n",
                "    else:\n",
                "        root_path = Path(root_path)\n",
                "        config = read_config(root_path / nblite_config_file_name)\n",
                "    \n",
                "    unclean_nbs = []\n",
                "    for cl in config.code_locations.values():\n",
                "        if not cl.format == 'ipynb': continue\n",
                "        cl_nbs = get_code_location_nbs(root_path, cl, ignore_underscores=ignore_underscores)\n",
                "        unclean_nbs.extend([nb_path.relative_to(root_path) for nb_path in cl_nbs if is_nb_unclean(nb_path)])\n",
                "    return unclean_nbs"
            ]
        },
        {
            "cell_type": "code",
            "execution_count": null,
            "metadata": {},
            "outputs": [
                {
                    "data": {
                        "text/plain": [
                            "[]"
                        ]
                    },
                    "execution_count": null,
                    "metadata": {},
                    "output_type": "execute_result"
                }
            ],
            "source": [
                "get_unclean_nbs('../../test_proj')"
            ]
        },
        {
            "cell_type": "code",
            "execution_count": null,
            "metadata": {},
            "outputs": [
                {
                    "data": {
                        "text/markdown": [
                            "## get_relative_path\n",
                            "\n",
                            "```python\n",
                            "get_relative_path(from_path: str, to_path: str)\n",
                            "```\n",
                            "\n",
                            "Returns the relative path to the root path.\n",
                            "\n",
                            "---\n"
                        ],
                        "text/plain": [
                            "<IPython.core.display.Markdown object>"
                        ]
                    },
                    "execution_count": null,
                    "metadata": {},
                    "output_type": "execute_result"
                }
            ],
            "source": [
                "#|hide\n",
                "show_doc(this_module.get_relative_path)"
            ]
        },
        {
            "cell_type": "code",
            "execution_count": null,
            "metadata": {},
            "outputs": [],
            "source": [
                "#|export\n",
                "def get_relative_path(from_path: str, to_path: str):\n",
                "    \"\"\"Returns the relative path to the root path.\"\"\"\n",
                "    return Path(os.path.relpath(Path(to_path).resolve(), start=Path(from_path).resolve()))"
            ]
        },
        {
            "cell_type": "code",
            "execution_count": null,
            "metadata": {},
            "outputs": [
                {
                    "data": {
                        "text/plain": [
                            "Path('../../../..')"
                        ]
                    },
                    "execution_count": null,
                    "metadata": {},
                    "output_type": "execute_result"
                }
            ],
            "source": [
                "get_relative_path('.', '/Users/lukastk/')"
            ]
        },
        {
            "cell_type": "code",
            "execution_count": null,
            "metadata": {},
            "outputs": [
                {
                    "data": {
                        "text/markdown": [
                            "## _root_path_and_config_helper\n",
                            "\n",
                            "```python\n",
                            "_root_path_and_config_helper(\n",
                            "   root_path: typing.Optional[str],\n",
                            "   config_path: typing.Optional[str]\n",
                            ") -> tuple\n",
                            "```\n",
                            "\n",
                            "---\n"
                        ],
                        "text/plain": [
                            "<IPython.core.display.Markdown object>"
                        ]
                    },
                    "execution_count": null,
                    "metadata": {},
                    "output_type": "execute_result"
                }
            ],
            "source": [
                "#|hide\n",
                "show_doc(this_module._root_path_and_config_helper)"
            ]
        },
        {
            "cell_type": "code",
            "execution_count": null,
            "metadata": {},
            "outputs": [],
            "source": [
                "#|exporti\n",
                "def _root_path_and_config_helper(root_path:Union[str,None] = None, config_path:Union[str,None] = None) -> tuple[Path,dict]:\n",
                "    if root_path is None:\n",
                "        root_path, config = get_project_root_and_config()\n",
                "    else:\n",
                "        root_path = Path(root_path)\n",
                "        config = read_config(root_path / nblite_config_file_name)\n",
                "        \n",
                "    if config_path: # If config_path is provided, use it instead of the config file in the root folder\n",
                "        config = read_config(config_path)\n",
                "        \n",
                "    return root_path, config"
            ]
        }
    ],
    "metadata": {
        "language_info": {
            "codemirror_mode": {
                "name": "ipython",
                "version": 3
            },
            "file_extension": ".py",
            "mimetype": "text/x-python",
            "name": "python",
            "nbconvert_exporter": "python",
            "pygments_lexer": "ipython3",
            "version": "3.9.6"
        },
        "nblite_source_hash": "af824f378734847b2f93e0d67d46444872dc9277a695ab04245c8557e3747849"
    },
    "nbformat": 4,
    "nbformat_minor": 2
}